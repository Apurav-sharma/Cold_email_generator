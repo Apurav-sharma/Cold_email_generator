{
 "cells": [
  {
   "cell_type": "code",
   "execution_count": 1,
   "metadata": {},
   "outputs": [],
   "source": [
    "from langchain_groq import ChatGroq\n",
    "from langchain.vectorstores import FAISS\n",
    "import langchain"
   ]
  },
  {
   "cell_type": "code",
   "execution_count": 2,
   "metadata": {},
   "outputs": [],
   "source": [
    "llm = ChatGroq(\n",
    "    model_name = \"llama-3.3-70b-versatile\",\n",
    "    temperature = 0.9,\n",
    "    groq_api_key = \"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\"\n",
    ")"
   ]
  },
  {
   "cell_type": "code",
   "execution_count": 3,
   "metadata": {},
   "outputs": [
    {
     "name": "stdout",
     "output_type": "stream",
     "text": [
      "**Artificial Intelligence (AI) Log: Understanding the Future of Technology**\n",
      "\n",
      "As we continue to advance in the realm of technology, it has become increasingly evident that Artificial Intelligence (AI) is playing a pivotal role in shaping our world. From simple chatbots to complex machines capable of learning and decision-making, AI has invaded every aspect of our lives. In this log, we will delve into the world of AI, exploring its history, applications, and the impact it has on our society.\n",
      "\n",
      "**A Brief History of AI**\n",
      "\n",
      "The concept of AI dates back to the mid-20th century, when computer scientists like Alan Turing, Marvin Minsky, and John McCarthy began exploring the idea of creating intelligent machines. The term \"Artificial Intelligence\" was first coined in 1956, during a conference at Dartmouth College. Over the years, AI has evolved from simple rule-based systems to complex machine learning algorithms that enable machines to learn from experience.\n",
      "\n",
      "**Applications of AI**\n",
      "\n",
      "AI has numerous applications across various industries, including:\n",
      "\n",
      "1. **Healthcare**: AI is being used to diagnose diseases, develop personalized treatment plans, and improve patient outcomes.\n",
      "2. **Finance**: AI-powered systems are being used to detect fraud, predict stock market trends, and provide personalized investment advice.\n",
      "3. **Transportation**: AI is being used to develop autonomous vehicles, optimize traffic flow, and improve logistics management.\n",
      "4. **Education**: AI-powered systems are being used to develop personalized learning plans, automate grading, and enhance student engagement.\n",
      "5. **Customer Service**: AI-powered chatbots are being used to provide 24/7 customer support, answering queries and resolving issues.\n",
      "\n",
      "**Types of AI**\n",
      "\n",
      "There are several types of AI, including:\n",
      "\n",
      "1. **Narrow or Weak AI**: This type of AI is designed to perform a specific task, such as image recognition or language translation.\n",
      "2. **General or Strong AI**: This type of AI is designed to perform any intellectual task that a human can, such as reasoning, problem-solving, and decision-making.\n",
      "3. **Superintelligence**: This type of AI is significantly more intelligent than the best human minds, and has the potential to solve complex problems that are currently unsolvable.\n",
      "\n",
      "**Impact of AI on Society**\n",
      "\n",
      "AI has the potential to revolutionize various aspects of our society, including:\n",
      "\n",
      "1. **Job Market**: AI has the potential to automate many jobs, leading to significant changes in the job market.\n",
      "2. **Economy**: AI has the potential to increase productivity, efficiency, and innovation, leading to economic growth.\n",
      "3. **Education**: AI has the potential to personalize education, making it more effective and accessible.\n",
      "4. **Healthcare**: AI has the potential to improve healthcare outcomes, reduce costs, and enhance patient experience.\n",
      "\n",
      "**Challenges and Concerns**\n",
      "\n",
      "While AI has the potential to revolutionize our world, it also raises several concerns, including:\n",
      "\n",
      "1. **Job Displacement**: The automation of jobs could lead to significant job displacement, particularly in sectors where tasks are repetitive or can be easily automated.\n",
      "2. **Bias and Discrimination**: AI systems can perpetuate biases and discrimination if they are trained on biased data or designed with a particular worldview.\n",
      "3. **Security**: AI systems can be vulnerable to cyber attacks, which could have significant consequences, particularly in critical infrastructure sectors.\n",
      "4. **Ethics**: The development and deployment of AI raises significant ethical concerns, including issues related to privacy, autonomy, and accountability.\n",
      "\n",
      "**Conclusion**\n",
      "\n",
      "In conclusion, AI is a rapidly evolving field that has the potential to transform our world. While it raises several concerns, it also offers significant opportunities for growth, innovation, and improvement. As we continue to develop and deploy AI systems, it is essential that we consider the potential impact on our society, and work towards creating AI systems that are fair, transparent, and accountable. By doing so, we can harness the power of AI to create a better future for all.\n",
      "\n",
      "**Future Directions**\n",
      "\n",
      "As we look to the future, it is clear that AI will continue to play an increasingly important role in shaping our world. Some potential future directions for AI include:\n",
      "\n",
      "1. **Development of Explainable AI**: Developing AI systems that can explain their decisions and actions.\n",
      "2. **Increased Focus on Ethics**: Developing AI systems that are fair, transparent, and accountable.\n",
      "3. **Development of Human-AI Collaboration**: Developing AI systems that can collaborate effectively with humans.\n",
      "4. **Expansion of AI into New Domains**: Developing AI systems that can operate in new domains, such as healthcare, education, and transportation.\n",
      "\n",
      "By continuing to advance the field of AI, we can create a future that is more efficient, effective, and equitable for all.\n"
     ]
    }
   ],
   "source": [
    "response = llm.invoke(\"Write a log of 700 words on AI\")\n",
    "\n",
    "print(response.content)"
   ]
  },
  {
   "cell_type": "code",
   "execution_count": 3,
   "metadata": {},
   "outputs": [],
   "source": [
    "from langchain_community.document_loaders import UnstructuredURLLoader\n",
    "\n",
    "loader = UnstructuredURLLoader(urls=[ \"https://codeforces.com/problemset/problem/2077/G\"])\n",
    "doc = loader.load()"
   ]
  },
  {
   "cell_type": "code",
   "execution_count": 15,
   "metadata": {},
   "outputs": [
    {
     "name": "stdout",
     "output_type": "stream",
     "text": [
      "[Document(metadata={'source': 'https://codeforces.com/problemset/problem/2077/G'}, page_content='')]\n",
      "page_content='' metadata={'source': 'https://codeforces.com/problemset/problem/2077/G'}\n"
     ]
    }
   ],
   "source": [
    "print(doc)\n",
    "print(doc[0])"
   ]
  },
  {
   "cell_type": "code",
   "execution_count": 7,
   "metadata": {},
   "outputs": [],
   "source": [
    "from langchain_core.prompts import PromptTemplate\n",
    "\n",
    "template = PromptTemplate.from_template(\"Give the description about this scrapped data : {data}\")\n",
    "\n",
    "chain = template | llm"
   ]
  },
  {
   "cell_type": "code",
   "execution_count": 8,
   "metadata": {},
   "outputs": [],
   "source": [
    "output = chain.invoke(input={\"data\": doc[0].page_content[:10000]})"
   ]
  },
  {
   "cell_type": "code",
   "execution_count": 9,
   "metadata": {},
   "outputs": [
    {
     "name": "stdout",
     "output_type": "stream",
     "text": [
      "There is no scrapped data provided for me to describe. Please provide the data you'd like me to describe, and I'll be happy to help.\n"
     ]
    }
   ],
   "source": [
    "print(output.content)"
   ]
  },
  {
   "cell_type": "code",
   "execution_count": 8,
   "metadata": {},
   "outputs": [],
   "source": [
    "from langchain.text_splitter import RecursiveCharacterTextSplitter\n",
    "\n",
    "text_splitter = RecursiveCharacterTextSplitter(\n",
    "    chunk_size=1000,\n",
    "    chunk_overlap=200\n",
    ")\n",
    "\n",
    "text = text_splitter.split_documents(doc)"
   ]
  },
  {
   "cell_type": "code",
   "execution_count": 9,
   "metadata": {},
   "outputs": [
    {
     "name": "stdout",
     "output_type": "stream",
     "text": [
      "116\n"
     ]
    }
   ],
   "source": [
    "print(len(text))"
   ]
  },
  {
   "cell_type": "code",
   "execution_count": 11,
   "metadata": {},
   "outputs": [],
   "source": [
    "from langchain_community.embeddings import HuggingFaceEmbeddings\n",
    "\n",
    "# embeddings = HuggingFaceEmbeddings(model_name=\"sentence-transformers/all-MiniLM-L6-v2\")\n"
   ]
  },
  {
   "cell_type": "code",
   "execution_count": null,
   "metadata": {},
   "outputs": [
    {
     "name": "stdout",
     "output_type": "stream",
     "text": [
      "Model saved successfully!\n"
     ]
    }
   ],
   "source": [
    "\n",
    "model = embeddings.client\n",
    "\n",
    "model.save(\"./models/all-MiniLM-L6-v2\")\n",
    "print(\"Model saved successfully!\")\n"
   ]
  },
  {
   "cell_type": "code",
   "execution_count": 12,
   "metadata": {},
   "outputs": [
    {
     "name": "stderr",
     "output_type": "stream",
     "text": [
      "C:\\Users\\Apurav\\AppData\\Local\\Temp\\ipykernel_39000\\2968491740.py:1: LangChainDeprecationWarning: The class `HuggingFaceEmbeddings` was deprecated in LangChain 0.2.2 and will be removed in 1.0. An updated version of the class exists in the :class:`~langchain-huggingface package and should be used instead. To use it run `pip install -U :class:`~langchain-huggingface` and import as `from :class:`~langchain_huggingface import HuggingFaceEmbeddings``.\n",
      "  model = HuggingFaceEmbeddings(model_name=\"./models/all-MiniLM-L6-v2\")\n"
     ]
    },
    {
     "name": "stdout",
     "output_type": "stream",
     "text": [
      "WARNING:tensorflow:From c:\\Users\\Apurav\\AppData\\Local\\Programs\\Python\\Python312\\Lib\\site-packages\\tf_keras\\src\\losses.py:2976: The name tf.losses.sparse_softmax_cross_entropy is deprecated. Please use tf.compat.v1.losses.sparse_softmax_cross_entropy instead.\n",
      "\n"
     ]
    }
   ],
   "source": [
    "model = HuggingFaceEmbeddings(model_name=\"./models/all-MiniLM-L6-v2\")"
   ]
  },
  {
   "cell_type": "code",
   "execution_count": 13,
   "metadata": {},
   "outputs": [
    {
     "ename": "NameError",
     "evalue": "name 'text' is not defined",
     "output_type": "error",
     "traceback": [
      "\u001b[1;31m---------------------------------------------------------------------------\u001b[0m",
      "\u001b[1;31mNameError\u001b[0m                                 Traceback (most recent call last)",
      "Cell \u001b[1;32mIn[13], line 1\u001b[0m\n\u001b[1;32m----> 1\u001b[0m vectorindex \u001b[38;5;241m=\u001b[39m FAISS\u001b[38;5;241m.\u001b[39mfrom_documents(\u001b[43mtext\u001b[49m, model)\n",
      "\u001b[1;31mNameError\u001b[0m: name 'text' is not defined"
     ]
    }
   ],
   "source": [
    "vectorindex = FAISS.from_documents(text, model)"
   ]
  },
  {
   "cell_type": "code",
   "execution_count": null,
   "metadata": {},
   "outputs": [],
   "source": [
    "from langchain.chains import RetrievalQAWithSourcesChain\n",
    "\n",
    "chain = RetrievalQAWithSourcesChain.from_llm(llm=llm, retriever=vectorindex.as_retriever())"
   ]
  },
  {
   "cell_type": "code",
   "execution_count": 16,
   "metadata": {},
   "outputs": [
    {
     "data": {
      "text/plain": [
       "RetrievalQAWithSourcesChain(verbose=False, combine_documents_chain=MapReduceDocumentsChain(verbose=False, llm_chain=LLMChain(verbose=False, prompt=PromptTemplate(input_variables=['context', 'question'], input_types={}, partial_variables={}, template='Use the following portion of a long document to see if any of the text is relevant to answer the question. \\nReturn any relevant text verbatim.\\n{context}\\nQuestion: {question}\\nRelevant text, if any:'), llm=ChatGroq(client=<groq.resources.chat.completions.Completions object at 0x000002B7FEEF1760>, async_client=<groq.resources.chat.completions.AsyncCompletions object at 0x000002B7FEEF2870>, model_name='llama-3.3-70b-versatile', temperature=0.9, model_kwargs={}, groq_api_key=SecretStr('**********')), output_parser=StrOutputParser(), llm_kwargs={}), reduce_documents_chain=ReduceDocumentsChain(verbose=False, combine_documents_chain=StuffDocumentsChain(verbose=False, llm_chain=LLMChain(verbose=False, prompt=PromptTemplate(input_variables=['question', 'summaries'], input_types={}, partial_variables={}, template='Given the following extracted parts of a long document and a question, create a final answer with references (\"SOURCES\"). \\nIf you don\\'t know the answer, just say that you don\\'t know. Don\\'t try to make up an answer.\\nALWAYS return a \"SOURCES\" part in your answer.\\n\\nQUESTION: Which state/country\\'s law governs the interpretation of the contract?\\n=========\\nContent: This Agreement is governed by English law and the parties submit to the exclusive jurisdiction of the English courts in  relation to any dispute (contractual or non-contractual) concerning this Agreement save that either party may apply to any court for an  injunction or other relief to protect its Intellectual Property Rights.\\nSource: 28-pl\\nContent: No Waiver. Failure or delay in exercising any right or remedy under this Agreement shall not constitute a waiver of such (or any other)  right or remedy.\\n\\n11.7 Severability. The invalidity, illegality or unenforceability of any term (or part of a term) of this Agreement shall not affect the continuation  in force of the remainder of the term (if any) and this Agreement.\\n\\n11.8 No Agency. Except as expressly stated otherwise, nothing in this Agreement shall create an agency, partnership or joint venture of any  kind between the parties.\\n\\n11.9 No Third-Party Beneficiaries.\\nSource: 30-pl\\nContent: (b) if Google believes, in good faith, that the Distributor has violated or caused Google to violate any Anti-Bribery Laws (as  defined in Clause 8.5) or that such a violation is reasonably likely to occur,\\nSource: 4-pl\\n=========\\nFINAL ANSWER: This Agreement is governed by English law.\\nSOURCES: 28-pl\\n\\nQUESTION: What did the president say about Michael Jackson?\\n=========\\nContent: Madam Speaker, Madam Vice President, our First Lady and Second Gentleman. Members of Congress and the Cabinet. Justices of the Supreme Court. My fellow Americans.  \\n\\nLast year COVID-19 kept us apart. This year we are finally together again. \\n\\nTonight, we meet as Democrats Republicans and Independents. But most importantly as Americans. \\n\\nWith a duty to one another to the American people to the Constitution. \\n\\nAnd with an unwavering resolve that freedom will always triumph over tyranny. \\n\\nSix days ago, Russia’s Vladimir Putin sought to shake the foundations of the free world thinking he could make it bend to his menacing ways. But he badly miscalculated. \\n\\nHe thought he could roll into Ukraine and the world would roll over. Instead he met a wall of strength he never imagined. \\n\\nHe met the Ukrainian people. \\n\\nFrom President Zelenskyy to every Ukrainian, their fearlessness, their courage, their determination, inspires the world. \\n\\nGroups of citizens blocking tanks with their bodies. Everyone from students to retirees teachers turned soldiers defending their homeland.\\nSource: 0-pl\\nContent: And we won’t stop. \\n\\nWe have lost so much to COVID-19. Time with one another. And worst of all, so much loss of life. \\n\\nLet’s use this moment to reset. Let’s stop looking at COVID-19 as a partisan dividing line and see it for what it is: A God-awful disease.  \\n\\nLet’s stop seeing each other as enemies, and start seeing each other for who we really are: Fellow Americans.  \\n\\nWe can’t change how divided we’ve been. But we can change how we move forward—on COVID-19 and other issues we must face together. \\n\\nI recently visited the New York City Police Department days after the funerals of Officer Wilbert Mora and his partner, Officer Jason Rivera. \\n\\nThey were responding to a 9-1-1 call when a man shot and killed them with a stolen gun. \\n\\nOfficer Mora was 27 years old. \\n\\nOfficer Rivera was 22. \\n\\nBoth Dominican Americans who’d grown up on the same streets they later chose to patrol as police officers. \\n\\nI spoke with their families and told them that we are forever in debt for their sacrifice, and we will carry on their mission to restore the trust and safety every community deserves.\\nSource: 24-pl\\nContent: And a proud Ukrainian people, who have known 30 years  of independence, have repeatedly shown that they will not tolerate anyone who tries to take their country backwards.  \\n\\nTo all Americans, I will be honest with you, as I’ve always promised. A Russian dictator, invading a foreign country, has costs around the world. \\n\\nAnd I’m taking robust action to make sure the pain of our sanctions  is targeted at Russia’s economy. And I will use every tool at our disposal to protect American businesses and consumers. \\n\\nTonight, I can announce that the United States has worked with 30 other countries to release 60 Million barrels of oil from reserves around the world.  \\n\\nAmerica will lead that effort, releasing 30 Million barrels from our own Strategic Petroleum Reserve. And we stand ready to do more if necessary, unified with our allies.  \\n\\nThese steps will help blunt gas prices here at home. And I know the news about what’s happening can seem alarming. \\n\\nBut I want you to know that we are going to be okay.\\nSource: 5-pl\\nContent: More support for patients and families. \\n\\nTo get there, I call on Congress to fund ARPA-H, the Advanced Research Projects Agency for Health. \\n\\nIt’s based on DARPA—the Defense Department project that led to the Internet, GPS, and so much more.  \\n\\nARPA-H will have a singular purpose—to drive breakthroughs in cancer, Alzheimer’s, diabetes, and more. \\n\\nA unity agenda for the nation. \\n\\nWe can do this. \\n\\nMy fellow Americans—tonight , we have gathered in a sacred space—the citadel of our democracy. \\n\\nIn this Capitol, generation after generation, Americans have debated great questions amid great strife, and have done great things. \\n\\nWe have fought for freedom, expanded liberty, defeated totalitarianism and terror. \\n\\nAnd built the strongest, freest, and most prosperous nation the world has ever known. \\n\\nNow is the hour. \\n\\nOur moment of responsibility. \\n\\nOur test of resolve and conscience, of history itself. \\n\\nIt is in this moment that our character is formed. Our purpose is found. Our future is forged. \\n\\nWell I know this nation.\\nSource: 34-pl\\n=========\\nFINAL ANSWER: The president did not mention Michael Jackson.\\nSOURCES:\\n\\nQUESTION: {question}\\n=========\\n{summaries}\\n=========\\nFINAL ANSWER:'), llm=ChatGroq(client=<groq.resources.chat.completions.Completions object at 0x000002B7FEEF1760>, async_client=<groq.resources.chat.completions.AsyncCompletions object at 0x000002B7FEEF2870>, model_name='llama-3.3-70b-versatile', temperature=0.9, model_kwargs={}, groq_api_key=SecretStr('**********')), output_parser=StrOutputParser(), llm_kwargs={}), document_prompt=PromptTemplate(input_variables=['page_content', 'source'], input_types={}, partial_variables={}, template='Content: {page_content}\\nSource: {source}'), document_variable_name='summaries')), document_variable_name='context'), retriever=VectorStoreRetriever(tags=['FAISS', 'HuggingFaceEmbeddings'], vectorstore=<langchain_community.vectorstores.faiss.FAISS object at 0x000002B7DB08E4E0>, search_kwargs={}))"
      ]
     },
     "execution_count": 16,
     "metadata": {},
     "output_type": "execute_result"
    }
   ],
   "source": [
    "chain"
   ]
  },
  {
   "cell_type": "code",
   "execution_count": 22,
   "metadata": {},
   "outputs": [
    {
     "name": "stdout",
     "output_type": "stream",
     "text": [
      "\u001b[32;1m\u001b[1;3m[chain/start]\u001b[0m \u001b[1m[chain:RetrievalQAWithSourcesChain] Entering Chain run with input:\n",
      "\u001b[0m{\n",
      "  \"question\": \"High score scored by Virat kohli in any format(can give guess also)?\"\n",
      "}\n",
      "\u001b[32;1m\u001b[1;3m[chain/start]\u001b[0m \u001b[1m[chain:RetrievalQAWithSourcesChain > chain:MapReduceDocumentsChain] Entering Chain run with input:\n",
      "\u001b[0m[inputs]\n",
      "\u001b[32;1m\u001b[1;3m[chain/start]\u001b[0m \u001b[1m[chain:RetrievalQAWithSourcesChain > chain:MapReduceDocumentsChain > chain:LLMChain] Entering Chain run with input:\n",
      "\u001b[0m{\n",
      "  \"input_list\": [\n",
      "    {\n",
      "      \"context\": \"possessed a broader array of shots,[47] Kohli's skills with the bat have earned him accolades from former West Indies great Brian Lara, who has ranked him among the best batsmen in the world alongside Joe Root, the England captain at the time.[48]\",\n",
      "      \"question\": \"High score scored by Virat kohli in any format(can give guess also)?\"\n",
      "    },\n",
      "    {\n",
      "      \"context\": \"References\\n\\n^ Lokapally 2016, p. 29.\\n\\n^ One Cricket (21 February 2024). \\\"Why Is Virat Kohli Called King Kohli?\\\". Retrieved 21 February 2024.\\n\\n^ \\\"See Who Is The Tallest Player In The Indian Team\\\". Cricket Addictor. 8 January 2022. Archived from the original on 13 May 2021. Retrieved 7 September 2021.\\n\\n^ Sportstar, Team (15 November 2023). \\\"Full list of Virat Kohli's 50 ODI hundreds as he breaks Sachin's record\\\". Sportstar. Chennai. Archived from the original on 16 November 2023. Retrieved 16 November 2023.\\n\\n^ \\\"Virat Kohli steps down as India Test captain\\\". DAWN.COM. Reuters. 15 January 2022. Retrieved 27 October 2024.\\n\\n^ \\\"Virat Kohli proud as India win ICC Test championship mace for 3rd successive year\\\". India Today. Retrieved 23 December 2023.\\n\\n^ \\\"Kohli overtakes Finch into No.1 T20 ranking\\\". cricket.com.au. Retrieved 16 February 2024.\",\n",
      "      \"question\": \"High score scored by Virat kohli in any format(can give guess also)?\"\n",
      "    },\n",
      "    {\n",
      "      \"context\": \"^ \\\"When Virat Kohli Gave Tendulkar His Late Father's Sacred Thread\\\". Wisden. 18 February 2022. Retrieved 8 March 2024.\\n\\n^ \\\"Virat Kohli surpasses Sachin Tendulkar, becomes fastest to hit 27,000 international runs\\\". The Economic Times. 30 September 2024. ISSN 0013-0389. Retrieved 4 October 2024.\\n\\n^ \\\"Kohli says proper technique behind his quickfire tons\\\". ESPNcricinfo. 1 November 2013. Archived from the original on 4 June 2015. Retrieved 9 July 2014.\\n\\n^ Gollapudi, Nagraj (7 August 2008). \\\"Emerging into his own\\\". ESPNcricinfo. Archived from the original on 14 July 2014. Retrieved 9 July 2014.\\n\\n^ G, Sandip (5 August 2014). \\\"Kohli, Pujara Caught in Mindfield?\\\". The New Indian Express. Archived from the original on 1 November 2014. Retrieved 11 October 2014.\\n\\n^ Chopra, Aakash (13 September 2012). \\\"The Kohli method\\\". ESPNcricinfo. Archived from the original on 13 December 2015. Retrieved 18 October 2015.\",\n",
      "      \"question\": \"High score scored by Virat kohli in any format(can give guess also)?\"\n",
      "    },\n",
      "    {\n",
      "      \"context\": \"^ Prabhu, Anuj Nitin (1 September 2021). \\\"Virat Kohli will need to work on his weakness outside off-stump\\\"- VVS Laxman\\\". sportskeeda.\\n\\n^ \\\"Virat Kohli Has Got A Very Obvious Weakness, Says Sanjay Manjrekar\\\". Yahoo. 26 August 2021. Retrieved 4 March 2022.\\n\\n^ Dinakar, S. (March 2020). \\\"Richard Hadlee: Southee is Kohli's weakness\\\". Sportstar. Retrieved 25 October 2021.\\n\\n^ Ravindran, Siddharth (24 July 2013). \\\"Another Kohli ton in a chase, another India win\\\". ESPNcricinfo. Archived from the original on 4 June 2015. Retrieved 8 August 2014.\\n\\n^ * \\\"ICC World Twenty20: Virat Kohli best batsman in the world, says Sunil Gavaskar\\\". India Today. Archived from the original on 11 July 2016. Retrieved 13 July 2016.\\n\\n\\\"Kohli is world's best batsman: Wasim Akram\\\". The Express Tribune. 11 March 2016. Archived from the original on 18 July 2016. Retrieved 13 July 2016.\\n\\n\\\"Kohli the best in the world: Waugh\\\". Cricket Australia. Archived from the original on 16 August 2016. Retrieved 13 July 2016.\",\n",
      "      \"question\": \"High score scored by Virat kohli in any format(can give guess also)?\"\n",
      "    }\n",
      "  ]\n",
      "}\n",
      "\u001b[32;1m\u001b[1;3m[llm/start]\u001b[0m \u001b[1m[chain:RetrievalQAWithSourcesChain > chain:MapReduceDocumentsChain > chain:LLMChain > llm:ChatGroq] Entering LLM run with input:\n",
      "\u001b[0m{\n",
      "  \"prompts\": [\n",
      "    \"Human: Use the following portion of a long document to see if any of the text is relevant to answer the question. \\nReturn any relevant text verbatim.\\npossessed a broader array of shots,[47] Kohli's skills with the bat have earned him accolades from former West Indies great Brian Lara, who has ranked him among the best batsmen in the world alongside Joe Root, the England captain at the time.[48]\\nQuestion: High score scored by Virat kohli in any format(can give guess also)?\\nRelevant text, if any:\"\n",
      "  ]\n",
      "}\n",
      "\u001b[32;1m\u001b[1;3m[llm/start]\u001b[0m \u001b[1m[chain:RetrievalQAWithSourcesChain > chain:MapReduceDocumentsChain > chain:LLMChain > llm:ChatGroq] Entering LLM run with input:\n",
      "\u001b[0m{\n",
      "  \"prompts\": [\n",
      "    \"Human: Use the following portion of a long document to see if any of the text is relevant to answer the question. \\nReturn any relevant text verbatim.\\nReferences\\n\\n^ Lokapally 2016, p. 29.\\n\\n^ One Cricket (21 February 2024). \\\"Why Is Virat Kohli Called King Kohli?\\\". Retrieved 21 February 2024.\\n\\n^ \\\"See Who Is The Tallest Player In The Indian Team\\\". Cricket Addictor. 8 January 2022. Archived from the original on 13 May 2021. Retrieved 7 September 2021.\\n\\n^ Sportstar, Team (15 November 2023). \\\"Full list of Virat Kohli's 50 ODI hundreds as he breaks Sachin's record\\\". Sportstar. Chennai. Archived from the original on 16 November 2023. Retrieved 16 November 2023.\\n\\n^ \\\"Virat Kohli steps down as India Test captain\\\". DAWN.COM. Reuters. 15 January 2022. Retrieved 27 October 2024.\\n\\n^ \\\"Virat Kohli proud as India win ICC Test championship mace for 3rd successive year\\\". India Today. Retrieved 23 December 2023.\\n\\n^ \\\"Kohli overtakes Finch into No.1 T20 ranking\\\". cricket.com.au. Retrieved 16 February 2024.\\nQuestion: High score scored by Virat kohli in any format(can give guess also)?\\nRelevant text, if any:\"\n",
      "  ]\n",
      "}\n",
      "\u001b[32;1m\u001b[1;3m[llm/start]\u001b[0m \u001b[1m[chain:RetrievalQAWithSourcesChain > chain:MapReduceDocumentsChain > chain:LLMChain > llm:ChatGroq] Entering LLM run with input:\n",
      "\u001b[0m{\n",
      "  \"prompts\": [\n",
      "    \"Human: Use the following portion of a long document to see if any of the text is relevant to answer the question. \\nReturn any relevant text verbatim.\\n^ \\\"When Virat Kohli Gave Tendulkar His Late Father's Sacred Thread\\\". Wisden. 18 February 2022. Retrieved 8 March 2024.\\n\\n^ \\\"Virat Kohli surpasses Sachin Tendulkar, becomes fastest to hit 27,000 international runs\\\". The Economic Times. 30 September 2024. ISSN 0013-0389. Retrieved 4 October 2024.\\n\\n^ \\\"Kohli says proper technique behind his quickfire tons\\\". ESPNcricinfo. 1 November 2013. Archived from the original on 4 June 2015. Retrieved 9 July 2014.\\n\\n^ Gollapudi, Nagraj (7 August 2008). \\\"Emerging into his own\\\". ESPNcricinfo. Archived from the original on 14 July 2014. Retrieved 9 July 2014.\\n\\n^ G, Sandip (5 August 2014). \\\"Kohli, Pujara Caught in Mindfield?\\\". The New Indian Express. Archived from the original on 1 November 2014. Retrieved 11 October 2014.\\n\\n^ Chopra, Aakash (13 September 2012). \\\"The Kohli method\\\". ESPNcricinfo. Archived from the original on 13 December 2015. Retrieved 18 October 2015.\\nQuestion: High score scored by Virat kohli in any format(can give guess also)?\\nRelevant text, if any:\"\n",
      "  ]\n",
      "}\n",
      "\u001b[32;1m\u001b[1;3m[llm/start]\u001b[0m \u001b[1m[chain:RetrievalQAWithSourcesChain > chain:MapReduceDocumentsChain > chain:LLMChain > llm:ChatGroq] Entering LLM run with input:\n",
      "\u001b[0m{\n",
      "  \"prompts\": [\n",
      "    \"Human: Use the following portion of a long document to see if any of the text is relevant to answer the question. \\nReturn any relevant text verbatim.\\n^ Prabhu, Anuj Nitin (1 September 2021). \\\"Virat Kohli will need to work on his weakness outside off-stump\\\"- VVS Laxman\\\". sportskeeda.\\n\\n^ \\\"Virat Kohli Has Got A Very Obvious Weakness, Says Sanjay Manjrekar\\\". Yahoo. 26 August 2021. Retrieved 4 March 2022.\\n\\n^ Dinakar, S. (March 2020). \\\"Richard Hadlee: Southee is Kohli's weakness\\\". Sportstar. Retrieved 25 October 2021.\\n\\n^ Ravindran, Siddharth (24 July 2013). \\\"Another Kohli ton in a chase, another India win\\\". ESPNcricinfo. Archived from the original on 4 June 2015. Retrieved 8 August 2014.\\n\\n^ * \\\"ICC World Twenty20: Virat Kohli best batsman in the world, says Sunil Gavaskar\\\". India Today. Archived from the original on 11 July 2016. Retrieved 13 July 2016.\\n\\n\\\"Kohli is world's best batsman: Wasim Akram\\\". The Express Tribune. 11 March 2016. Archived from the original on 18 July 2016. Retrieved 13 July 2016.\\n\\n\\\"Kohli the best in the world: Waugh\\\". Cricket Australia. Archived from the original on 16 August 2016. Retrieved 13 July 2016.\\nQuestion: High score scored by Virat kohli in any format(can give guess also)?\\nRelevant text, if any:\"\n",
      "  ]\n",
      "}\n",
      "\u001b[36;1m\u001b[1;3m[llm/end]\u001b[0m \u001b[1m[chain:RetrievalQAWithSourcesChain > chain:MapReduceDocumentsChain > chain:LLMChain > llm:ChatGroq] [4.42s] Exiting LLM run with output:\n",
      "\u001b[0m{\n",
      "  \"generations\": [\n",
      "    [\n",
      "      {\n",
      "        \"text\": \"None. \\n\\nThe provided text does not mention the high score scored by Virat Kohli in any format. It only talks about his skills with the bat and comparison with other batsmen.\",\n",
      "        \"generation_info\": {\n",
      "          \"finish_reason\": \"stop\",\n",
      "          \"logprobs\": null\n",
      "        },\n",
      "        \"type\": \"ChatGeneration\",\n",
      "        \"message\": {\n",
      "          \"lc\": 1,\n",
      "          \"type\": \"constructor\",\n",
      "          \"id\": [\n",
      "            \"langchain\",\n",
      "            \"schema\",\n",
      "            \"messages\",\n",
      "            \"AIMessage\"\n",
      "          ],\n",
      "          \"kwargs\": {\n",
      "            \"content\": \"None. \\n\\nThe provided text does not mention the high score scored by Virat Kohli in any format. It only talks about his skills with the bat and comparison with other batsmen.\",\n",
      "            \"response_metadata\": {\n",
      "              \"token_usage\": {\n",
      "                \"completion_tokens\": 39,\n",
      "                \"prompt_tokens\": 146,\n",
      "                \"total_tokens\": 185,\n",
      "                \"completion_time\": 0.141818182,\n",
      "                \"prompt_time\": 0.058626234,\n",
      "                \"queue_time\": 0.23807619400000002,\n",
      "                \"total_time\": 0.200444416\n",
      "              },\n",
      "              \"model_name\": \"llama-3.3-70b-versatile\",\n",
      "              \"system_fingerprint\": \"fp_2ca0059abb\",\n",
      "              \"finish_reason\": \"stop\",\n",
      "              \"logprobs\": null\n",
      "            },\n",
      "            \"type\": \"ai\",\n",
      "            \"id\": \"run-1ab79bbb-05b4-4b56-823c-f72b65e7c7a7-0\",\n",
      "            \"usage_metadata\": {\n",
      "              \"input_tokens\": 146,\n",
      "              \"output_tokens\": 39,\n",
      "              \"total_tokens\": 185\n",
      "            },\n",
      "            \"tool_calls\": [],\n",
      "            \"invalid_tool_calls\": []\n",
      "          }\n",
      "        }\n",
      "      }\n",
      "    ]\n",
      "  ],\n",
      "  \"llm_output\": {\n",
      "    \"token_usage\": {\n",
      "      \"completion_tokens\": 39,\n",
      "      \"prompt_tokens\": 146,\n",
      "      \"total_tokens\": 185,\n",
      "      \"completion_time\": 0.141818182,\n",
      "      \"prompt_time\": 0.058626234,\n",
      "      \"queue_time\": 0.23807619400000002,\n",
      "      \"total_time\": 0.200444416\n",
      "    },\n",
      "    \"model_name\": \"llama-3.3-70b-versatile\",\n",
      "    \"system_fingerprint\": \"fp_2ca0059abb\"\n",
      "  },\n",
      "  \"run\": null,\n",
      "  \"type\": \"LLMResult\"\n",
      "}\n",
      "\u001b[36;1m\u001b[1;3m[llm/end]\u001b[0m \u001b[1m[chain:RetrievalQAWithSourcesChain > chain:MapReduceDocumentsChain > chain:LLMChain > llm:ChatGroq] [4.42s] Exiting LLM run with output:\n",
      "\u001b[0m{\n",
      "  \"generations\": [\n",
      "    [\n",
      "      {\n",
      "        \"text\": \"There is no text in the provided portion of the document that directly mentions the high score scored by Virat Kohli in any format. However, it does mention that he has achieved multiple hundreds, specifically 50 ODI hundreds, as per the reference:\\n\\n^ Sportstar, Team (15 November 2023). \\\"Full list of Virat Kohli's 50 ODI hundreds as he breaks Sachin's record\\\". Sportstar. Chennai. Archived from the original on 16 November 2023. Retrieved 16 November 2023.\\n\\nThis suggests that Virat Kohli has scored at least 100 runs in 50 ODI matches, but it does not provide information about his highest score.\",\n",
      "        \"generation_info\": {\n",
      "          \"finish_reason\": \"stop\",\n",
      "          \"logprobs\": null\n",
      "        },\n",
      "        \"type\": \"ChatGeneration\",\n",
      "        \"message\": {\n",
      "          \"lc\": 1,\n",
      "          \"type\": \"constructor\",\n",
      "          \"id\": [\n",
      "            \"langchain\",\n",
      "            \"schema\",\n",
      "            \"messages\",\n",
      "            \"AIMessage\"\n",
      "          ],\n",
      "          \"kwargs\": {\n",
      "            \"content\": \"There is no text in the provided portion of the document that directly mentions the high score scored by Virat Kohli in any format. However, it does mention that he has achieved multiple hundreds, specifically 50 ODI hundreds, as per the reference:\\n\\n^ Sportstar, Team (15 November 2023). \\\"Full list of Virat Kohli's 50 ODI hundreds as he breaks Sachin's record\\\". Sportstar. Chennai. Archived from the original on 16 November 2023. Retrieved 16 November 2023.\\n\\nThis suggests that Virat Kohli has scored at least 100 runs in 50 ODI matches, but it does not provide information about his highest score.\",\n",
      "            \"response_metadata\": {\n",
      "              \"token_usage\": {\n",
      "                \"completion_tokens\": 143,\n",
      "                \"prompt_tokens\": 336,\n",
      "                \"total_tokens\": 479,\n",
      "                \"completion_time\": 0.52,\n",
      "                \"prompt_time\": 0.01722617,\n",
      "                \"queue_time\": 0.23747569700000004,\n",
      "                \"total_time\": 0.53722617\n",
      "              },\n",
      "              \"model_name\": \"llama-3.3-70b-versatile\",\n",
      "              \"system_fingerprint\": \"fp_0a4b7a8df3\",\n",
      "              \"finish_reason\": \"stop\",\n",
      "              \"logprobs\": null\n",
      "            },\n",
      "            \"type\": \"ai\",\n",
      "            \"id\": \"run-75065871-7e12-4f6a-a746-b04a950f36ba-0\",\n",
      "            \"usage_metadata\": {\n",
      "              \"input_tokens\": 336,\n",
      "              \"output_tokens\": 143,\n",
      "              \"total_tokens\": 479\n",
      "            },\n",
      "            \"tool_calls\": [],\n",
      "            \"invalid_tool_calls\": []\n",
      "          }\n",
      "        }\n",
      "      }\n",
      "    ]\n",
      "  ],\n",
      "  \"llm_output\": {\n",
      "    \"token_usage\": {\n",
      "      \"completion_tokens\": 143,\n",
      "      \"prompt_tokens\": 336,\n",
      "      \"total_tokens\": 479,\n",
      "      \"completion_time\": 0.52,\n",
      "      \"prompt_time\": 0.01722617,\n",
      "      \"queue_time\": 0.23747569700000004,\n",
      "      \"total_time\": 0.53722617\n",
      "    },\n",
      "    \"model_name\": \"llama-3.3-70b-versatile\",\n",
      "    \"system_fingerprint\": \"fp_0a4b7a8df3\"\n",
      "  },\n",
      "  \"run\": null,\n",
      "  \"type\": \"LLMResult\"\n",
      "}\n",
      "\u001b[36;1m\u001b[1;3m[llm/end]\u001b[0m \u001b[1m[chain:RetrievalQAWithSourcesChain > chain:MapReduceDocumentsChain > chain:LLMChain > llm:ChatGroq] [4.42s] Exiting LLM run with output:\n",
      "\u001b[0m{\n",
      "  \"generations\": [\n",
      "    [\n",
      "      {\n",
      "        \"text\": \"There is no relevant text that directly mentions the high score scored by Virat Kohli in any format. However, one of the references mentions that Virat Kohli surpassed Sachin Tendulkar to become the fastest to hit 27,000 international runs, but it does not provide information about his highest score.\\n\\nRelevant text (though not directly answering the question):\\n^ \\\"Virat Kohli surpasses Sachin Tendulkar, becomes fastest to hit 27,000 international runs\\\". The Economic Times. 30 September 2024. ISSN 0013-0389. Retrieved 4 October 2024.\",\n",
      "        \"generation_info\": {\n",
      "          \"finish_reason\": \"stop\",\n",
      "          \"logprobs\": null\n",
      "        },\n",
      "        \"type\": \"ChatGeneration\",\n",
      "        \"message\": {\n",
      "          \"lc\": 1,\n",
      "          \"type\": \"constructor\",\n",
      "          \"id\": [\n",
      "            \"langchain\",\n",
      "            \"schema\",\n",
      "            \"messages\",\n",
      "            \"AIMessage\"\n",
      "          ],\n",
      "          \"kwargs\": {\n",
      "            \"content\": \"There is no relevant text that directly mentions the high score scored by Virat Kohli in any format. However, one of the references mentions that Virat Kohli surpassed Sachin Tendulkar to become the fastest to hit 27,000 international runs, but it does not provide information about his highest score.\\n\\nRelevant text (though not directly answering the question):\\n^ \\\"Virat Kohli surpasses Sachin Tendulkar, becomes fastest to hit 27,000 international runs\\\". The Economic Times. 30 September 2024. ISSN 0013-0389. Retrieved 4 October 2024.\",\n",
      "            \"response_metadata\": {\n",
      "              \"token_usage\": {\n",
      "                \"completion_tokens\": 129,\n",
      "                \"prompt_tokens\": 371,\n",
      "                \"total_tokens\": 500,\n",
      "                \"completion_time\": 0.469090909,\n",
      "                \"prompt_time\": 0.025485782,\n",
      "                \"queue_time\": 0.23653382,\n",
      "                \"total_time\": 0.494576691\n",
      "              },\n",
      "              \"model_name\": \"llama-3.3-70b-versatile\",\n",
      "              \"system_fingerprint\": \"fp_2ca0059abb\",\n",
      "              \"finish_reason\": \"stop\",\n",
      "              \"logprobs\": null\n",
      "            },\n",
      "            \"type\": \"ai\",\n",
      "            \"id\": \"run-91e8bc89-8206-401f-8714-142d8406662a-0\",\n",
      "            \"usage_metadata\": {\n",
      "              \"input_tokens\": 371,\n",
      "              \"output_tokens\": 129,\n",
      "              \"total_tokens\": 500\n",
      "            },\n",
      "            \"tool_calls\": [],\n",
      "            \"invalid_tool_calls\": []\n",
      "          }\n",
      "        }\n",
      "      }\n",
      "    ]\n",
      "  ],\n",
      "  \"llm_output\": {\n",
      "    \"token_usage\": {\n",
      "      \"completion_tokens\": 129,\n",
      "      \"prompt_tokens\": 371,\n",
      "      \"total_tokens\": 500,\n",
      "      \"completion_time\": 0.469090909,\n",
      "      \"prompt_time\": 0.025485782,\n",
      "      \"queue_time\": 0.23653382,\n",
      "      \"total_time\": 0.494576691\n",
      "    },\n",
      "    \"model_name\": \"llama-3.3-70b-versatile\",\n",
      "    \"system_fingerprint\": \"fp_2ca0059abb\"\n",
      "  },\n",
      "  \"run\": null,\n",
      "  \"type\": \"LLMResult\"\n",
      "}\n",
      "\u001b[36;1m\u001b[1;3m[llm/end]\u001b[0m \u001b[1m[chain:RetrievalQAWithSourcesChain > chain:MapReduceDocumentsChain > chain:LLMChain > llm:ChatGroq] [4.43s] Exiting LLM run with output:\n",
      "\u001b[0m{\n",
      "  \"generations\": [\n",
      "    [\n",
      "      {\n",
      "        \"text\": \"There is no text in the provided portion that directly mentions Virat Kohli's high score in any format. However, one of the article titles mentions \\\"Another Kohli ton in a chase, another India win\\\", which implies that Virat Kohli has scored at least a century (100 runs) in a match. \\n\\nThe relevant text is:\\n^ Ravindran, Siddharth (24 July 2013). \\\"Another Kohli ton in a chase, another India win\\\". ESPNcricinfo. Archived from the original on 4 June 2015. Retrieved 8 August 2014.\",\n",
      "        \"generation_info\": {\n",
      "          \"finish_reason\": \"stop\",\n",
      "          \"logprobs\": null\n",
      "        },\n",
      "        \"type\": \"ChatGeneration\",\n",
      "        \"message\": {\n",
      "          \"lc\": 1,\n",
      "          \"type\": \"constructor\",\n",
      "          \"id\": [\n",
      "            \"langchain\",\n",
      "            \"schema\",\n",
      "            \"messages\",\n",
      "            \"AIMessage\"\n",
      "          ],\n",
      "          \"kwargs\": {\n",
      "            \"content\": \"There is no text in the provided portion that directly mentions Virat Kohli's high score in any format. However, one of the article titles mentions \\\"Another Kohli ton in a chase, another India win\\\", which implies that Virat Kohli has scored at least a century (100 runs) in a match. \\n\\nThe relevant text is:\\n^ Ravindran, Siddharth (24 July 2013). \\\"Another Kohli ton in a chase, another India win\\\". ESPNcricinfo. Archived from the original on 4 June 2015. Retrieved 8 August 2014.\",\n",
      "            \"response_metadata\": {\n",
      "              \"token_usage\": {\n",
      "                \"completion_tokens\": 124,\n",
      "                \"prompt_tokens\": 398,\n",
      "                \"total_tokens\": 522,\n",
      "                \"completion_time\": 0.640902375,\n",
      "                \"prompt_time\": 0.156794454,\n",
      "                \"queue_time\": 0.238701085,\n",
      "                \"total_time\": 0.797696829\n",
      "              },\n",
      "              \"model_name\": \"llama-3.3-70b-versatile\",\n",
      "              \"system_fingerprint\": \"fp_2ca0059abb\",\n",
      "              \"finish_reason\": \"stop\",\n",
      "              \"logprobs\": null\n",
      "            },\n",
      "            \"type\": \"ai\",\n",
      "            \"id\": \"run-152fcd92-390d-491b-8253-ba451c8b6cc7-0\",\n",
      "            \"usage_metadata\": {\n",
      "              \"input_tokens\": 398,\n",
      "              \"output_tokens\": 124,\n",
      "              \"total_tokens\": 522\n",
      "            },\n",
      "            \"tool_calls\": [],\n",
      "            \"invalid_tool_calls\": []\n",
      "          }\n",
      "        }\n",
      "      }\n",
      "    ]\n",
      "  ],\n",
      "  \"llm_output\": {\n",
      "    \"token_usage\": {\n",
      "      \"completion_tokens\": 124,\n",
      "      \"prompt_tokens\": 398,\n",
      "      \"total_tokens\": 522,\n",
      "      \"completion_time\": 0.640902375,\n",
      "      \"prompt_time\": 0.156794454,\n",
      "      \"queue_time\": 0.238701085,\n",
      "      \"total_time\": 0.797696829\n",
      "    },\n",
      "    \"model_name\": \"llama-3.3-70b-versatile\",\n",
      "    \"system_fingerprint\": \"fp_2ca0059abb\"\n",
      "  },\n",
      "  \"run\": null,\n",
      "  \"type\": \"LLMResult\"\n",
      "}\n",
      "\u001b[36;1m\u001b[1;3m[chain/end]\u001b[0m \u001b[1m[chain:RetrievalQAWithSourcesChain > chain:MapReduceDocumentsChain > chain:LLMChain] [4.43s] Exiting Chain run with output:\n",
      "\u001b[0m{\n",
      "  \"outputs\": [\n",
      "    {\n",
      "      \"text\": \"None. \\n\\nThe provided text does not mention the high score scored by Virat Kohli in any format. It only talks about his skills with the bat and comparison with other batsmen.\"\n",
      "    },\n",
      "    {\n",
      "      \"text\": \"There is no text in the provided portion of the document that directly mentions the high score scored by Virat Kohli in any format. However, it does mention that he has achieved multiple hundreds, specifically 50 ODI hundreds, as per the reference:\\n\\n^ Sportstar, Team (15 November 2023). \\\"Full list of Virat Kohli's 50 ODI hundreds as he breaks Sachin's record\\\". Sportstar. Chennai. Archived from the original on 16 November 2023. Retrieved 16 November 2023.\\n\\nThis suggests that Virat Kohli has scored at least 100 runs in 50 ODI matches, but it does not provide information about his highest score.\"\n",
      "    },\n",
      "    {\n",
      "      \"text\": \"There is no relevant text that directly mentions the high score scored by Virat Kohli in any format. However, one of the references mentions that Virat Kohli surpassed Sachin Tendulkar to become the fastest to hit 27,000 international runs, but it does not provide information about his highest score.\\n\\nRelevant text (though not directly answering the question):\\n^ \\\"Virat Kohli surpasses Sachin Tendulkar, becomes fastest to hit 27,000 international runs\\\". The Economic Times. 30 September 2024. ISSN 0013-0389. Retrieved 4 October 2024.\"\n",
      "    },\n",
      "    {\n",
      "      \"text\": \"There is no text in the provided portion that directly mentions Virat Kohli's high score in any format. However, one of the article titles mentions \\\"Another Kohli ton in a chase, another India win\\\", which implies that Virat Kohli has scored at least a century (100 runs) in a match. \\n\\nThe relevant text is:\\n^ Ravindran, Siddharth (24 July 2013). \\\"Another Kohli ton in a chase, another India win\\\". ESPNcricinfo. Archived from the original on 4 June 2015. Retrieved 8 August 2014.\"\n",
      "    }\n",
      "  ]\n",
      "}\n",
      "\u001b[32;1m\u001b[1;3m[chain/start]\u001b[0m \u001b[1m[chain:RetrievalQAWithSourcesChain > chain:MapReduceDocumentsChain > chain:LLMChain] Entering Chain run with input:\n",
      "\u001b[0m{\n",
      "  \"question\": \"High score scored by Virat kohli in any format(can give guess also)?\",\n",
      "  \"summaries\": \"Content: None. \\n\\nThe provided text does not mention the high score scored by Virat Kohli in any format. It only talks about his skills with the bat and comparison with other batsmen.\\nSource: https://en.wikipedia.org/wiki/Virat_Kohli\\n\\nContent: There is no text in the provided portion of the document that directly mentions the high score scored by Virat Kohli in any format. However, it does mention that he has achieved multiple hundreds, specifically 50 ODI hundreds, as per the reference:\\n\\n^ Sportstar, Team (15 November 2023). \\\"Full list of Virat Kohli's 50 ODI hundreds as he breaks Sachin's record\\\". Sportstar. Chennai. Archived from the original on 16 November 2023. Retrieved 16 November 2023.\\n\\nThis suggests that Virat Kohli has scored at least 100 runs in 50 ODI matches, but it does not provide information about his highest score.\\nSource: https://en.wikipedia.org/wiki/Virat_Kohli\\n\\nContent: There is no relevant text that directly mentions the high score scored by Virat Kohli in any format. However, one of the references mentions that Virat Kohli surpassed Sachin Tendulkar to become the fastest to hit 27,000 international runs, but it does not provide information about his highest score.\\n\\nRelevant text (though not directly answering the question):\\n^ \\\"Virat Kohli surpasses Sachin Tendulkar, becomes fastest to hit 27,000 international runs\\\". The Economic Times. 30 September 2024. ISSN 0013-0389. Retrieved 4 October 2024.\\nSource: https://en.wikipedia.org/wiki/Virat_Kohli\\n\\nContent: There is no text in the provided portion that directly mentions Virat Kohli's high score in any format. However, one of the article titles mentions \\\"Another Kohli ton in a chase, another India win\\\", which implies that Virat Kohli has scored at least a century (100 runs) in a match. \\n\\nThe relevant text is:\\n^ Ravindran, Siddharth (24 July 2013). \\\"Another Kohli ton in a chase, another India win\\\". ESPNcricinfo. Archived from the original on 4 June 2015. Retrieved 8 August 2014.\\nSource: https://en.wikipedia.org/wiki/Virat_Kohli\"\n",
      "}\n",
      "\u001b[32;1m\u001b[1;3m[llm/start]\u001b[0m \u001b[1m[chain:RetrievalQAWithSourcesChain > chain:MapReduceDocumentsChain > chain:LLMChain > llm:ChatGroq] Entering LLM run with input:\n",
      "\u001b[0m{\n",
      "  \"prompts\": [\n",
      "    \"Human: Given the following extracted parts of a long document and a question, create a final answer with references (\\\"SOURCES\\\"). \\nIf you don't know the answer, just say that you don't know. Don't try to make up an answer.\\nALWAYS return a \\\"SOURCES\\\" part in your answer.\\n\\nQUESTION: Which state/country's law governs the interpretation of the contract?\\n=========\\nContent: This Agreement is governed by English law and the parties submit to the exclusive jurisdiction of the English courts in  relation to any dispute (contractual or non-contractual) concerning this Agreement save that either party may apply to any court for an  injunction or other relief to protect its Intellectual Property Rights.\\nSource: 28-pl\\nContent: No Waiver. Failure or delay in exercising any right or remedy under this Agreement shall not constitute a waiver of such (or any other)  right or remedy.\\n\\n11.7 Severability. The invalidity, illegality or unenforceability of any term (or part of a term) of this Agreement shall not affect the continuation  in force of the remainder of the term (if any) and this Agreement.\\n\\n11.8 No Agency. Except as expressly stated otherwise, nothing in this Agreement shall create an agency, partnership or joint venture of any  kind between the parties.\\n\\n11.9 No Third-Party Beneficiaries.\\nSource: 30-pl\\nContent: (b) if Google believes, in good faith, that the Distributor has violated or caused Google to violate any Anti-Bribery Laws (as  defined in Clause 8.5) or that such a violation is reasonably likely to occur,\\nSource: 4-pl\\n=========\\nFINAL ANSWER: This Agreement is governed by English law.\\nSOURCES: 28-pl\\n\\nQUESTION: What did the president say about Michael Jackson?\\n=========\\nContent: Madam Speaker, Madam Vice President, our First Lady and Second Gentleman. Members of Congress and the Cabinet. Justices of the Supreme Court. My fellow Americans.  \\n\\nLast year COVID-19 kept us apart. This year we are finally together again. \\n\\nTonight, we meet as Democrats Republicans and Independents. But most importantly as Americans. \\n\\nWith a duty to one another to the American people to the Constitution. \\n\\nAnd with an unwavering resolve that freedom will always triumph over tyranny. \\n\\nSix days ago, Russia’s Vladimir Putin sought to shake the foundations of the free world thinking he could make it bend to his menacing ways. But he badly miscalculated. \\n\\nHe thought he could roll into Ukraine and the world would roll over. Instead he met a wall of strength he never imagined. \\n\\nHe met the Ukrainian people. \\n\\nFrom President Zelenskyy to every Ukrainian, their fearlessness, their courage, their determination, inspires the world. \\n\\nGroups of citizens blocking tanks with their bodies. Everyone from students to retirees teachers turned soldiers defending their homeland.\\nSource: 0-pl\\nContent: And we won’t stop. \\n\\nWe have lost so much to COVID-19. Time with one another. And worst of all, so much loss of life. \\n\\nLet’s use this moment to reset. Let’s stop looking at COVID-19 as a partisan dividing line and see it for what it is: A God-awful disease.  \\n\\nLet’s stop seeing each other as enemies, and start seeing each other for who we really are: Fellow Americans.  \\n\\nWe can’t change how divided we’ve been. But we can change how we move forward—on COVID-19 and other issues we must face together. \\n\\nI recently visited the New York City Police Department days after the funerals of Officer Wilbert Mora and his partner, Officer Jason Rivera. \\n\\nThey were responding to a 9-1-1 call when a man shot and killed them with a stolen gun. \\n\\nOfficer Mora was 27 years old. \\n\\nOfficer Rivera was 22. \\n\\nBoth Dominican Americans who’d grown up on the same streets they later chose to patrol as police officers. \\n\\nI spoke with their families and told them that we are forever in debt for their sacrifice, and we will carry on their mission to restore the trust and safety every community deserves.\\nSource: 24-pl\\nContent: And a proud Ukrainian people, who have known 30 years  of independence, have repeatedly shown that they will not tolerate anyone who tries to take their country backwards.  \\n\\nTo all Americans, I will be honest with you, as I’ve always promised. A Russian dictator, invading a foreign country, has costs around the world. \\n\\nAnd I’m taking robust action to make sure the pain of our sanctions  is targeted at Russia’s economy. And I will use every tool at our disposal to protect American businesses and consumers. \\n\\nTonight, I can announce that the United States has worked with 30 other countries to release 60 Million barrels of oil from reserves around the world.  \\n\\nAmerica will lead that effort, releasing 30 Million barrels from our own Strategic Petroleum Reserve. And we stand ready to do more if necessary, unified with our allies.  \\n\\nThese steps will help blunt gas prices here at home. And I know the news about what’s happening can seem alarming. \\n\\nBut I want you to know that we are going to be okay.\\nSource: 5-pl\\nContent: More support for patients and families. \\n\\nTo get there, I call on Congress to fund ARPA-H, the Advanced Research Projects Agency for Health. \\n\\nIt’s based on DARPA—the Defense Department project that led to the Internet, GPS, and so much more.  \\n\\nARPA-H will have a singular purpose—to drive breakthroughs in cancer, Alzheimer’s, diabetes, and more. \\n\\nA unity agenda for the nation. \\n\\nWe can do this. \\n\\nMy fellow Americans—tonight , we have gathered in a sacred space—the citadel of our democracy. \\n\\nIn this Capitol, generation after generation, Americans have debated great questions amid great strife, and have done great things. \\n\\nWe have fought for freedom, expanded liberty, defeated totalitarianism and terror. \\n\\nAnd built the strongest, freest, and most prosperous nation the world has ever known. \\n\\nNow is the hour. \\n\\nOur moment of responsibility. \\n\\nOur test of resolve and conscience, of history itself. \\n\\nIt is in this moment that our character is formed. Our purpose is found. Our future is forged. \\n\\nWell I know this nation.\\nSource: 34-pl\\n=========\\nFINAL ANSWER: The president did not mention Michael Jackson.\\nSOURCES:\\n\\nQUESTION: High score scored by Virat kohli in any format(can give guess also)?\\n=========\\nContent: None. \\n\\nThe provided text does not mention the high score scored by Virat Kohli in any format. It only talks about his skills with the bat and comparison with other batsmen.\\nSource: https://en.wikipedia.org/wiki/Virat_Kohli\\n\\nContent: There is no text in the provided portion of the document that directly mentions the high score scored by Virat Kohli in any format. However, it does mention that he has achieved multiple hundreds, specifically 50 ODI hundreds, as per the reference:\\n\\n^ Sportstar, Team (15 November 2023). \\\"Full list of Virat Kohli's 50 ODI hundreds as he breaks Sachin's record\\\". Sportstar. Chennai. Archived from the original on 16 November 2023. Retrieved 16 November 2023.\\n\\nThis suggests that Virat Kohli has scored at least 100 runs in 50 ODI matches, but it does not provide information about his highest score.\\nSource: https://en.wikipedia.org/wiki/Virat_Kohli\\n\\nContent: There is no relevant text that directly mentions the high score scored by Virat Kohli in any format. However, one of the references mentions that Virat Kohli surpassed Sachin Tendulkar to become the fastest to hit 27,000 international runs, but it does not provide information about his highest score.\\n\\nRelevant text (though not directly answering the question):\\n^ \\\"Virat Kohli surpasses Sachin Tendulkar, becomes fastest to hit 27,000 international runs\\\". The Economic Times. 30 September 2024. ISSN 0013-0389. Retrieved 4 October 2024.\\nSource: https://en.wikipedia.org/wiki/Virat_Kohli\\n\\nContent: There is no text in the provided portion that directly mentions Virat Kohli's high score in any format. However, one of the article titles mentions \\\"Another Kohli ton in a chase, another India win\\\", which implies that Virat Kohli has scored at least a century (100 runs) in a match. \\n\\nThe relevant text is:\\n^ Ravindran, Siddharth (24 July 2013). \\\"Another Kohli ton in a chase, another India win\\\". ESPNcricinfo. Archived from the original on 4 June 2015. Retrieved 8 August 2014.\\nSource: https://en.wikipedia.org/wiki/Virat_Kohli\\n=========\\nFINAL ANSWER:\"\n",
      "  ]\n",
      "}\n",
      "\u001b[36;1m\u001b[1;3m[llm/end]\u001b[0m \u001b[1m[chain:RetrievalQAWithSourcesChain > chain:MapReduceDocumentsChain > chain:LLMChain > llm:ChatGroq] [1.72s] Exiting LLM run with output:\n",
      "\u001b[0m{\n",
      "  \"generations\": [\n",
      "    [\n",
      "      {\n",
      "        \"text\": \"I don't know the high score scored by Virat Kohli in any format, as the provided text does not mention this information. However, I can suggest that Virat Kohli has scored at least 100 runs in multiple matches, including 50 ODI hundreds.\\n\\nSOURCES: https://en.wikipedia.org/wiki/Virat_Kohli\",\n",
      "        \"generation_info\": {\n",
      "          \"finish_reason\": \"stop\",\n",
      "          \"logprobs\": null\n",
      "        },\n",
      "        \"type\": \"ChatGeneration\",\n",
      "        \"message\": {\n",
      "          \"lc\": 1,\n",
      "          \"type\": \"constructor\",\n",
      "          \"id\": [\n",
      "            \"langchain\",\n",
      "            \"schema\",\n",
      "            \"messages\",\n",
      "            \"AIMessage\"\n",
      "          ],\n",
      "          \"kwargs\": {\n",
      "            \"content\": \"I don't know the high score scored by Virat Kohli in any format, as the provided text does not mention this information. However, I can suggest that Virat Kohli has scored at least 100 runs in multiple matches, including 50 ODI hundreds.\\n\\nSOURCES: https://en.wikipedia.org/wiki/Virat_Kohli\",\n",
      "            \"response_metadata\": {\n",
      "              \"token_usage\": {\n",
      "                \"completion_tokens\": 71,\n",
      "                \"prompt_tokens\": 1892,\n",
      "                \"total_tokens\": 1963,\n",
      "                \"completion_time\": 0.366739982,\n",
      "                \"prompt_time\": 0.756369429,\n",
      "                \"queue_time\": 0.23759141299999997,\n",
      "                \"total_time\": 1.123109411\n",
      "              },\n",
      "              \"model_name\": \"llama-3.3-70b-versatile\",\n",
      "              \"system_fingerprint\": \"fp_7b42aeb9fa\",\n",
      "              \"finish_reason\": \"stop\",\n",
      "              \"logprobs\": null\n",
      "            },\n",
      "            \"type\": \"ai\",\n",
      "            \"id\": \"run-b13ac356-88c0-41ef-a1ee-92ec0923fcf3-0\",\n",
      "            \"usage_metadata\": {\n",
      "              \"input_tokens\": 1892,\n",
      "              \"output_tokens\": 71,\n",
      "              \"total_tokens\": 1963\n",
      "            },\n",
      "            \"tool_calls\": [],\n",
      "            \"invalid_tool_calls\": []\n",
      "          }\n",
      "        }\n",
      "      }\n",
      "    ]\n",
      "  ],\n",
      "  \"llm_output\": {\n",
      "    \"token_usage\": {\n",
      "      \"completion_tokens\": 71,\n",
      "      \"prompt_tokens\": 1892,\n",
      "      \"total_tokens\": 1963,\n",
      "      \"completion_time\": 0.366739982,\n",
      "      \"prompt_time\": 0.756369429,\n",
      "      \"queue_time\": 0.23759141299999997,\n",
      "      \"total_time\": 1.123109411\n",
      "    },\n",
      "    \"model_name\": \"llama-3.3-70b-versatile\",\n",
      "    \"system_fingerprint\": \"fp_7b42aeb9fa\"\n",
      "  },\n",
      "  \"run\": null,\n",
      "  \"type\": \"LLMResult\"\n",
      "}\n",
      "\u001b[36;1m\u001b[1;3m[chain/end]\u001b[0m \u001b[1m[chain:RetrievalQAWithSourcesChain > chain:MapReduceDocumentsChain > chain:LLMChain] [1.72s] Exiting Chain run with output:\n",
      "\u001b[0m{\n",
      "  \"text\": \"I don't know the high score scored by Virat Kohli in any format, as the provided text does not mention this information. However, I can suggest that Virat Kohli has scored at least 100 runs in multiple matches, including 50 ODI hundreds.\\n\\nSOURCES: https://en.wikipedia.org/wiki/Virat_Kohli\"\n",
      "}\n",
      "\u001b[36;1m\u001b[1;3m[chain/end]\u001b[0m \u001b[1m[chain:RetrievalQAWithSourcesChain > chain:MapReduceDocumentsChain] [6.16s] Exiting Chain run with output:\n",
      "\u001b[0m{\n",
      "  \"output_text\": \"I don't know the high score scored by Virat Kohli in any format, as the provided text does not mention this information. However, I can suggest that Virat Kohli has scored at least 100 runs in multiple matches, including 50 ODI hundreds.\\n\\nSOURCES: https://en.wikipedia.org/wiki/Virat_Kohli\"\n",
      "}\n",
      "\u001b[36;1m\u001b[1;3m[chain/end]\u001b[0m \u001b[1m[chain:RetrievalQAWithSourcesChain] [6.22s] Exiting Chain run with output:\n",
      "\u001b[0m{\n",
      "  \"answer\": \"I don't know the high score scored by Virat Kohli in any format, as the provided text does not mention this information. However, I can suggest that Virat Kohli has scored at least 100 runs in multiple matches, including 50 ODI hundreds.\\n\\n\",\n",
      "  \"sources\": \"https://en.wikipedia.org/wiki/Virat_Kohli\"\n",
      "}\n"
     ]
    }
   ],
   "source": [
    "query = \"High score scored by Virat kohli in any format(can give guess also)?\"\n",
    "\n",
    "langchain.debug=True\n",
    "\n",
    "output = chain({\"question\": query}, return_only_outputs=True)"
   ]
  },
  {
   "cell_type": "code",
   "execution_count": 27,
   "metadata": {},
   "outputs": [
    {
     "name": "stdout",
     "output_type": "stream",
     "text": [
      "I don't know the high score scored by Virat Kohli in any format, as the provided text does not mention this information. However, I can suggest that Virat Kohli has scored at least 100 runs in multiple matches, including 50 ODI hundreds.\n",
      "\n",
      "\n"
     ]
    }
   ],
   "source": [
    "print(output['answer'])"
   ]
  },
  {
   "cell_type": "markdown",
   "metadata": {},
   "source": [
    "Multisource Rag pipeline"
   ]
  },
  {
   "cell_type": "code",
   "execution_count": 1,
   "metadata": {},
   "outputs": [],
   "source": [
    "from langchain_community.tools import WikipediaQueryRun\n",
    "from langchain_community.utilities import WikipediaAPIWrapper"
   ]
  },
  {
   "cell_type": "code",
   "execution_count": 2,
   "metadata": {},
   "outputs": [],
   "source": [
    "api_wrapper = WikipediaAPIWrapper(top_k_results=1, doc_content_chars_max=300)\n",
    "tool = WikipediaQueryRun(api_wrapper=api_wrapper)"
   ]
  },
  {
   "cell_type": "code",
   "execution_count": 25,
   "metadata": {},
   "outputs": [
    {
     "data": {
      "text/plain": [
       "'Page: Machine learning\\nSummary: Machine learning (ML) is a field of study in artificial intelligence concerned with the development and study of statistical algorithms that can learn from data and generalize to unseen data, and thus perform tasks without explicit instructions. Within a subdiscipline'"
      ]
     },
     "execution_count": 25,
     "metadata": {},
     "output_type": "execute_result"
    }
   ],
   "source": [
    "tool.run(\"machine Learning\")"
   ]
  },
  {
   "cell_type": "code",
   "execution_count": 3,
   "metadata": {},
   "outputs": [
    {
     "name": "stderr",
     "output_type": "stream",
     "text": [
      "USER_AGENT environment variable not set, consider setting it to identify your requests.\n"
     ]
    }
   ],
   "source": [
    "from langchain_community.document_loaders import WebBaseLoader\n",
    "from langchain_community.vectorstores import FAISS\n",
    "from langchain_text_splitters import RecursiveCharacterTextSplitter\n",
    "from langchain_community.embeddings import HuggingFaceEmbeddings"
   ]
  },
  {
   "cell_type": "code",
   "execution_count": 4,
   "metadata": {},
   "outputs": [
    {
     "name": "stderr",
     "output_type": "stream",
     "text": [
      "C:\\Users\\Apurav\\AppData\\Local\\Temp\\ipykernel_30556\\2968491740.py:1: LangChainDeprecationWarning: The class `HuggingFaceEmbeddings` was deprecated in LangChain 0.2.2 and will be removed in 1.0. An updated version of the class exists in the :class:`~langchain-huggingface package and should be used instead. To use it run `pip install -U :class:`~langchain-huggingface` and import as `from :class:`~langchain_huggingface import HuggingFaceEmbeddings``.\n",
      "  model = HuggingFaceEmbeddings(model_name=\"./models/all-MiniLM-L6-v2\")\n"
     ]
    },
    {
     "name": "stdout",
     "output_type": "stream",
     "text": [
      "WARNING:tensorflow:From c:\\Users\\Apurav\\AppData\\Local\\Programs\\Python\\Python312\\Lib\\site-packages\\tf_keras\\src\\losses.py:2976: The name tf.losses.sparse_softmax_cross_entropy is deprecated. Please use tf.compat.v1.losses.sparse_softmax_cross_entropy instead.\n",
      "\n"
     ]
    }
   ],
   "source": [
    "model = HuggingFaceEmbeddings(model_name=\"./models/all-MiniLM-L6-v2\")"
   ]
  },
  {
   "cell_type": "code",
   "execution_count": 5,
   "metadata": {},
   "outputs": [],
   "source": [
    "loader = WebBaseLoader(\"https://langchain-ai.github.io/langgraph/tutorials/introduction/\")\n",
    "\n",
    "doc = loader.load()"
   ]
  },
  {
   "cell_type": "code",
   "execution_count": 22,
   "metadata": {},
   "outputs": [
    {
     "data": {
      "text/plain": [
       "[Document(metadata={'source': 'https://langchain-ai.github.io/langgraph/tutorials/introduction/', 'title': 'Learn the basics', 'description': 'Build language agents as graphs', 'language': 'en'}, page_content='Learn the basics\\n\\n\\n\\n\\n\\n\\n\\n\\n\\n\\n\\n\\n\\n\\n\\n\\n\\n          Skip to content\\n        \\n\\n\\n\\n\\n\\n\\n\\nJoin us at  Interrupt: The Agent AI Conference by LangChain on May 13 & 14 in San Francisco!\\n\\n\\n\\n\\n\\n\\n\\n\\n\\n\\n\\n\\n\\n\\n\\n\\n\\n\\n\\n\\n\\n            \\n              Learn the basics\\n            \\n          \\n\\n\\n\\n\\n\\n\\n\\n\\n\\n\\n\\n\\n\\n\\n\\n\\n\\n\\n\\n\\n\\n\\n\\n\\n\\n\\n\\n\\n\\n\\n\\n\\n\\n\\n\\n\\n\\n\\n\\n\\n            Initializing search\\n          \\n\\n\\n\\n\\n\\n\\n\\n\\n\\n\\n\\n\\n    GitHub\\n  \\n\\n\\n\\n\\n\\n\\n\\n\\n\\n\\n          \\n  \\n    \\n  \\n  Home\\n\\n        \\n\\n\\n\\n          \\n  \\n    \\n  \\n  API reference\\n\\n        \\n\\n\\n\\n\\n\\n\\n\\n\\n\\n\\n\\n\\n\\n\\n\\n\\n\\n\\n\\n\\n\\n\\n    GitHub\\n  \\n\\n\\n\\n\\n\\n\\n\\n\\n    \\n  \\n    Home\\n  \\n\\n    \\n  \\n\\n\\n\\n\\n\\n\\n\\n\\n            \\n  \\n    Home\\n  \\n\\n          \\n\\n\\n\\n\\n\\n    \\n  \\n    Get started\\n  \\n\\n    \\n  \\n\\n\\n\\n\\n\\n            \\n  \\n    Get started\\n  \\n\\n          \\n\\n\\n\\n\\n\\n    \\n  \\n    Learn the basics\\n  \\n\\n    \\n  \\n\\n\\n\\n\\n    \\n  \\n    Learn the basics\\n  \\n\\n    \\n  \\n\\n\\n\\n\\n      Table of contents\\n    \\n\\n\\n\\n\\n      \\n        Setup\\n      \\n    \\n\\n\\n\\n\\n\\n      \\n        Part 1: Build a Basic Chatbot\\n      \\n    \\n\\n\\n\\n\\n\\n      \\n        Part 2: \\uf8ffüõ†Ô∏è Enhancing the Chatbot with Tools'),\n",
       " Document(metadata={'source': 'https://langchain-ai.github.io/langgraph/tutorials/introduction/', 'title': 'Learn the basics', 'description': 'Build language agents as graphs', 'language': 'en'}, page_content='Part 2: \\uf8ffüõ†Ô∏è Enhancing the Chatbot with Tools\\n      \\n    \\n\\n\\n\\n\\n\\n\\n      \\n        Requirements\\n      \\n    \\n\\n\\n\\n\\n\\n\\n\\n\\n      \\n        Part 3: Adding Memory to the Chatbot\\n      \\n    \\n\\n\\n\\n\\n\\n      \\n        Part 4: Human-in-the-loop\\n      \\n    \\n\\n\\n\\n\\n\\n      \\n        Part 5: Customizing State\\n      \\n    \\n\\n\\n\\n\\n\\n\\n      \\n        Manually updating state\\n      \\n    \\n\\n\\n\\n\\n\\n\\n\\n\\n      \\n        Part 6: Time Travel\\n      \\n    \\n\\n\\n\\n\\n\\n      \\n        Next Steps\\n      \\n    \\n\\n\\n\\n\\n\\n\\n      \\n        Server Quickstart\\n      \\n    \\n\\n\\n\\n\\n\\n      \\n        LangGraph Cloud\\n      \\n    \\n\\n\\n\\n\\n\\n      \\n        LangGraph Framework\\n      \\n    \\n\\n\\n\\n\\n\\n      \\n        LangGraph Platform\\n      \\n    \\n\\n\\n\\n\\n\\n\\n\\n\\n\\n\\n\\n    \\n  \\n    Deployment\\n  \\n\\n    \\n  \\n\\n\\n\\n\\n\\n\\n\\n\\n\\n\\n    \\n  \\n    Guides\\n  \\n\\n    \\n  \\n\\n\\n\\n\\n\\n            \\n  \\n    Guides\\n  \\n\\n          \\n\\n\\n\\n\\n    \\n  \\n    How-to Guides\\n  \\n\\n    \\n  \\n\\n\\n\\n\\n\\n\\n    \\n  \\n    Concepts\\n  \\n\\n    \\n  \\n\\n\\n\\n\\n\\n\\n\\n\\n    \\n  \\n    Tutorials\\n  \\n\\n    \\n  \\n\\n\\n\\n\\n\\n\\n\\n\\n            \\n  \\n    Tutorials'),\n",
       " Document(metadata={'source': 'https://langchain-ai.github.io/langgraph/tutorials/introduction/', 'title': 'Learn the basics', 'description': 'Build language agents as graphs', 'language': 'en'}, page_content='Tutorials\\n  \\n\\n    \\n  \\n\\n\\n\\n\\n\\n\\n\\n\\n            \\n  \\n    Tutorials\\n  \\n\\n          \\n\\n\\n\\n\\n\\n\\n    \\n  \\n    Quick Start\\n  \\n\\n    \\n  \\n\\n\\n\\n\\n\\n\\n\\n\\n            \\n  \\n    Quick Start\\n  \\n\\n          \\n\\n\\n\\n\\n    \\n  \\n    Quick Start\\n  \\n\\n    \\n  \\n\\n\\n\\n\\n\\n\\n    \\n  \\n    Learn the basics\\n  \\n\\n    \\n  \\n\\n\\n\\n\\n    \\n  \\n    Learn the basics\\n  \\n\\n    \\n  \\n\\n\\n\\n\\n      Table of contents\\n    \\n\\n\\n\\n\\n      \\n        Setup\\n      \\n    \\n\\n\\n\\n\\n\\n      \\n        Part 1: Build a Basic Chatbot\\n      \\n    \\n\\n\\n\\n\\n\\n      \\n        Part 2: \\uf8ffüõ†Ô∏è Enhancing the Chatbot with Tools\\n      \\n    \\n\\n\\n\\n\\n\\n\\n      \\n        Requirements\\n      \\n    \\n\\n\\n\\n\\n\\n\\n\\n\\n      \\n        Part 3: Adding Memory to the Chatbot\\n      \\n    \\n\\n\\n\\n\\n\\n      \\n        Part 4: Human-in-the-loop\\n      \\n    \\n\\n\\n\\n\\n\\n      \\n        Part 5: Customizing State\\n      \\n    \\n\\n\\n\\n\\n\\n\\n      \\n        Manually updating state\\n      \\n    \\n\\n\\n\\n\\n\\n\\n\\n\\n      \\n        Part 6: Time Travel\\n      \\n    \\n\\n\\n\\n\\n\\n      \\n        Next Steps\\n      \\n    \\n\\n\\n\\n\\n\\n\\n      \\n        Server Quickstart'),\n",
       " Document(metadata={'source': 'https://langchain-ai.github.io/langgraph/tutorials/introduction/', 'title': 'Learn the basics', 'description': 'Build language agents as graphs', 'language': 'en'}, page_content='Next Steps\\n      \\n    \\n\\n\\n\\n\\n\\n\\n      \\n        Server Quickstart\\n      \\n    \\n\\n\\n\\n\\n\\n      \\n        LangGraph Cloud\\n      \\n    \\n\\n\\n\\n\\n\\n      \\n        LangGraph Framework\\n      \\n    \\n\\n\\n\\n\\n\\n      \\n        LangGraph Platform\\n      \\n    \\n\\n\\n\\n\\n\\n\\n\\n\\n\\n\\n\\n    \\n  \\n    Local Deploy\\n  \\n\\n    \\n  \\n\\n\\n\\n\\n\\n    \\n  \\n    Cloud Deploy\\n  \\n\\n    \\n  \\n\\n\\n\\n\\n\\n\\n\\n\\n    \\n  \\n    Chatbots\\n  \\n\\n    \\n  \\n\\n\\n\\n\\n\\n\\n    \\n  \\n    RAG\\n  \\n\\n    \\n  \\n\\n\\n\\n\\n\\n\\n    \\n  \\n    Agent Architectures\\n  \\n\\n    \\n  \\n\\n\\n\\n\\n\\n\\n    \\n  \\n    Evaluation & Analysis\\n  \\n\\n    \\n  \\n\\n\\n\\n\\n\\n\\n    \\n  \\n    Experimental\\n  \\n\\n    \\n  \\n\\n\\n\\n\\n\\n\\n    \\n  \\n    LangGraph Platform\\n  \\n\\n    \\n  \\n\\n\\n\\n\\n\\n\\n\\n\\n\\n\\n\\n\\n\\n    \\n  \\n    Resources\\n  \\n\\n    \\n  \\n\\n\\n\\n\\n\\n            \\n  \\n    Resources\\n  \\n\\n          \\n\\n\\n\\n\\n    \\n  \\n    Prebuilt Agents\\n  \\n\\n    \\n  \\n\\n\\n\\n\\n\\n    \\n  \\n    Companies using LangGraph\\n  \\n\\n    \\n  \\n\\n\\n\\n\\n\\n    \\n  \\n    FAQ\\n  \\n\\n    \\n  \\n\\n\\n\\n\\n\\n    \\n  \\n    Troubleshooting\\n  \\n\\n    \\n  \\n\\n\\n\\n\\n\\n\\n    \\n  \\n    LangGraph Academy Course\\n  \\n\\n    \\n  \\n\\n\\n\\n\\n\\n\\n\\n\\n\\n\\n\\n    \\n  \\n    API reference'),\n",
       " Document(metadata={'source': 'https://langchain-ai.github.io/langgraph/tutorials/introduction/', 'title': 'Learn the basics', 'description': 'Build language agents as graphs', 'language': 'en'}, page_content='API reference\\n  \\n\\n    \\n  \\n\\n\\n\\n\\n\\n\\n\\n\\n\\n\\n\\n\\n\\n\\n      Table of contents\\n    \\n\\n\\n\\n\\n      \\n        Setup\\n      \\n    \\n\\n\\n\\n\\n\\n      \\n        Part 1: Build a Basic Chatbot\\n      \\n    \\n\\n\\n\\n\\n\\n      \\n        Part 2: \\uf8ffüõ†Ô∏è Enhancing the Chatbot with Tools\\n      \\n    \\n\\n\\n\\n\\n\\n\\n      \\n        Requirements\\n      \\n    \\n\\n\\n\\n\\n\\n\\n\\n\\n      \\n        Part 3: Adding Memory to the Chatbot\\n      \\n    \\n\\n\\n\\n\\n\\n      \\n        Part 4: Human-in-the-loop\\n      \\n    \\n\\n\\n\\n\\n\\n      \\n        Part 5: Customizing State\\n      \\n    \\n\\n\\n\\n\\n\\n\\n      \\n        Manually updating state\\n      \\n    \\n\\n\\n\\n\\n\\n\\n\\n\\n      \\n        Part 6: Time Travel\\n      \\n    \\n\\n\\n\\n\\n\\n      \\n        Next Steps\\n      \\n    \\n\\n\\n\\n\\n\\n\\n      \\n        Server Quickstart\\n      \\n    \\n\\n\\n\\n\\n\\n      \\n        LangGraph Cloud\\n      \\n    \\n\\n\\n\\n\\n\\n      \\n        LangGraph Framework\\n      \\n    \\n\\n\\n\\n\\n\\n      \\n        LangGraph Platform\\n      \\n    \\n\\n\\n\\n\\n\\n\\n\\n\\n\\n\\n\\n\\n\\n\\n\\n\\n    Home\\n  \\n\\n\\n\\n\\n\\n    Guides\\n  \\n\\n\\n\\n\\n\\n    Tutorials\\n  \\n\\n\\n\\n\\n\\n    Quick Start'),\n",
       " Document(metadata={'source': 'https://langchain-ai.github.io/langgraph/tutorials/introduction/', 'title': 'Learn the basics', 'description': 'Build language agents as graphs', 'language': 'en'}, page_content='Home\\n  \\n\\n\\n\\n\\n\\n    Guides\\n  \\n\\n\\n\\n\\n\\n    Tutorials\\n  \\n\\n\\n\\n\\n\\n    Quick Start\\n  \\n\\n\\n\\n\\n\\n\\n\\n\\n\\n\\n\\uf8ffüöÄ LangGraph Quickstart¶\\nIn this tutorial, we will build a support chatbot in LangGraph that can:\\n‚úÖ Answer common questions by searching the web\\n‚úÖ Maintain conversation state across calls\\n‚úÖ Route complex queries to a human for review\\n‚úÖ Use custom state to control its behavior\\n‚úÖ Rewind and explore alternative conversation paths  \\nWe\\'ll start with a basic chatbot and progressively add more sophisticated capabilities, introducing key LangGraph concepts along the way. Let‚Äôs dive in! \\uf8ffüåü\\nSetup¶\\nFirst, install the required packages and configure your environment:\\n%%capture --no-stderr\\n%pip install -U langgraph langsmith langchain_anthropic\\n\\nimport getpass\\nimport os\\n\\n\\ndef _set_env(var: str):\\n    if not os.environ.get(var):\\n        os.environ[var] = getpass.getpass(f\"{var}: \")\\n\\n\\n_set_env(\"ANTHROPIC_API_KEY\")\\n\\n\\nSet up LangSmith for LangGraph development'),\n",
       " Document(metadata={'source': 'https://langchain-ai.github.io/langgraph/tutorials/introduction/', 'title': 'Learn the basics', 'description': 'Build language agents as graphs', 'language': 'en'}, page_content='_set_env(\"ANTHROPIC_API_KEY\")\\n\\n\\nSet up LangSmith for LangGraph development\\n\\n        Sign up for LangSmith to quickly spot issues and improve the performance of your LangGraph projects. LangSmith lets you use trace data to debug, test, and monitor your LLM apps built with LangGraph ‚Äî read more about how to get started here. \\n    \\n\\nPart 1: Build a Basic Chatbot¶\\nWe\\'ll first create a simple chatbot using LangGraph. This chatbot will respond directly to user messages. Though simple, it will illustrate the core concepts of building with LangGraph. By the end of this section, you will have a built rudimentary chatbot.\\nStart by creating a StateGraph. A StateGraph object defines the structure of our chatbot as a \"state machine\". We\\'ll add nodes to represent the llm and functions our chatbot can call and edges to specify how the bot should transition between these functions.\\nfrom typing import Annotated\\n\\nfrom typing_extensions import TypedDict'),\n",
       " Document(metadata={'source': 'https://langchain-ai.github.io/langgraph/tutorials/introduction/', 'title': 'Learn the basics', 'description': 'Build language agents as graphs', 'language': 'en'}, page_content='from typing_extensions import TypedDict\\n\\nfrom langgraph.graph import StateGraph, START, END\\nfrom langgraph.graph.message import add_messages\\n\\n\\nclass State(TypedDict):\\n    # Messages have the type \"list\". The `add_messages` function\\n    # in the annotation defines how this state key should be updated\\n    # (in this case, it appends messages to the list, rather than overwriting them)\\n    messages: Annotated[list, add_messages]\\n\\n\\ngraph_builder = StateGraph(State)\\n\\nAPI Reference: StateGraph | START | END | add_messages\\nOur graph can now handle two key tasks:\\n\\nEach node can receive the current State as input and output an update to the state.\\nUpdates to messages will be appended to the existing list rather than overwriting it, thanks to the prebuilt add_messages function used with the Annotated syntax.'),\n",
       " Document(metadata={'source': 'https://langchain-ai.github.io/langgraph/tutorials/introduction/', 'title': 'Learn the basics', 'description': 'Build language agents as graphs', 'language': 'en'}, page_content='Concept\\nWhen defining a graph, the first step is to define its State. The State includes the graph\\'s schema and reducer functions that handle state updates. In our example, State is a TypedDict with one key: messages. The add_messages reducer function is used to append new messages to the list instead of overwriting it. Keys without a reducer annotation will overwrite previous values. Learn more about state, reducers, and related concepts in this guide.\\n\\n\\nNext, add a \"chatbot\" node. Nodes represent units of work. They are typically regular python functions.\\nfrom langchain_anthropic import ChatAnthropic\\n\\nllm = ChatAnthropic(model=\"claude-3-5-sonnet-20240620\")\\n\\n\\ndef chatbot(state: State):\\n    return {\"messages\": [llm.invoke(state[\"messages\"])]}\\n\\n\\n# The first argument is the unique node name\\n# The second argument is the function or object that will be called whenever\\n# the node is used.\\ngraph_builder.add_node(\"chatbot\", chatbot)'),\n",
       " Document(metadata={'source': 'https://langchain-ai.github.io/langgraph/tutorials/introduction/', 'title': 'Learn the basics', 'description': 'Build language agents as graphs', 'language': 'en'}, page_content='API Reference: ChatAnthropic\\nNotice how the chatbot node function takes the current State as input and returns a dictionary containing an updated messages list under the key \"messages\". This is the basic pattern for all LangGraph node functions.\\nThe add_messages function in our State will append the llm\\'s response messages to whatever messages are already in the state.\\nNext, add an entry point. This tells our graph where to start its work each time we run it.\\ngraph_builder.add_edge(START, \"chatbot\")\\n\\nSimilarly, set a finish point. This instructs the graph \"any time this node is run, you can exit.\"\\ngraph_builder.add_edge(\"chatbot\", END)\\n\\nFinally, we\\'ll want to be able to run our graph. To do so, call \"compile()\" on the graph builder. This creates a \"CompiledGraph\" we can use invoke on our state.\\ngraph = graph_builder.compile()'),\n",
       " Document(metadata={'source': 'https://langchain-ai.github.io/langgraph/tutorials/introduction/', 'title': 'Learn the basics', 'description': 'Build language agents as graphs', 'language': 'en'}, page_content='You can visualize the graph using the get_graph method and one of the \"draw\" methods, like draw_ascii or draw_png. The draw methods each require additional dependencies.\\nfrom IPython.display import Image, display\\n\\ntry:\\n    display(Image(graph.get_graph().draw_mermaid_png()))\\nexcept Exception:\\n    # This requires some extra dependencies and is optional\\n    pass\\n\\n\\nNow let\\'s run the chatbot! \\nTip: You can exit the chat loop at any time by typing \"quit\", \"exit\", or \"q\".\\ndef stream_graph_updates(user_input: str):\\n    for event in graph.stream({\"messages\": [{\"role\": \"user\", \"content\": user_input}]}):\\n        for value in event.values():\\n            print(\"Assistant:\", value[\"messages\"][-1].content)\\n\\n\\nwhile True:\\n    try:\\n        user_input = input(\"User: \")\\n        if user_input.lower() in [\"quit\", \"exit\", \"q\"]:\\n            print(\"Goodbye!\")\\n            break'),\n",
       " Document(metadata={'source': 'https://langchain-ai.github.io/langgraph/tutorials/introduction/', 'title': 'Learn the basics', 'description': 'Build language agents as graphs', 'language': 'en'}, page_content='stream_graph_updates(user_input)\\n    except:\\n        # fallback if input() is not available\\n        user_input = \"What do you know about LangGraph?\"\\n        print(\"User: \" + user_input)\\n        stream_graph_updates(user_input)\\n        break\\n\\nAssistant: LangGraph is a library designed to help build stateful multi-agent applications using language models. It provides tools for creating workflows and state machines to coordinate multiple AI agents or language model interactions. LangGraph is built on top of LangChain, leveraging its components while adding graph-based coordination capabilities. It\\'s particularly useful for developing more complex, stateful AI applications that go beyond simple query-response interactions.\\nGoodbye!'),\n",
       " Document(metadata={'source': 'https://langchain-ai.github.io/langgraph/tutorials/introduction/', 'title': 'Learn the basics', 'description': 'Build language agents as graphs', 'language': 'en'}, page_content='Congratulations! You\\'ve built your first chatbot using LangGraph. This bot can engage in basic conversation by taking user input and generating responses using an LLM. You can inspect a LangSmith Trace for the call above at the provided link.\\nHowever, you may have noticed that the bot\\'s knowledge is limited to what\\'s in its training data. In the next part, we\\'ll add a web search tool to expand the bot\\'s knowledge and make it more capable.\\nBelow is the full code for this section for your reference:\\n\\nFull Code\\n\\n\\nfrom typing import Annotated\\n\\nfrom langchain_anthropic import ChatAnthropic\\nfrom typing_extensions import TypedDict\\n\\nfrom langgraph.graph import StateGraph\\nfrom langgraph.graph.message import add_messages\\n\\n\\nclass State(TypedDict):\\n    messages: Annotated[list, add_messages]\\n\\n\\ngraph_builder = StateGraph(State)\\n\\n\\nllm = ChatAnthropic(model=\"claude-3-5-sonnet-20240620\")\\n\\n\\ndef chatbot(state: State):\\n    return {\"messages\": [llm.invoke(state[\"messages\"])]}'),\n",
       " Document(metadata={'source': 'https://langchain-ai.github.io/langgraph/tutorials/introduction/', 'title': 'Learn the basics', 'description': 'Build language agents as graphs', 'language': 'en'}, page_content='def chatbot(state: State):\\n    return {\"messages\": [llm.invoke(state[\"messages\"])]}\\n\\n\\n# The first argument is the unique node name\\n# The second argument is the function or object that will be called whenever\\n# the node is used.\\ngraph_builder.add_node(\"chatbot\", chatbot)\\ngraph_builder.set_entry_point(\"chatbot\")\\ngraph_builder.set_finish_point(\"chatbot\")\\ngraph = graph_builder.compile()\\n\\n\\nAPI Reference: ChatAnthropic | StateGraph | add_messages\\n\\n\\n\\nPart 2: \\uf8ffüõ†Ô∏è Enhancing the Chatbot with Tools¶\\nTo handle queries our chatbot can\\'t answer \"from memory\", we\\'ll integrate a web search tool. Our bot can use this tool to find relevant information and provide better responses.\\nRequirements¶\\nBefore we start, make sure you have the necessary packages installed and API keys set up:\\nFirst, install the requirements to use the Tavily Search Engine, and set your TAVILY_API_KEY.\\n%%capture --no-stderr\\n%pip install -U tavily-python langchain_community\\n\\n_set_env(\"TAVILY_API_KEY\")'),\n",
       " Document(metadata={'source': 'https://langchain-ai.github.io/langgraph/tutorials/introduction/', 'title': 'Learn the basics', 'description': 'Build language agents as graphs', 'language': 'en'}, page_content='_set_env(\"TAVILY_API_KEY\")\\n\\nTAVILY_API_KEY:  ¬∑¬∑¬∑¬∑¬∑¬∑¬∑¬∑\\n\\nNext, define the tool:\\nfrom langchain_community.tools.tavily_search import TavilySearchResults\\n\\ntool = TavilySearchResults(max_results=2)\\ntools = [tool]\\ntool.invoke(\"What\\'s a \\'node\\' in LangGraph?\")'),\n",
       " Document(metadata={'source': 'https://langchain-ai.github.io/langgraph/tutorials/introduction/', 'title': 'Learn the basics', 'description': 'Build language agents as graphs', 'language': 'en'}, page_content=\"API Reference: TavilySearchResults\\n[{'url': 'https://medium.com/@cplog/introduction-to-langgraph-a-beginners-guide-14f9be027141',\\n  'content': 'Nodes: Nodes are the building blocks of your LangGraph. Each node represents a function or a computation step. You define nodes to perform specific tasks, such as processing input, making ...'},\\n {'url': 'https://saksheepatil05.medium.com/demystifying-langgraph-a-beginner-friendly-dive-into-langgraph-concepts-5ffe890ddac0',\\n  'content': 'Nodes (Tasks): Nodes are like the workstations on the assembly line. Each node performs a specific task on the product. In LangGraph, nodes are Python functions that take the current state, do some work, and return an updated state. Next, we define the nodes, each representing a task in our sandwich-making process.'}]\"),\n",
       " Document(metadata={'source': 'https://langchain-ai.github.io/langgraph/tutorials/introduction/', 'title': 'Learn the basics', 'description': 'Build language agents as graphs', 'language': 'en'}, page_content='The results are page summaries our chat bot can use to answer questions.\\nNext, we\\'ll start defining our graph. The following is all the same as in Part 1, except we have added bind_tools on our LLM. This lets the LLM know the correct JSON format to use if it wants to use our search engine.\\nfrom typing import Annotated\\n\\nfrom langchain_anthropic import ChatAnthropic\\nfrom typing_extensions import TypedDict\\n\\nfrom langgraph.graph import StateGraph, START, END\\nfrom langgraph.graph.message import add_messages\\n\\n\\nclass State(TypedDict):\\n    messages: Annotated[list, add_messages]\\n\\n\\ngraph_builder = StateGraph(State)\\n\\n\\nllm = ChatAnthropic(model=\"claude-3-5-sonnet-20240620\")\\n# Modification: tell the LLM which tools it can call\\nllm_with_tools = llm.bind_tools(tools)\\n\\n\\ndef chatbot(state: State):\\n    return {\"messages\": [llm_with_tools.invoke(state[\"messages\"])]}\\n\\n\\ngraph_builder.add_node(\"chatbot\", chatbot)'),\n",
       " Document(metadata={'source': 'https://langchain-ai.github.io/langgraph/tutorials/introduction/', 'title': 'Learn the basics', 'description': 'Build language agents as graphs', 'language': 'en'}, page_content='graph_builder.add_node(\"chatbot\", chatbot)\\n\\nAPI Reference: ChatAnthropic | StateGraph | START | END | add_messages\\nNext we need to create a function to actually run the tools if they are called. We\\'ll do this by adding the tools to a new node.\\nBelow, we implement a BasicToolNode that checks the most recent message in the state and calls tools if the message contains tool_calls. It relies on the LLM\\'s tool_calling support, which is available in Anthropic, OpenAI, Google Gemini, and a number of other LLM providers.\\nWe will later replace this with LangGraph\\'s prebuilt ToolNode to speed things up, but building it ourselves first is instructive.\\nimport json\\n\\nfrom langchain_core.messages import ToolMessage\\n\\n\\nclass BasicToolNode:\\n    \"\"\"A node that runs the tools requested in the last AIMessage.\"\"\"\\n\\n    def __init__(self, tools: list) -> None:\\n        self.tools_by_name = {tool.name: tool for tool in tools}'),\n",
       " Document(metadata={'source': 'https://langchain-ai.github.io/langgraph/tutorials/introduction/', 'title': 'Learn the basics', 'description': 'Build language agents as graphs', 'language': 'en'}, page_content='def __call__(self, inputs: dict):\\n        if messages := inputs.get(\"messages\", []):\\n            message = messages[-1]\\n        else:\\n            raise ValueError(\"No message found in input\")\\n        outputs = []\\n        for tool_call in message.tool_calls:\\n            tool_result = self.tools_by_name[tool_call[\"name\"]].invoke(\\n                tool_call[\"args\"]\\n            )\\n            outputs.append(\\n                ToolMessage(\\n                    content=json.dumps(tool_result),\\n                    name=tool_call[\"name\"],\\n                    tool_call_id=tool_call[\"id\"],\\n                )\\n            )\\n        return {\"messages\": outputs}\\n\\n\\ntool_node = BasicToolNode(tools=[tool])\\ngraph_builder.add_node(\"tools\", tool_node)'),\n",
       " Document(metadata={'source': 'https://langchain-ai.github.io/langgraph/tutorials/introduction/', 'title': 'Learn the basics', 'description': 'Build language agents as graphs', 'language': 'en'}, page_content='API Reference: ToolMessage\\nWith the tool node added, we can define the conditional_edges. \\nRecall that edges route the control flow from one node to the next. Conditional edges usually contain \"if\" statements to route to different nodes depending on the current graph state. These functions receive the current graph state and return a string or list of strings indicating which node(s) to call next.\\nBelow, call define a router function called route_tools, that checks for tool_calls in the chatbot\\'s output. Provide this function to the graph by calling add_conditional_edges, which tells the graph that whenever the chatbot node completes to check this function to see where to go next. \\nThe condition will route to tools if tool calls are present and END if not.\\nLater, we will replace this with the prebuilt tools_condition to be more concise, but implementing it ourselves first makes things more clear. \\ndef route_tools(\\n    state: State,\\n):\\n    \"\"\"'),\n",
       " Document(metadata={'source': 'https://langchain-ai.github.io/langgraph/tutorials/introduction/', 'title': 'Learn the basics', 'description': 'Build language agents as graphs', 'language': 'en'}, page_content='def route_tools(\\n    state: State,\\n):\\n    \"\"\"\\n    Use in the conditional_edge to route to the ToolNode if the last message\\n    has tool calls. Otherwise, route to the end.\\n    \"\"\"\\n    if isinstance(state, list):\\n        ai_message = state[-1]\\n    elif messages := state.get(\"messages\", []):\\n        ai_message = messages[-1]\\n    else:\\n        raise ValueError(f\"No messages found in input state to tool_edge: {state}\")\\n    if hasattr(ai_message, \"tool_calls\") and len(ai_message.tool_calls) > 0:\\n        return \"tools\"\\n    return END'),\n",
       " Document(metadata={'source': 'https://langchain-ai.github.io/langgraph/tutorials/introduction/', 'title': 'Learn the basics', 'description': 'Build language agents as graphs', 'language': 'en'}, page_content='# The `tools_condition` function returns \"tools\" if the chatbot asks to use a tool, and \"END\" if\\n# it is fine directly responding. This conditional routing defines the main agent loop.\\ngraph_builder.add_conditional_edges(\\n    \"chatbot\",\\n    route_tools,\\n    # The following dictionary lets you tell the graph to interpret the condition\\'s outputs as a specific node\\n    # It defaults to the identity function, but if you\\n    # want to use a node named something else apart from \"tools\",\\n    # You can update the value of the dictionary to something else\\n    # e.g., \"tools\": \"my_tools\"\\n    {\"tools\": \"tools\", END: END},\\n)\\n# Any time a tool is called, we return to the chatbot to decide the next step\\ngraph_builder.add_edge(\"tools\", \"chatbot\")\\ngraph_builder.add_edge(START, \"chatbot\")\\ngraph = graph_builder.compile()'),\n",
       " Document(metadata={'source': 'https://langchain-ai.github.io/langgraph/tutorials/introduction/', 'title': 'Learn the basics', 'description': 'Build language agents as graphs', 'language': 'en'}, page_content='Notice that conditional edges start from a single node. This tells the graph \"any time the \\'chatbot\\' node runs, either go to \\'tools\\' if it calls a tool, or end the loop if it responds directly. \\nLike the prebuilt tools_condition, our function returns the END string if no tool calls are made. When the graph transitions to END, it has no more tasks to complete and ceases execution. Because the condition can return END, we don\\'t need to explicitly set a finish_point this time. Our graph already has a way to finish!\\nLet\\'s visualize the graph we\\'ve built. The following function has some additional dependencies to run that are unimportant for this tutorial.\\nfrom IPython.display import Image, display\\n\\ntry:\\n    display(Image(graph.get_graph().draw_mermaid_png()))\\nexcept Exception:\\n    # This requires some extra dependencies and is optional\\n    pass'),\n",
       " Document(metadata={'source': 'https://langchain-ai.github.io/langgraph/tutorials/introduction/', 'title': 'Learn the basics', 'description': 'Build language agents as graphs', 'language': 'en'}, page_content='Now we can ask the bot questions outside its training data.\\nwhile True:\\n    try:\\n        user_input = input(\"User: \")\\n        if user_input.lower() in [\"quit\", \"exit\", \"q\"]:\\n            print(\"Goodbye!\")\\n            break\\n\\n        stream_graph_updates(user_input)\\n    except:\\n        # fallback if input() is not available\\n        user_input = \"What do you know about LangGraph?\"\\n        print(\"User: \" + user_input)\\n        stream_graph_updates(user_input)\\n        break'),\n",
       " Document(metadata={'source': 'https://langchain-ai.github.io/langgraph/tutorials/introduction/', 'title': 'Learn the basics', 'description': 'Build language agents as graphs', 'language': 'en'}, page_content='Assistant: [{\\'text\\': \"To provide you with accurate and up-to-date information about LangGraph, I\\'ll need to search for the latest details. Let me do that for you.\", \\'type\\': \\'text\\'}, {\\'id\\': \\'toolu_01Q588CszHaSvvP2MxRq9zRD\\', \\'input\\': {\\'query\\': \\'LangGraph AI tool information\\'}, \\'name\\': \\'tavily_search_results_json\\', \\'type\\': \\'tool_use\\'}]'),\n",
       " Document(metadata={'source': 'https://langchain-ai.github.io/langgraph/tutorials/introduction/', 'title': 'Learn the basics', 'description': 'Build language agents as graphs', 'language': 'en'}, page_content='Assistant: [{\"url\": \"https://www.langchain.com/langgraph\", \"content\": \"LangGraph sets the foundation for how we can build and scale AI workloads \\\\u2014 from conversational agents, complex task automation, to custom LLM-backed experiences that \\'just work\\'. The next chapter in building complex production-ready features with LLMs is agentic, and with LangGraph and LangSmith, LangChain delivers an out-of-the-box solution ...\"}, {\"url\": \"https://github.com/langchain-ai/langgraph\", \"content\": \"Overview. LangGraph is a library for building stateful, multi-actor applications with LLMs, used to create agent and multi-agent workflows. Compared to other LLM frameworks, it offers these core benefits: cycles, controllability, and persistence. LangGraph allows you to define flows that involve cycles, essential for most agentic architectures ...\"}]\\nAssistant: Based on the search results, I can provide you with information about LangGraph:'),\n",
       " Document(metadata={'source': 'https://langchain-ai.github.io/langgraph/tutorials/introduction/', 'title': 'Learn the basics', 'description': 'Build language agents as graphs', 'language': 'en'}, page_content=\"1. Purpose:\\n   LangGraph is a library designed for building stateful, multi-actor applications with Large Language Models (LLMs). It's particularly useful for creating agent and multi-agent workflows.\\n\\n2. Developer:\\n   LangGraph is developed by LangChain, a company known for its tools and frameworks in the AI and LLM space.\\n\\n3. Key Features:\\n   - Cycles: LangGraph allows the definition of flows that involve cycles, which is essential for most agentic architectures.\\n   - Controllability: It offers enhanced control over the application flow.\\n   - Persistence: The library provides ways to maintain state and persistence in LLM-based applications.\\n\\n4. Use Cases:\\n   LangGraph can be used for various applications, including:\\n   - Conversational agents\\n   - Complex task automation\\n   - Custom LLM-backed experiences\"),\n",
       " Document(metadata={'source': 'https://langchain-ai.github.io/langgraph/tutorials/introduction/', 'title': 'Learn the basics', 'description': 'Build language agents as graphs', 'language': 'en'}, page_content=\"5. Integration:\\n   LangGraph works in conjunction with LangSmith, another tool by LangChain, to provide an out-of-the-box solution for building complex, production-ready features with LLMs.\\n\\n6. Significance:\\n   LangGraph is described as setting the foundation for building and scaling AI workloads. It's positioned as a key tool in the next chapter of LLM-based application development, particularly in the realm of agentic AI.\\n\\n7. Availability:\\n   LangGraph is open-source and available on GitHub, which suggests that developers can access and contribute to its codebase.\\n\\n8. Comparison to Other Frameworks:\\n   LangGraph is noted to offer unique benefits compared to other LLM frameworks, particularly in its ability to handle cycles, provide controllability, and maintain persistence.\\n\\nLangGraph appears to be a significant tool in the evolving landscape of LLM-based application development, offering developers new ways to create more complex, stateful, and interactive AI systems.\\nGoodbye!\"),\n",
       " Document(metadata={'source': 'https://langchain-ai.github.io/langgraph/tutorials/introduction/', 'title': 'Learn the basics', 'description': 'Build language agents as graphs', 'language': 'en'}, page_content=\"Congrats! You've created a conversational agent in langgraph that can use a search engine to retrieve updated information when needed. Now it can handle a wider range of user queries. To inspect all the steps your agent just took, check out this LangSmith trace.\\nOur chatbot still can't remember past interactions on its own, limiting its ability to have coherent, multi-turn conversations. In the next part, we'll add memory to address this.\\nThe full code for the graph we've created in this section is reproduced below, replacing our BasicToolNode for the prebuilt ToolNode, and our route_tools condition with the prebuilt tools_condition\\n\\nFull Code\\n\\n\\nfrom typing import Annotated\\n\\nfrom langchain_anthropic import ChatAnthropic\\nfrom langchain_community.tools.tavily_search import TavilySearchResults\\nfrom langchain_core.messages import BaseMessage\\nfrom typing_extensions import TypedDict\"),\n",
       " Document(metadata={'source': 'https://langchain-ai.github.io/langgraph/tutorials/introduction/', 'title': 'Learn the basics', 'description': 'Build language agents as graphs', 'language': 'en'}, page_content='from langgraph.graph import StateGraph\\nfrom langgraph.graph.message import add_messages\\nfrom langgraph.prebuilt import ToolNode, tools_condition\\n\\n\\nclass State(TypedDict):\\n    messages: Annotated[list, add_messages]\\n\\n\\ngraph_builder = StateGraph(State)\\n\\n\\ntool = TavilySearchResults(max_results=2)\\ntools = [tool]\\nllm = ChatAnthropic(model=\"claude-3-5-sonnet-20240620\")\\nllm_with_tools = llm.bind_tools(tools)\\n\\n\\ndef chatbot(state: State):\\n    return {\"messages\": [llm_with_tools.invoke(state[\"messages\"])]}\\n\\n\\ngraph_builder.add_node(\"chatbot\", chatbot)\\n\\ntool_node = ToolNode(tools=[tool])\\ngraph_builder.add_node(\"tools\", tool_node)\\n\\ngraph_builder.add_conditional_edges(\\n    \"chatbot\",\\n    tools_condition,\\n)\\n# Any time a tool is called, we return to the chatbot to decide the next step\\ngraph_builder.add_edge(\"tools\", \"chatbot\")\\ngraph_builder.set_entry_point(\"chatbot\")\\ngraph = graph_builder.compile()'),\n",
       " Document(metadata={'source': 'https://langchain-ai.github.io/langgraph/tutorials/introduction/', 'title': 'Learn the basics', 'description': 'Build language agents as graphs', 'language': 'en'}, page_content='API Reference: ChatAnthropic | TavilySearchResults | BaseMessage | StateGraph | add_messages | ToolNode | tools_condition'),\n",
       " Document(metadata={'source': 'https://langchain-ai.github.io/langgraph/tutorials/introduction/', 'title': 'Learn the basics', 'description': 'Build language agents as graphs', 'language': 'en'}, page_content=\"Part 3: Adding Memory to the Chatbot¶\\nOur chatbot can now use tools to answer user questions, but it doesn't remember the context of previous interactions. This limits its ability to have coherent, multi-turn conversations.\\nLangGraph solves this problem through persistent checkpointing. If you provide a checkpointer when compiling the graph and a thread_id when calling your graph, LangGraph automatically saves the state after each step. When you invoke the graph again using the same thread_id, the graph loads its saved state, allowing the chatbot to pick up where it left off. \\nWe will see later that checkpointing is much more powerful than simple chat memory - it lets you save and resume complex state at any time for error recovery, human-in-the-loop workflows, time travel interactions, and more. But before we get too ahead of ourselves, let's add checkpointing to enable multi-turn conversations.\\nTo get started, create a MemorySaver checkpointer.\"),\n",
       " Document(metadata={'source': 'https://langchain-ai.github.io/langgraph/tutorials/introduction/', 'title': 'Learn the basics', 'description': 'Build language agents as graphs', 'language': 'en'}, page_content='To get started, create a MemorySaver checkpointer.\\nfrom langgraph.checkpoint.memory import MemorySaver'),\n",
       " Document(metadata={'source': 'https://langchain-ai.github.io/langgraph/tutorials/introduction/', 'title': 'Learn the basics', 'description': 'Build language agents as graphs', 'language': 'en'}, page_content=\"memory = MemorySaver()\\n\\nAPI Reference: MemorySaver\\nNotice we're using an in-memory checkpointer. This is convenient for our tutorial (it saves it all in-memory). In a production application, you would likely change this to use SqliteSaver or PostgresSaver and connect to your own DB.\\nNext define the graph. Now that you've already built your own BasicToolNode, we'll replace it with LangGraph's prebuilt ToolNode and tools_condition, since these do some nice things like parallel API execution. Apart from that, the following is all copied from Part 2.\\nfrom typing import Annotated\\n\\nfrom langchain_anthropic import ChatAnthropic\\nfrom langchain_community.tools.tavily_search import TavilySearchResults\\nfrom langchain_core.messages import BaseMessage\\nfrom typing_extensions import TypedDict\\n\\nfrom langgraph.graph import StateGraph, START, END\\nfrom langgraph.graph.message import add_messages\\nfrom langgraph.prebuilt import ToolNode, tools_condition\"),\n",
       " Document(metadata={'source': 'https://langchain-ai.github.io/langgraph/tutorials/introduction/', 'title': 'Learn the basics', 'description': 'Build language agents as graphs', 'language': 'en'}, page_content='class State(TypedDict):\\n    messages: Annotated[list, add_messages]\\n\\n\\ngraph_builder = StateGraph(State)\\n\\n\\ntool = TavilySearchResults(max_results=2)\\ntools = [tool]\\nllm = ChatAnthropic(model=\"claude-3-5-sonnet-20240620\")\\nllm_with_tools = llm.bind_tools(tools)\\n\\n\\ndef chatbot(state: State):\\n    return {\"messages\": [llm_with_tools.invoke(state[\"messages\"])]}\\n\\n\\ngraph_builder.add_node(\"chatbot\", chatbot)\\n\\ntool_node = ToolNode(tools=[tool])\\ngraph_builder.add_node(\"tools\", tool_node)\\n\\ngraph_builder.add_conditional_edges(\\n    \"chatbot\",\\n    tools_condition,\\n)\\n# Any time a tool is called, we return to the chatbot to decide the next step\\ngraph_builder.add_edge(\"tools\", \"chatbot\")\\ngraph_builder.add_edge(START, \"chatbot\")\\n\\nAPI Reference: ChatAnthropic | TavilySearchResults | BaseMessage | StateGraph | START | END | add_messages | ToolNode | tools_condition\\nFinally, compile the graph with the provided checkpointer.\\ngraph = graph_builder.compile(checkpointer=memory)'),\n",
       " Document(metadata={'source': 'https://langchain-ai.github.io/langgraph/tutorials/introduction/', 'title': 'Learn the basics', 'description': 'Build language agents as graphs', 'language': 'en'}, page_content='Notice the connectivity of the graph hasn\\'t changed since Part 2. All we are doing is checkpointing the State as the graph works through each node.\\nfrom IPython.display import Image, display\\n\\ntry:\\n    display(Image(graph.get_graph().draw_mermaid_png()))\\nexcept Exception:\\n    # This requires some extra dependencies and is optional\\n    pass\\n\\n\\nNow you can interact with your bot! First, pick a thread to use as the key for this conversation.\\nconfig = {\"configurable\": {\"thread_id\": \"1\"}}\\n\\nNext, call your chat bot.\\nuser_input = \"Hi there! My name is Will.\"\\n\\n# The config is the **second positional argument** to stream() or invoke()!\\nevents = graph.stream(\\n    {\"messages\": [{\"role\": \"user\", \"content\": user_input}]},\\n    config,\\n    stream_mode=\"values\",\\n)\\nfor event in events:\\n    event[\"messages\"][-1].pretty_print()\\n\\n================================\\x1b[1m Human Message \\x1b[0m================================='),\n",
       " Document(metadata={'source': 'https://langchain-ai.github.io/langgraph/tutorials/introduction/', 'title': 'Learn the basics', 'description': 'Build language agents as graphs', 'language': 'en'}, page_content='================================\\x1b[1m Human Message \\x1b[0m=================================\\n\\nHi there! My name is Will.\\n==================================\\x1b[1m Ai Message \\x1b[0m==================================\\n\\nHello Will! It\\'s nice to meet you. How can I assist you today? Is there anything specific you\\'d like to know or discuss?\\n\\nNote: The config was provided as the second positional argument when calling our graph. It importantly is not nested within the graph inputs ({\\'messages\\': []}).\\nLet\\'s ask a followup: see if it remembers your name.\\nuser_input = \"Remember my name?\"\\n\\n# The config is the **second positional argument** to stream() or invoke()!\\nevents = graph.stream(\\n    {\"messages\": [{\"role\": \"user\", \"content\": user_input}]},\\n    config,\\n    stream_mode=\"values\",\\n)\\nfor event in events:\\n    event[\"messages\"][-1].pretty_print()\\n\\n================================\\x1b[1m Human Message \\x1b[0m================================='),\n",
       " Document(metadata={'source': 'https://langchain-ai.github.io/langgraph/tutorials/introduction/', 'title': 'Learn the basics', 'description': 'Build language agents as graphs', 'language': 'en'}, page_content='================================\\x1b[1m Human Message \\x1b[0m=================================\\n\\nRemember my name?\\n==================================\\x1b[1m Ai Message \\x1b[0m==================================\\n\\nOf course, I remember your name, Will. I always try to pay attention to important details that users share with me. Is there anything else you\\'d like to talk about or any questions you have? I\\'m here to help with a wide range of topics or tasks.\\n\\nNotice that we aren\\'t using an external list for memory: it\\'s all handled by the checkpointer! You can inspect the full execution in this LangSmith trace to see what\\'s going on.\\nDon\\'t believe me? Try this using a different config.\\n# The only difference is we change the `thread_id` here to \"2\" instead of \"1\"\\nevents = graph.stream(\\n    {\"messages\": [{\"role\": \"user\", \"content\": user_input}]},\\n    {\"configurable\": {\"thread_id\": \"2\"}},\\n    stream_mode=\"values\",\\n)\\nfor event in events:\\n    event[\"messages\"][-1].pretty_print()'),\n",
       " Document(metadata={'source': 'https://langchain-ai.github.io/langgraph/tutorials/introduction/', 'title': 'Learn the basics', 'description': 'Build language agents as graphs', 'language': 'en'}, page_content=\"================================\\x1b[1m Human Message \\x1b[0m=================================\\n\\nRemember my name?\\n==================================\\x1b[1m Ai Message \\x1b[0m==================================\\n\\nI apologize, but I don't have any previous context or memory of your name. As an AI assistant, I don't retain information from past conversations. Each interaction starts fresh. Could you please tell me your name so I can address you properly in this conversation?\\n\\nNotice that the only change we've made is to modify the thread_id in the config. See this call's LangSmith trace for comparison. \\nBy now, we have made a few checkpoints across two different threads. But what goes into a checkpoint? To inspect a graph's state for a given config at any time, call get_state(config).\\nsnapshot = graph.get_state(config)\\nsnapshot\"),\n",
       " Document(metadata={'source': 'https://langchain-ai.github.io/langgraph/tutorials/introduction/', 'title': 'Learn the basics', 'description': 'Build language agents as graphs', 'language': 'en'}, page_content='StateSnapshot(values={\\'messages\\': [HumanMessage(content=\\'Hi there! My name is Will.\\', additional_kwargs={}, response_metadata={}, id=\\'8c1ca919-c553-4ebf-95d4-b59a2d61e078\\'), AIMessage(content=\"Hello Will! It\\'s nice to meet you. How can I assist you today? Is there anything specific you\\'d like to know or discuss?\", additional_kwargs={}, response_metadata={\\'id\\': \\'msg_01WTQebPhNwmMrmmWojJ9KXJ\\', \\'model\\': \\'claude-3-5-sonnet-20240620\\', \\'stop_reason\\': \\'end_turn\\', \\'stop_sequence\\': None, \\'usage\\': {\\'input_tokens\\': 405, \\'output_tokens\\': 32}}, id=\\'run-58587b77-8c82-41e6-8a90-d62c444a261d-0\\', usage_metadata={\\'input_tokens\\': 405, \\'output_tokens\\': 32, \\'total_tokens\\': 437}), HumanMessage(content=\\'Remember my name?\\', additional_kwargs={}, response_metadata={}, id=\\'daba7df6-ad75-4d6b-8057-745881cea1ca\\'), AIMessage(content=\"Of course, I remember your name, Will. I always try to pay attention to important details that users share with me. Is there anything else you\\'d like to talk about or any questions'),\n",
       " Document(metadata={'source': 'https://langchain-ai.github.io/langgraph/tutorials/introduction/', 'title': 'Learn the basics', 'description': 'Build language agents as graphs', 'language': 'en'}, page_content='details that users share with me. Is there anything else you\\'d like to talk about or any questions you have? I\\'m here to help with a wide range of topics or tasks.\", additional_kwargs={}, response_metadata={\\'id\\': \\'msg_01E41KitY74HpENRgXx94vag\\', \\'model\\': \\'claude-3-5-sonnet-20240620\\', \\'stop_reason\\': \\'end_turn\\', \\'stop_sequence\\': None, \\'usage\\': {\\'input_tokens\\': 444, \\'output_tokens\\': 58}}, id=\\'run-ffeaae5c-4d2d-4ddb-bd59-5d5cbf2a5af8-0\\', usage_metadata={\\'input_tokens\\': 444, \\'output_tokens\\': 58, \\'total_tokens\\': 502})]}, next=(), config={\\'configurable\\': {\\'thread_id\\': \\'1\\', \\'checkpoint_ns\\': \\'\\', \\'checkpoint_id\\': \\'1ef7d06e-93e0-6acc-8004-f2ac846575d2\\'}}, metadata={\\'source\\': \\'loop\\', \\'writes\\': {\\'chatbot\\': {\\'messages\\': [AIMessage(content=\"Of course, I remember your name, Will. I always try to pay attention to important details that users share with me. Is there anything else you\\'d like to talk about or any questions you have? I\\'m here to help with a wide range of topics or tasks.\",'),\n",
       " Document(metadata={'source': 'https://langchain-ai.github.io/langgraph/tutorials/introduction/', 'title': 'Learn the basics', 'description': 'Build language agents as graphs', 'language': 'en'}, page_content='to talk about or any questions you have? I\\'m here to help with a wide range of topics or tasks.\", additional_kwargs={}, response_metadata={\\'id\\': \\'msg_01E41KitY74HpENRgXx94vag\\', \\'model\\': \\'claude-3-5-sonnet-20240620\\', \\'stop_reason\\': \\'end_turn\\', \\'stop_sequence\\': None, \\'usage\\': {\\'input_tokens\\': 444, \\'output_tokens\\': 58}}, id=\\'run-ffeaae5c-4d2d-4ddb-bd59-5d5cbf2a5af8-0\\', usage_metadata={\\'input_tokens\\': 444, \\'output_tokens\\': 58, \\'total_tokens\\': 502})]}}, \\'step\\': 4, \\'parents\\': {}}, created_at=\\'2024-09-27T19:30:10.820758+00:00\\', parent_config={\\'configurable\\': {\\'thread_id\\': \\'1\\', \\'checkpoint_ns\\': \\'\\', \\'checkpoint_id\\': \\'1ef7d06e-859f-6206-8003-e1bd3c264b8f\\'}}, tasks=())'),\n",
       " Document(metadata={'source': 'https://langchain-ai.github.io/langgraph/tutorials/introduction/', 'title': 'Learn the basics', 'description': 'Build language agents as graphs', 'language': 'en'}, page_content=\"snapshot.next  # (since the graph ended this turn, `next` is empty. If you fetch a state from within a graph invocation, next tells which node will execute next)\\n\\n()\\n\\nThe snapshot above contains the current state values, corresponding config, and the next node to process. In our case, the graph has reached an END state, so next is empty.\\nCongratulations! Your chatbot can now maintain conversation state across sessions thanks to LangGraph's checkpointing system. This opens up exciting possibilities for more natural, contextual interactions. LangGraph's checkpointing even handles arbitrarily complex graph states, which is much more expressive and powerful than simple chat memory.\\nIn the next part, we'll introduce human oversight to our bot to handle situations where it may need guidance or verification before proceeding.\\nCheck out the code snippet below to review our graph from this section.\\n\\nFull Code\\n\\n\\nfrom typing import Annotated\"),\n",
       " Document(metadata={'source': 'https://langchain-ai.github.io/langgraph/tutorials/introduction/', 'title': 'Learn the basics', 'description': 'Build language agents as graphs', 'language': 'en'}, page_content='Full Code\\n\\n\\nfrom typing import Annotated\\n\\nfrom langchain_anthropic import ChatAnthropic\\nfrom langchain_community.tools.tavily_search import TavilySearchResults\\nfrom langchain_core.messages import BaseMessage\\nfrom typing_extensions import TypedDict\\n\\nfrom langgraph.checkpoint.memory import MemorySaver\\nfrom langgraph.graph import StateGraph\\nfrom langgraph.graph.message import add_messages\\nfrom langgraph.prebuilt import ToolNode\\n\\n\\nclass State(TypedDict):\\n    messages: Annotated[list, add_messages]\\n\\n\\ngraph_builder = StateGraph(State)\\n\\n\\ntool = TavilySearchResults(max_results=2)\\ntools = [tool]\\nllm = ChatAnthropic(model=\"claude-3-5-sonnet-20240620\")\\nllm_with_tools = llm.bind_tools(tools)\\n\\n\\ndef chatbot(state: State):\\n    return {\"messages\": [llm_with_tools.invoke(state[\"messages\"])]}\\n\\n\\ngraph_builder.add_node(\"chatbot\", chatbot)\\n\\ntool_node = ToolNode(tools=[tool])\\ngraph_builder.add_node(\"tools\", tool_node)'),\n",
       " Document(metadata={'source': 'https://langchain-ai.github.io/langgraph/tutorials/introduction/', 'title': 'Learn the basics', 'description': 'Build language agents as graphs', 'language': 'en'}, page_content='tool_node = ToolNode(tools=[tool])\\ngraph_builder.add_node(\"tools\", tool_node)\\n\\ngraph_builder.add_conditional_edges(\\n    \"chatbot\",\\n    tools_condition,\\n)\\ngraph_builder.add_edge(\"tools\", \"chatbot\")\\ngraph_builder.set_entry_point(\"chatbot\")\\nmemory = MemorySaver()\\ngraph = graph_builder.compile(checkpointer=memory)\\n\\n\\nAPI Reference: ChatAnthropic | TavilySearchResults | BaseMessage | MemorySaver | StateGraph | add_messages | ToolNode'),\n",
       " Document(metadata={'source': 'https://langchain-ai.github.io/langgraph/tutorials/introduction/', 'title': 'Learn the basics', 'description': 'Build language agents as graphs', 'language': 'en'}, page_content=\"Part 4: Human-in-the-loop¶\\nAgents can be unreliable and may need human input to successfully accomplish tasks. Similarly, for some actions, you may want to require human approval before running to ensure that everything is running as intended.\\nLangGraph's persistence layer supports human-in-the-loop workflows, allowing execution to pause and resume based on user feedback. The primary interface to this functionality is the interrupt function. Calling interrupt inside a node will pause execution. Execution can be resumed, together with new input from a human, by passing in a Command. interrupt is ergonomically similar to Python's built-in input(), with some caveats. We demonstrate an example below.\\nFirst, start with our existing code from Part 3. We will make one change, which is to add a simple human_assistance tool accessible to the chatbot. This tool uses interrupt to receive information from a human.\\nfrom typing import Annotated\"),\n",
       " Document(metadata={'source': 'https://langchain-ai.github.io/langgraph/tutorials/introduction/', 'title': 'Learn the basics', 'description': 'Build language agents as graphs', 'language': 'en'}, page_content='from langchain_anthropic import ChatAnthropic\\nfrom langchain_community.tools.tavily_search import TavilySearchResults\\nfrom langchain_core.tools import tool\\nfrom typing_extensions import TypedDict\\n\\nfrom langgraph.checkpoint.memory import MemorySaver\\nfrom langgraph.graph import StateGraph, START, END\\nfrom langgraph.graph.message import add_messages\\nfrom langgraph.prebuilt import ToolNode, tools_condition\\n\\nfrom langgraph.types import Command, interrupt\\n\\n\\nclass State(TypedDict):\\n    messages: Annotated[list, add_messages]\\n\\n\\ngraph_builder = StateGraph(State)\\n\\n\\n@tool\\ndef human_assistance(query: str) -> str:\\n    \"\"\"Request assistance from a human.\"\"\"\\n    human_response = interrupt({\"query\": query})\\n    return human_response[\"data\"]\\n\\n\\ntool = TavilySearchResults(max_results=2)\\ntools = [tool, human_assistance]\\nllm = ChatAnthropic(model=\"claude-3-5-sonnet-20240620\")\\nllm_with_tools = llm.bind_tools(tools)'),\n",
       " Document(metadata={'source': 'https://langchain-ai.github.io/langgraph/tutorials/introduction/', 'title': 'Learn the basics', 'description': 'Build language agents as graphs', 'language': 'en'}, page_content='def chatbot(state: State):\\n    message = llm_with_tools.invoke(state[\"messages\"])\\n    # Because we will be interrupting during tool execution,\\n    # we disable parallel tool calling to avoid repeating any\\n    # tool invocations when we resume.\\n    assert len(message.tool_calls) <= 1\\n    return {\"messages\": [message]}\\n\\n\\ngraph_builder.add_node(\"chatbot\", chatbot)\\n\\ntool_node = ToolNode(tools=tools)\\ngraph_builder.add_node(\"tools\", tool_node)\\n\\ngraph_builder.add_conditional_edges(\\n    \"chatbot\",\\n    tools_condition,\\n)\\ngraph_builder.add_edge(\"tools\", \"chatbot\")\\ngraph_builder.add_edge(START, \"chatbot\")\\n\\nAPI Reference: ChatAnthropic | TavilySearchResults | tool | MemorySaver | StateGraph | START | END | add_messages | ToolNode | tools_condition | Command | interrupt\\n\\n\\nTip\\nCheck out the Human-in-the-loop section of the How-to Guides for more examples of Human-in-the-loop workflows, including how to review and edit tool calls before they are executed.'),\n",
       " Document(metadata={'source': 'https://langchain-ai.github.io/langgraph/tutorials/introduction/', 'title': 'Learn the basics', 'description': 'Build language agents as graphs', 'language': 'en'}, page_content='We compile the graph with a checkpointer, as before:\\nmemory = MemorySaver()\\n\\ngraph = graph_builder.compile(checkpointer=memory)\\n\\nVisualizing the graph, we recover the same layout as before. We have just added a tool!\\nfrom IPython.display import Image, display\\n\\ntry:\\n    display(Image(graph.get_graph().draw_mermaid_png()))\\nexcept Exception:\\n    # This requires some extra dependencies and is optional\\n    pass\\n\\n\\nLet\\'s now prompt the chatbot with a question that will engage the new human_assistance tool:\\nuser_input = \"I need some expert guidance for building an AI agent. Could you request assistance for me?\"\\nconfig = {\"configurable\": {\"thread_id\": \"1\"}}\\n\\nevents = graph.stream(\\n    {\"messages\": [{\"role\": \"user\", \"content\": user_input}]},\\n    config,\\n    stream_mode=\"values\",\\n)\\nfor event in events:\\n    if \"messages\" in event:\\n        event[\"messages\"][-1].pretty_print()\\n\\n================================\\x1b[1m Human Message \\x1b[0m================================='),\n",
       " Document(metadata={'source': 'https://langchain-ai.github.io/langgraph/tutorials/introduction/', 'title': 'Learn the basics', 'description': 'Build language agents as graphs', 'language': 'en'}, page_content='================================\\x1b[1m Human Message \\x1b[0m=================================\\n\\nI need some expert guidance for building an AI agent. Could you request assistance for me?\\n==================================\\x1b[1m Ai Message \\x1b[0m=================================='),\n",
       " Document(metadata={'source': 'https://langchain-ai.github.io/langgraph/tutorials/introduction/', 'title': 'Learn the basics', 'description': 'Build language agents as graphs', 'language': 'en'}, page_content='[{\\'text\\': \"Certainly! I\\'d be happy to request expert assistance for you regarding building an AI agent. To do this, I\\'ll use the human_assistance function to relay your request. Let me do that for you now.\", \\'type\\': \\'text\\'}, {\\'id\\': \\'toolu_01ABUqneqnuHNuo1vhfDFQCW\\', \\'input\\': {\\'query\\': \\'A user is requesting expert guidance for building an AI agent. Could you please provide some expert advice or resources on this topic?\\'}, \\'name\\': \\'human_assistance\\', \\'type\\': \\'tool_use\\'}]\\nTool Calls:\\n  human_assistance (toolu_01ABUqneqnuHNuo1vhfDFQCW)\\n Call ID: toolu_01ABUqneqnuHNuo1vhfDFQCW\\n  Args:\\n    query: A user is requesting expert guidance for building an AI agent. Could you please provide some expert advice or resources on this topic?\\n\\nThe chatbot generated a tool call, but then execution has been interrupted! Note that if we inspect the graph state, we see that it stopped at the tools node:\\nsnapshot = graph.get_state(config)\\nsnapshot.next\\n\\n(\\'tools\\',)'),\n",
       " Document(metadata={'source': 'https://langchain-ai.github.io/langgraph/tutorials/introduction/', 'title': 'Learn the basics', 'description': 'Build language agents as graphs', 'language': 'en'}, page_content='(\\'tools\\',)\\n\\nLet\\'s take a closer look at the human_assistance tool:\\n@tool\\ndef human_assistance(query: str) -> str:\\n    \"\"\"Request assistance from a human.\"\"\"\\n    human_response = interrupt({\"query\": query})\\n    return human_response[\"data\"]'),\n",
       " Document(metadata={'source': 'https://langchain-ai.github.io/langgraph/tutorials/introduction/', 'title': 'Learn the basics', 'description': 'Build language agents as graphs', 'language': 'en'}, page_content='Similar to Python\\'s built-in input() function, calling interrupt inside the tool will pause execution. Progress is persisted based on our choice of checkpointer-- so if we are persisting with Postgres, we can resume at any time as long as the database is alive. Here we are persisting with the in-memory checkpointer, so we can resume any time as long as our Python kernel is running.\\nTo resume execution, we pass a Command object containing data expected by the tool. The format of this data can be customized based on our needs. Here, we just need a dict with a key \"data\":\\nhuman_response = (\\n    \"We, the experts are here to help! We\\'d recommend you check out LangGraph to build your agent.\"\\n    \" It\\'s much more reliable and extensible than simple autonomous agents.\"\\n)\\n\\nhuman_command = Command(resume={\"data\": human_response})\\n\\nevents = graph.stream(human_command, config, stream_mode=\"values\")\\nfor event in events:\\n    if \"messages\" in event:\\n        event[\"messages\"][-1].pretty_print()'),\n",
       " Document(metadata={'source': 'https://langchain-ai.github.io/langgraph/tutorials/introduction/', 'title': 'Learn the basics', 'description': 'Build language agents as graphs', 'language': 'en'}, page_content='==================================\\x1b[1m Ai Message \\x1b[0m==================================\\n\\n[{\\'text\\': \"Certainly! I\\'d be happy to request expert assistance for you regarding building an AI agent. To do this, I\\'ll use the human_assistance function to relay your request. Let me do that for you now.\", \\'type\\': \\'text\\'}, {\\'id\\': \\'toolu_01ABUqneqnuHNuo1vhfDFQCW\\', \\'input\\': {\\'query\\': \\'A user is requesting expert guidance for building an AI agent. Could you please provide some expert advice or resources on this topic?\\'}, \\'name\\': \\'human_assistance\\', \\'type\\': \\'tool_use\\'}]\\nTool Calls:\\n  human_assistance (toolu_01ABUqneqnuHNuo1vhfDFQCW)\\n Call ID: toolu_01ABUqneqnuHNuo1vhfDFQCW\\n  Args:\\n    query: A user is requesting expert guidance for building an AI agent. Could you please provide some expert advice or resources on this topic?\\n=================================\\x1b[1m Tool Message \\x1b[0m=================================\\nName: human_assistance'),\n",
       " Document(metadata={'source': 'https://langchain-ai.github.io/langgraph/tutorials/introduction/', 'title': 'Learn the basics', 'description': 'Build language agents as graphs', 'language': 'en'}, page_content=\"We, the experts are here to help! We'd recommend you check out LangGraph to build your agent. It's much more reliable and extensible than simple autonomous agents.\\n==================================\\x1b[1m Ai Message \\x1b[0m==================================\\n\\nThank you for your patience. I've received some expert advice regarding your request for guidance on building an AI agent. Here's what the experts have suggested:\\n\\nThe experts recommend that you look into LangGraph for building your AI agent. They mention that LangGraph is a more reliable and extensible option compared to simple autonomous agents.\\n\\nLangGraph is likely a framework or library designed specifically for creating AI agents with advanced capabilities. Here are a few points to consider based on this recommendation:\\n\\n1. Reliability: The experts emphasize that LangGraph is more reliable than simpler autonomous agent approaches. This could mean it has better stability, error handling, or consistent performance.\"),\n",
       " Document(metadata={'source': 'https://langchain-ai.github.io/langgraph/tutorials/introduction/', 'title': 'Learn the basics', 'description': 'Build language agents as graphs', 'language': 'en'}, page_content='2. Extensibility: LangGraph is described as more extensible, which suggests that it probably offers a flexible architecture that allows you to easily add new features or modify existing ones as your agent\\'s requirements evolve.\\n\\n3. Advanced capabilities: Given that it\\'s recommended over \"simple autonomous agents,\" LangGraph likely provides more sophisticated tools and techniques for building complex AI agents.\\n\\nTo get started with LangGraph, you might want to:\\n\\n1. Search for the official LangGraph documentation or website to learn more about its features and how to use it.\\n2. Look for tutorials or guides specifically focused on building AI agents with LangGraph.\\n3. Check if there are any community forums or discussion groups where you can ask questions and get support from other developers using LangGraph.'),\n",
       " Document(metadata={'source': 'https://langchain-ai.github.io/langgraph/tutorials/introduction/', 'title': 'Learn the basics', 'description': 'Build language agents as graphs', 'language': 'en'}, page_content=\"If you'd like more specific information about LangGraph or have any questions about this recommendation, please feel free to ask, and I can request further assistance from the experts.\"),\n",
       " Document(metadata={'source': 'https://langchain-ai.github.io/langgraph/tutorials/introduction/', 'title': 'Learn the basics', 'description': 'Build language agents as graphs', 'language': 'en'}, page_content=\"Our input has been received and processed as a tool message. Review this call's LangSmith trace to see the exact work that was done in the above call. Notice that the state is loaded in the first step so that our chatbot can continue where it left off.\\nCongrats! You've used an interrupt to add human-in-the-loop execution to your chatbot, allowing for human oversight and intervention when needed. This opens up the potential UIs you can create with your AI systems. Since we have already added a checkpointer, as long as the underlying persistence layer is running, the graph can be paused indefinitely and resumed at any time as if nothing had happened.\\nHuman-in-the-loop workflows enable a variety of new workflows and user experiences. Check out this section of the How-to Guides for more examples of Human-in-the-loop workflows, including how to review and edit tool calls before they are executed.\\n\\nFull Code\\n\\n\\nfrom typing import Annotated\"),\n",
       " Document(metadata={'source': 'https://langchain-ai.github.io/langgraph/tutorials/introduction/', 'title': 'Learn the basics', 'description': 'Build language agents as graphs', 'language': 'en'}, page_content='Full Code\\n\\n\\nfrom typing import Annotated\\n\\nfrom langchain_anthropic import ChatAnthropic\\nfrom langchain_community.tools.tavily_search import TavilySearchResults\\nfrom langchain_core.tools import tool\\nfrom typing_extensions import TypedDict\\n\\nfrom langgraph.checkpoint.memory import MemorySaver\\nfrom langgraph.graph import StateGraph, START, END\\nfrom langgraph.graph.message import add_messages\\nfrom langgraph.prebuilt import ToolNode, tools_condition\\nfrom langgraph.types import Command, interrupt\\n\\n\\nclass State(TypedDict):\\n    messages: Annotated[list, add_messages]\\n\\n\\ngraph_builder = StateGraph(State)\\n\\n\\n@tool\\ndef human_assistance(query: str) -> str:\\n    \"\"\"Request assistance from a human.\"\"\"\\n    human_response = interrupt({\"query\": query})\\n    return human_response[\"data\"]\\n\\n\\ntool = TavilySearchResults(max_results=2)\\ntools = [tool, human_assistance]\\nllm = ChatAnthropic(model=\"claude-3-5-sonnet-20240620\")\\nllm_with_tools = llm.bind_tools(tools)'),\n",
       " Document(metadata={'source': 'https://langchain-ai.github.io/langgraph/tutorials/introduction/', 'title': 'Learn the basics', 'description': 'Build language agents as graphs', 'language': 'en'}, page_content='def chatbot(state: State):\\n    message = llm_with_tools.invoke(state[\"messages\"])\\n    assert(len(message.tool_calls) <= 1)\\n    return {\"messages\": [message]}\\n\\n\\ngraph_builder.add_node(\"chatbot\", chatbot)\\n\\ntool_node = ToolNode(tools=tools)\\ngraph_builder.add_node(\"tools\", tool_node)\\n\\ngraph_builder.add_conditional_edges(\\n    \"chatbot\",\\n    tools_condition,\\n)\\ngraph_builder.add_edge(\"tools\", \"chatbot\")\\ngraph_builder.add_edge(START, \"chatbot\")\\n\\nmemory = MemorySaver()\\ngraph = graph_builder.compile(checkpointer=memory)\\n\\n\\nAPI Reference: ChatAnthropic | TavilySearchResults | tool | MemorySaver | StateGraph | START | END | add_messages | ToolNode | tools_condition | Command | interrupt'),\n",
       " Document(metadata={'source': 'https://langchain-ai.github.io/langgraph/tutorials/introduction/', 'title': 'Learn the basics', 'description': 'Build language agents as graphs', 'language': 'en'}, page_content=\"Part 5: Customizing State¶\\nSo far, we've relied on a simple state with one entry-- a list of messages. You can go far with this simple state, but if you want to define complex behavior without relying on the message list, you can add additional fields to the state. Here we will demonstrate a new scenario, in which the chatbot is using its search tool to find specific information, and forwarding them to a human for review. Let's have the chatbot research the birthday of an entity. We will add name and birthday keys to the state:\\nfrom typing import Annotated\\n\\nfrom typing_extensions import TypedDict\\n\\nfrom langgraph.graph.message import add_messages\\n\\n\\nclass State(TypedDict):\\n    messages: Annotated[list, add_messages]\\n    name: str\\n    birthday: str\"),\n",
       " Document(metadata={'source': 'https://langchain-ai.github.io/langgraph/tutorials/introduction/', 'title': 'Learn the basics', 'description': 'Build language agents as graphs', 'language': 'en'}, page_content=\"API Reference: add_messages\\nAdding this information to the state makes it easily accessible by other graph nodes (e.g., a downstream node that stores or processes the information), as well as the graph's persistence layer.\\nHere, we will populate the state keys inside of our human_assistance tool. This allows a human to review the information before it is stored in the state. We will again use Command, this time to issue a state update from inside our tool. Read more about use cases for Command here.\\nfrom langchain_core.messages import ToolMessage\\nfrom langchain_core.tools import InjectedToolCallId, tool\\n\\nfrom langgraph.types import Command, interrupt\"),\n",
       " Document(metadata={'source': 'https://langchain-ai.github.io/langgraph/tutorials/introduction/', 'title': 'Learn the basics', 'description': 'Build language agents as graphs', 'language': 'en'}, page_content='@tool\\n# Note that because we are generating a ToolMessage for a state update, we\\n# generally require the ID of the corresponding tool call. We can use\\n# LangChain\\'s InjectedToolCallId to signal that this argument should not\\n# be revealed to the model in the tool\\'s schema.\\ndef human_assistance(\\n    name: str, birthday: str, tool_call_id: Annotated[str, InjectedToolCallId]\\n) -> str:\\n    \"\"\"Request assistance from a human.\"\"\"\\n    human_response = interrupt(\\n        {\\n            \"question\": \"Is this correct?\",\\n            \"name\": name,\\n            \"birthday\": birthday,\\n        },\\n    )\\n    # If the information is correct, update the state as-is.\\n    if human_response.get(\"correct\", \"\").lower().startswith(\"y\"):\\n        verified_name = name\\n        verified_birthday = birthday\\n        response = \"Correct\"\\n    # Otherwise, receive information from the human reviewer.\\n    else:\\n        verified_name = human_response.get(\"name\", name)'),\n",
       " Document(metadata={'source': 'https://langchain-ai.github.io/langgraph/tutorials/introduction/', 'title': 'Learn the basics', 'description': 'Build language agents as graphs', 'language': 'en'}, page_content='else:\\n        verified_name = human_response.get(\"name\", name)\\n        verified_birthday = human_response.get(\"birthday\", birthday)\\n        response = f\"Made a correction: {human_response}\"'),\n",
       " Document(metadata={'source': 'https://langchain-ai.github.io/langgraph/tutorials/introduction/', 'title': 'Learn the basics', 'description': 'Build language agents as graphs', 'language': 'en'}, page_content='# This time we explicitly update the state with a ToolMessage inside\\n    # the tool.\\n    state_update = {\\n        \"name\": verified_name,\\n        \"birthday\": verified_birthday,\\n        \"messages\": [ToolMessage(response, tool_call_id=tool_call_id)],\\n    }\\n    # We return a Command object in the tool to update our state.\\n    return Command(update=state_update)\\n\\nAPI Reference: ToolMessage | InjectedToolCallId | tool | Command | interrupt\\nOtherwise, the rest of our graph is the same:\\nfrom langchain_anthropic import ChatAnthropic\\nfrom langchain_community.tools.tavily_search import TavilySearchResults\\n\\nfrom langgraph.checkpoint.memory import MemorySaver\\nfrom langgraph.graph import StateGraph, START, END\\nfrom langgraph.prebuilt import ToolNode, tools_condition\\n\\n\\ntool = TavilySearchResults(max_results=2)\\ntools = [tool, human_assistance]\\nllm = ChatAnthropic(model=\"claude-3-5-sonnet-20240620\")\\nllm_with_tools = llm.bind_tools(tools)'),\n",
       " Document(metadata={'source': 'https://langchain-ai.github.io/langgraph/tutorials/introduction/', 'title': 'Learn the basics', 'description': 'Build language agents as graphs', 'language': 'en'}, page_content='def chatbot(state: State):\\n    message = llm_with_tools.invoke(state[\"messages\"])\\n    assert len(message.tool_calls) <= 1\\n    return {\"messages\": [message]}\\n\\n\\ngraph_builder = StateGraph(State)\\ngraph_builder.add_node(\"chatbot\", chatbot)\\n\\ntool_node = ToolNode(tools=tools)\\ngraph_builder.add_node(\"tools\", tool_node)\\n\\ngraph_builder.add_conditional_edges(\\n    \"chatbot\",\\n    tools_condition,\\n)\\ngraph_builder.add_edge(\"tools\", \"chatbot\")\\ngraph_builder.add_edge(START, \"chatbot\")\\n\\nmemory = MemorySaver()\\ngraph = graph_builder.compile(checkpointer=memory)'),\n",
       " Document(metadata={'source': 'https://langchain-ai.github.io/langgraph/tutorials/introduction/', 'title': 'Learn the basics', 'description': 'Build language agents as graphs', 'language': 'en'}, page_content='memory = MemorySaver()\\ngraph = graph_builder.compile(checkpointer=memory)\\n\\nAPI Reference: ChatAnthropic | TavilySearchResults | MemorySaver | StateGraph | START | END | ToolNode | tools_condition\\nLet\\'s prompt our application to look up the \"birthday\" of the LangGraph library. We will direct the chatbot to reach out to the human_assistance tool once it has the required information. Note that setting name and birthday in the arguments for the tool, we force the chatbot to generate proposals for these fields.\\nuser_input = (\\n    \"Can you look up when LangGraph was released? \"\\n    \"When you have the answer, use the human_assistance tool for review.\"\\n)\\nconfig = {\"configurable\": {\"thread_id\": \"1\"}}\\n\\nevents = graph.stream(\\n    {\"messages\": [{\"role\": \"user\", \"content\": user_input}]},\\n    config,\\n    stream_mode=\"values\",\\n)\\nfor event in events:\\n    if \"messages\" in event:\\n        event[\"messages\"][-1].pretty_print()'),\n",
       " Document(metadata={'source': 'https://langchain-ai.github.io/langgraph/tutorials/introduction/', 'title': 'Learn the basics', 'description': 'Build language agents as graphs', 'language': 'en'}, page_content='================================\\x1b[1m Human Message \\x1b[0m=================================\\n\\nCan you look up when LangGraph was released? When you have the answer, use the human_assistance tool for review.\\n==================================\\x1b[1m Ai Message \\x1b[0m==================================\\n\\n[{\\'text\\': \"Certainly! I\\'ll start by searching for information about LangGraph\\'s release date using the Tavily search function. Then, I\\'ll use the human_assistance tool for review.\", \\'type\\': \\'text\\'}, {\\'id\\': \\'toolu_01JoXQPgTVJXiuma8xMVwqAi\\', \\'input\\': {\\'query\\': \\'LangGraph release date\\'}, \\'name\\': \\'tavily_search_results_json\\', \\'type\\': \\'tool_use\\'}]\\nTool Calls:\\n  tavily_search_results_json (toolu_01JoXQPgTVJXiuma8xMVwqAi)\\n Call ID: toolu_01JoXQPgTVJXiuma8xMVwqAi\\n  Args:\\n    query: LangGraph release date\\n=================================\\x1b[1m Tool Message \\x1b[0m=================================\\nName: tavily_search_results_json'),\n",
       " Document(metadata={'source': 'https://langchain-ai.github.io/langgraph/tutorials/introduction/', 'title': 'Learn the basics', 'description': 'Build language agents as graphs', 'language': 'en'}, page_content='[{\"url\": \"https://blog.langchain.dev/langgraph-cloud/\", \"content\": \"We also have a new stable release of LangGraph. By LangChain 6 min read Jun 27, 2024 (Oct \\'24) Edit: Since the launch of LangGraph Cloud, we now have multiple deployment options alongside LangGraph Studio - which now fall under LangGraph Platform. LangGraph Cloud is synonymous with our Cloud SaaS deployment option.\"}, {\"url\": \"https://changelog.langchain.com/announcements/langgraph-cloud-deploy-at-scale-monitor-carefully-iterate-boldly\", \"content\": \"LangChain - Changelog | ‚òÅ \\uf8ffüöÄ LangGraph Cloud: Deploy at scale, monitor LangChain LangSmith LangGraph LangChain LangSmith LangGraph LangChain LangSmith LangGraph LangChain Changelog Sign up for our newsletter to stay up to date DATE: The LangChain Team LangGraph LangGraph Cloud ‚òÅ \\uf8ffüöÄ LangGraph Cloud: Deploy at scale, monitor carefully, iterate boldly DATE: June 27, 2024 AUTHOR: The LangChain Team LangGraph Cloud is now in closed beta, offering scalable,'),\n",
       " Document(metadata={'source': 'https://langchain-ai.github.io/langgraph/tutorials/introduction/', 'title': 'Learn the basics', 'description': 'Build language agents as graphs', 'language': 'en'}, page_content='June 27, 2024 AUTHOR: The LangChain Team LangGraph Cloud is now in closed beta, offering scalable, fault-tolerant deployment for LangGraph agents. LangGraph Cloud also includes a new playground-like studio for debugging agent failure modes and quick iteration: Join the waitlist today for LangGraph Cloud. And to learn more, read our blog post announcement or check out our docs. Subscribe By clicking subscribe, you accept our privacy policy and terms and conditions.\"}]'),\n",
       " Document(metadata={'source': 'https://langchain-ai.github.io/langgraph/tutorials/introduction/', 'title': 'Learn the basics', 'description': 'Build language agents as graphs', 'language': 'en'}, page_content='==================================\\x1b[1m Ai Message \\x1b[0m=================================='),\n",
       " Document(metadata={'source': 'https://langchain-ai.github.io/langgraph/tutorials/introduction/', 'title': 'Learn the basics', 'description': 'Build language agents as graphs', 'language': 'en'}, page_content='[{\\'text\\': \"Based on the search results, it appears that LangGraph was already in existence before June 27, 2024, when LangGraph Cloud was announced. However, the search results don\\'t provide a specific release date for the original LangGraph. \\\\n\\\\nGiven this information, I\\'ll use the human_assistance tool to review and potentially provide more accurate information about LangGraph\\'s initial release date.\", \\'type\\': \\'text\\'}, {\\'id\\': \\'toolu_01JDQAV7nPqMkHHhNs3j3XoN\\', \\'input\\': {\\'name\\': \\'Assistant\\', \\'birthday\\': \\'2023-01-01\\'}, \\'name\\': \\'human_assistance\\', \\'type\\': \\'tool_use\\'}]\\nTool Calls:\\n  human_assistance (toolu_01JDQAV7nPqMkHHhNs3j3XoN)\\n Call ID: toolu_01JDQAV7nPqMkHHhNs3j3XoN\\n  Args:\\n    name: Assistant\\n    birthday: 2023-01-01\\n\\nWe\\'ve hit the interrupt in the human_assistance tool again. In this case, the chatbot failed to identify the correct date, so we can supply it:\\nhuman_command = Command(\\n    resume={\\n        \"name\": \"LangGraph\",\\n        \"birthday\": \"Jan 17, 2024\",\\n    },\\n)'),\n",
       " Document(metadata={'source': 'https://langchain-ai.github.io/langgraph/tutorials/introduction/', 'title': 'Learn the basics', 'description': 'Build language agents as graphs', 'language': 'en'}, page_content='events = graph.stream(human_command, config, stream_mode=\"values\")\\nfor event in events:\\n    if \"messages\" in event:\\n        event[\"messages\"][-1].pretty_print()\\n\\n==================================\\x1b[1m Ai Message \\x1b[0m=================================='),\n",
       " Document(metadata={'source': 'https://langchain-ai.github.io/langgraph/tutorials/introduction/', 'title': 'Learn the basics', 'description': 'Build language agents as graphs', 'language': 'en'}, page_content='==================================\\x1b[1m Ai Message \\x1b[0m==================================\\n\\n[{\\'text\\': \"Based on the search results, it appears that LangGraph was already in existence before June 27, 2024, when LangGraph Cloud was announced. However, the search results don\\'t provide a specific release date for the original LangGraph. \\\\n\\\\nGiven this information, I\\'ll use the human_assistance tool to review and potentially provide more accurate information about LangGraph\\'s initial release date.\", \\'type\\': \\'text\\'}, {\\'id\\': \\'toolu_01JDQAV7nPqMkHHhNs3j3XoN\\', \\'input\\': {\\'name\\': \\'Assistant\\', \\'birthday\\': \\'2023-01-01\\'}, \\'name\\': \\'human_assistance\\', \\'type\\': \\'tool_use\\'}]\\nTool Calls:\\n  human_assistance (toolu_01JDQAV7nPqMkHHhNs3j3XoN)\\n Call ID: toolu_01JDQAV7nPqMkHHhNs3j3XoN\\n  Args:\\n    name: Assistant\\n    birthday: 2023-01-01\\n=================================\\x1b[1m Tool Message \\x1b[0m=================================\\nName: human_assistance'),\n",
       " Document(metadata={'source': 'https://langchain-ai.github.io/langgraph/tutorials/introduction/', 'title': 'Learn the basics', 'description': 'Build language agents as graphs', 'language': 'en'}, page_content='Made a correction: {\\'name\\': \\'LangGraph\\', \\'birthday\\': \\'Jan 17, 2024\\'}\\n==================================\\x1b[1m Ai Message \\x1b[0m==================================\\n\\nThank you for the human assistance. I can now provide you with the correct information about LangGraph\\'s release date.\\n\\nLangGraph was initially released on January 17, 2024. This information comes from the human assistance correction, which is more accurate than the search results I initially found.\\n\\nTo summarize:\\n1. LangGraph\\'s original release date: January 17, 2024\\n2. LangGraph Cloud announcement: June 27, 2024\\n\\nIt\\'s worth noting that LangGraph had been in development and use for some time before the LangGraph Cloud announcement, but the official initial release of LangGraph itself was on January 17, 2024.\\n\\nNote that these fields are now reflected in the state:\\nsnapshot = graph.get_state(config)\\n\\n{k: v for k, v in snapshot.values.items() if k in (\"name\", \"birthday\")}\\n\\n{\\'name\\': \\'LangGraph\\', \\'birthday\\': \\'Jan 17, 2024\\'}'),\n",
       " Document(metadata={'source': 'https://langchain-ai.github.io/langgraph/tutorials/introduction/', 'title': 'Learn the basics', 'description': 'Build language agents as graphs', 'language': 'en'}, page_content='{\\'name\\': \\'LangGraph\\', \\'birthday\\': \\'Jan 17, 2024\\'}\\n\\nThis makes them easily accessible to downstream nodes (e.g., a node that further processes or stores the information).\\nManually updating state¶\\nLangGraph gives a high degree of control over the application state. For instance, at any point (including when interrupted), we can manually override a key using graph.update_state:\\ngraph.update_state(config, {\"name\": \"LangGraph (library)\"})\\n\\n{\\'configurable\\': {\\'thread_id\\': \\'1\\',\\n  \\'checkpoint_ns\\': \\'\\',\\n  \\'checkpoint_id\\': \\'1efd4ec5-cf69-6352-8006-9278f1730162\\'}}\\n\\nIf we call graph.get_state, we can see the new value is reflected:\\nsnapshot = graph.get_state(config)\\n\\n{k: v for k, v in snapshot.values.items() if k in (\"name\", \"birthday\")}\\n\\n{\\'name\\': \\'LangGraph (library)\\', \\'birthday\\': \\'Jan 17, 2024\\'}'),\n",
       " Document(metadata={'source': 'https://langchain-ai.github.io/langgraph/tutorials/introduction/', 'title': 'Learn the basics', 'description': 'Build language agents as graphs', 'language': 'en'}, page_content=\"{'name': 'LangGraph (library)', 'birthday': 'Jan 17, 2024'}\\n\\nManual state updates will even generate a trace in LangSmith. If desired, they can also be used to control human-in-the-loop workflows, as described in this guide. Use of the interrupt function is generally recommended instead, as it allows data to be transmitted in a human-in-the-loop interaction independently of state updates.\\nCongratulations! You've added custom keys to the state to facilitate a more complex workflow, and learned how to generate state updates from inside tools.\\nWe're almost done with the tutorial, but there is one more concept we'd like to review before finishing that connects checkpointing and state updates. \\nThis section's code is reproduced below for your reference.\\n\\nFull Code\\n\\n\\nfrom typing import Annotated\"),\n",
       " Document(metadata={'source': 'https://langchain-ai.github.io/langgraph/tutorials/introduction/', 'title': 'Learn the basics', 'description': 'Build language agents as graphs', 'language': 'en'}, page_content='Full Code\\n\\n\\nfrom typing import Annotated\\n\\nfrom langchain_anthropic import ChatAnthropic\\nfrom langchain_community.tools.tavily_search import TavilySearchResults\\nfrom langchain_core.messages import ToolMessage\\nfrom langchain_core.tools import InjectedToolCallId, tool\\nfrom typing_extensions import TypedDict\\n\\nfrom langgraph.checkpoint.memory import MemorySaver\\nfrom langgraph.graph import StateGraph, START, END\\nfrom langgraph.graph.message import add_messages\\nfrom langgraph.prebuilt import ToolNode, tools_condition\\nfrom langgraph.types import Command, interrupt\\n\\n\\n\\nclass State(TypedDict):\\n    messages: Annotated[list, add_messages]\\n    name: str\\n    birthday: str'),\n",
       " Document(metadata={'source': 'https://langchain-ai.github.io/langgraph/tutorials/introduction/', 'title': 'Learn the basics', 'description': 'Build language agents as graphs', 'language': 'en'}, page_content='@tool\\ndef human_assistance(\\n    name: str, birthday: str, tool_call_id: Annotated[str, InjectedToolCallId]\\n) -> str:\\n    \"\"\"Request assistance from a human.\"\"\"\\n    human_response = interrupt(\\n        {\\n            \"question\": \"Is this correct?\",\\n            \"name\": name,\\n            \"birthday\": birthday,\\n        },\\n    )\\n    if human_response.get(\"correct\", \"\").lower().startswith(\"y\"):\\n        verified_name = name\\n        verified_birthday = birthday\\n        response = \"Correct\"\\n    else:\\n        verified_name = human_response.get(\"name\", name)\\n        verified_birthday = human_response.get(\"birthday\", birthday)\\n        response = f\"Made a correction: {human_response}\"\\n\\n    state_update = {\\n        \"name\": verified_name,\\n        \"birthday\": verified_birthday,\\n        \"messages\": [ToolMessage(response, tool_call_id=tool_call_id)],\\n    }\\n    return Command(update=state_update)'),\n",
       " Document(metadata={'source': 'https://langchain-ai.github.io/langgraph/tutorials/introduction/', 'title': 'Learn the basics', 'description': 'Build language agents as graphs', 'language': 'en'}, page_content='tool = TavilySearchResults(max_results=2)\\ntools = [tool, human_assistance]\\nllm = ChatAnthropic(model=\"claude-3-5-sonnet-20240620\")\\nllm_with_tools = llm.bind_tools(tools)\\n\\n\\ndef chatbot(state: State):\\n    message = llm_with_tools.invoke(state[\"messages\"])\\n    assert(len(message.tool_calls) <= 1)\\n    return {\"messages\": [message]}\\n\\n\\ngraph_builder = StateGraph(State)\\ngraph_builder.add_node(\"chatbot\", chatbot)\\n\\ntool_node = ToolNode(tools=tools)\\ngraph_builder.add_node(\"tools\", tool_node)\\n\\ngraph_builder.add_conditional_edges(\\n    \"chatbot\",\\n    tools_condition,\\n)\\ngraph_builder.add_edge(\"tools\", \"chatbot\")\\ngraph_builder.add_edge(START, \"chatbot\")\\n\\nmemory = MemorySaver()\\ngraph = graph_builder.compile(checkpointer=memory)\\n\\n\\nAPI Reference: ChatAnthropic | TavilySearchResults | ToolMessage | InjectedToolCallId | tool | MemorySaver | StateGraph | START | END | add_messages | ToolNode | tools_condition | Command | interrupt'),\n",
       " Document(metadata={'source': 'https://langchain-ai.github.io/langgraph/tutorials/introduction/', 'title': 'Learn the basics', 'description': 'Build language agents as graphs', 'language': 'en'}, page_content='Part 6: Time Travel¶\\nIn a typical chat bot workflow, the user interacts with the bot 1 or more times to accomplish a task. In the previous sections, we saw how to add memory and a human-in-the-loop to be able to checkpoint our graph state and control future responses.\\nBut what if you want to let your user start from a previous response and \"branch off\" to explore a separate outcome? Or what if you want users to be able to \"rewind\" your assistant\\'s work to fix some mistakes or try a different strategy (common in applications like autonomous software engineers)?\\nYou can create both of these experiences and more using LangGraph\\'s built-in \"time travel\" functionality. \\nIn this section, you will \"rewind\" your graph by fetching a checkpoint using the graph\\'s get_state_history method. You can then resume execution at this previous point in time.\\nFor this, let\\'s use the simple chatbot with tools from Part 3:\\nfrom typing import Annotated'),\n",
       " Document(metadata={'source': 'https://langchain-ai.github.io/langgraph/tutorials/introduction/', 'title': 'Learn the basics', 'description': 'Build language agents as graphs', 'language': 'en'}, page_content='from langchain_anthropic import ChatAnthropic\\nfrom langchain_community.tools.tavily_search import TavilySearchResults\\nfrom langchain_core.messages import BaseMessage\\nfrom typing_extensions import TypedDict\\n\\nfrom langgraph.checkpoint.memory import MemorySaver\\nfrom langgraph.graph import StateGraph, START, END\\nfrom langgraph.graph.message import add_messages\\nfrom langgraph.prebuilt import ToolNode, tools_condition\\n\\n\\nclass State(TypedDict):\\n    messages: Annotated[list, add_messages]\\n\\n\\ngraph_builder = StateGraph(State)\\n\\n\\ntool = TavilySearchResults(max_results=2)\\ntools = [tool]\\nllm = ChatAnthropic(model=\"claude-3-5-sonnet-20240620\")\\nllm_with_tools = llm.bind_tools(tools)\\n\\n\\ndef chatbot(state: State):\\n    return {\"messages\": [llm_with_tools.invoke(state[\"messages\"])]}\\n\\n\\ngraph_builder.add_node(\"chatbot\", chatbot)\\n\\ntool_node = ToolNode(tools=[tool])\\ngraph_builder.add_node(\"tools\", tool_node)'),\n",
       " Document(metadata={'source': 'https://langchain-ai.github.io/langgraph/tutorials/introduction/', 'title': 'Learn the basics', 'description': 'Build language agents as graphs', 'language': 'en'}, page_content='tool_node = ToolNode(tools=[tool])\\ngraph_builder.add_node(\"tools\", tool_node)\\n\\ngraph_builder.add_conditional_edges(\\n    \"chatbot\",\\n    tools_condition,\\n)\\ngraph_builder.add_edge(\"tools\", \"chatbot\")\\ngraph_builder.add_edge(START, \"chatbot\")\\n\\nmemory = MemorySaver()\\ngraph = graph_builder.compile(checkpointer=memory)'),\n",
       " Document(metadata={'source': 'https://langchain-ai.github.io/langgraph/tutorials/introduction/', 'title': 'Learn the basics', 'description': 'Build language agents as graphs', 'language': 'en'}, page_content='memory = MemorySaver()\\ngraph = graph_builder.compile(checkpointer=memory)\\n\\nAPI Reference: ChatAnthropic | TavilySearchResults | BaseMessage | MemorySaver | StateGraph | START | END | add_messages | ToolNode | tools_condition\\nLet\\'s have our graph take a couple steps. Every step will be checkpointed in its state history:\\nconfig = {\"configurable\": {\"thread_id\": \"1\"}}\\nevents = graph.stream(\\n    {\\n        \"messages\": [\\n            {\\n                \"role\": \"user\",\\n                \"content\": (\\n                    \"I\\'m learning LangGraph. \"\\n                    \"Could you do some research on it for me?\"\\n                ),\\n            },\\n        ],\\n    },\\n    config,\\n    stream_mode=\"values\",\\n)\\nfor event in events:\\n    if \"messages\" in event:\\n        event[\"messages\"][-1].pretty_print()\\n\\n================================\\x1b[1m Human Message \\x1b[0m================================='),\n",
       " Document(metadata={'source': 'https://langchain-ai.github.io/langgraph/tutorials/introduction/', 'title': 'Learn the basics', 'description': 'Build language agents as graphs', 'language': 'en'}, page_content='================================\\x1b[1m Human Message \\x1b[0m=================================\\n\\nI\\'m learning LangGraph. Could you do some research on it for me?\\n==================================\\x1b[1m Ai Message \\x1b[0m==================================\\n\\n[{\\'text\\': \"Certainly! I\\'d be happy to research LangGraph for you. To get the most up-to-date and accurate information, I\\'ll use the Tavily search engine to look this up. Let me do that for you now.\", \\'type\\': \\'text\\'}, {\\'id\\': \\'toolu_01BscbfJJB9EWJFqGrN6E54e\\', \\'input\\': {\\'query\\': \\'LangGraph latest information and features\\'}, \\'name\\': \\'tavily_search_results_json\\', \\'type\\': \\'tool_use\\'}]\\nTool Calls:\\n  tavily_search_results_json (toolu_01BscbfJJB9EWJFqGrN6E54e)\\n Call ID: toolu_01BscbfJJB9EWJFqGrN6E54e\\n  Args:\\n    query: LangGraph latest information and features\\n=================================\\x1b[1m Tool Message \\x1b[0m=================================\\nName: tavily_search_results_json'),\n",
       " Document(metadata={'source': 'https://langchain-ai.github.io/langgraph/tutorials/introduction/', 'title': 'Learn the basics', 'description': 'Build language agents as graphs', 'language': 'en'}, page_content='[{\"url\": \"https://blockchain.news/news/langchain-new-features-upcoming-events-update\", \"content\": \"LangChain, a leading platform in the AI development space, has released its latest updates, showcasing new use cases and enhancements across its ecosystem. According to the LangChain Blog, the updates cover advancements in LangGraph Cloud, LangSmith\\'s self-improving evaluators, and revamped documentation for LangGraph.\"}, {\"url\": \"https://blog.langchain.dev/langgraph-platform-announce/\", \"content\": \"With these learnings under our belt, we decided to couple some of our latest offerings under LangGraph Platform. LangGraph Platform today includes LangGraph Server, LangGraph Studio, plus the CLI and SDK. ... we added features in LangGraph Server to deliver on a few key value areas. Below, we\\'ll focus on these aspects of LangGraph Platform.\"}]\\n==================================\\x1b[1m Ai Message \\x1b[0m=================================='),\n",
       " Document(metadata={'source': 'https://langchain-ai.github.io/langgraph/tutorials/introduction/', 'title': 'Learn the basics', 'description': 'Build language agents as graphs', 'language': 'en'}, page_content=\"Thank you for your patience. I've found some recent information about LangGraph for you. Let me summarize the key points:\\n\\n1. LangGraph is part of the LangChain ecosystem, which is a leading platform in AI development.\\n\\n2. Recent updates and features of LangGraph include:\\n\\n   a. LangGraph Cloud: This seems to be a cloud-based version of LangGraph, though specific details weren't provided in the search results.\\n\\n   b. LangGraph Platform: This is a newly introduced concept that combines several offerings:\\n      - LangGraph Server\\n      - LangGraph Studio\\n      - CLI (Command Line Interface)\\n      - SDK (Software Development Kit)\\n\\n3. LangGraph Server: This component has received new features to enhance its value proposition, though the specific features weren't detailed in the search results.\\n\\n4. LangGraph Studio: This appears to be a new tool in the LangGraph ecosystem, likely providing a graphical interface for working with LangGraph.\"),\n",
       " Document(metadata={'source': 'https://langchain-ai.github.io/langgraph/tutorials/introduction/', 'title': 'Learn the basics', 'description': 'Build language agents as graphs', 'language': 'en'}, page_content=\"5. Documentation: The LangGraph documentation has been revamped, which should make it easier for learners like yourself to understand and use the tool.\\n\\n6. Integration with LangSmith: While not directly part of LangGraph, LangSmith (another tool in the LangChain ecosystem) now features self-improving evaluators, which might be relevant if you're using LangGraph as part of a larger LangChain project.\\n\\nAs you're learning LangGraph, it would be beneficial to:\\n\\n1. Check out the official LangChain documentation, especially the newly revamped LangGraph sections.\\n2. Explore the different components of the LangGraph Platform (Server, Studio, CLI, and SDK) to see which best fits your learning needs.\\n3. Keep an eye on LangGraph Cloud developments, as cloud-based solutions often provide an easier starting point for learners.\\n4. Consider how LangGraph fits into the broader LangChain ecosystem, especially its interaction with tools like LangSmith.\"),\n",
       " Document(metadata={'source': 'https://langchain-ai.github.io/langgraph/tutorials/introduction/', 'title': 'Learn the basics', 'description': 'Build language agents as graphs', 'language': 'en'}, page_content='Is there any specific aspect of LangGraph you\\'d like to know more about? I\\'d be happy to do a more focused search on particular features or use cases.\\n\\nevents = graph.stream(\\n    {\\n        \"messages\": [\\n            {\\n                \"role\": \"user\",\\n                \"content\": (\\n                    \"Ya that\\'s helpful. Maybe I\\'ll \"\\n                    \"build an autonomous agent with it!\"\\n                ),\\n            },\\n        ],\\n    },\\n    config,\\n    stream_mode=\"values\",\\n)\\nfor event in events:\\n    if \"messages\" in event:\\n        event[\"messages\"][-1].pretty_print()\\n\\n================================\\x1b[1m Human Message \\x1b[0m=================================\\n\\nYa that\\'s helpful. Maybe I\\'ll build an autonomous agent with it!\\n==================================\\x1b[1m Ai Message \\x1b[0m=================================='),\n",
       " Document(metadata={'source': 'https://langchain-ai.github.io/langgraph/tutorials/introduction/', 'title': 'Learn the basics', 'description': 'Build language agents as graphs', 'language': 'en'}, page_content='[{\\'text\\': \"That\\'s an exciting idea! Building an autonomous agent with LangGraph is indeed a great application of this technology. LangGraph is particularly well-suited for creating complex, multi-step AI workflows, which is perfect for autonomous agents. Let me gather some more specific information about using LangGraph for building autonomous agents.\", \\'type\\': \\'text\\'}, {\\'id\\': \\'toolu_01QWNHhUaeeWcGXvA4eHT7Zo\\', \\'input\\': {\\'query\\': \\'Building autonomous agents with LangGraph examples and tutorials\\'}, \\'name\\': \\'tavily_search_results_json\\', \\'type\\': \\'tool_use\\'}]\\nTool Calls:\\n  tavily_search_results_json (toolu_01QWNHhUaeeWcGXvA4eHT7Zo)\\n Call ID: toolu_01QWNHhUaeeWcGXvA4eHT7Zo\\n  Args:\\n    query: Building autonomous agents with LangGraph examples and tutorials\\n=================================\\x1b[1m Tool Message \\x1b[0m=================================\\nName: tavily_search_results_json'),\n",
       " Document(metadata={'source': 'https://langchain-ai.github.io/langgraph/tutorials/introduction/', 'title': 'Learn the basics', 'description': 'Build language agents as graphs', 'language': 'en'}, page_content='[{\"url\": \"https://towardsdatascience.com/building-autonomous-multi-tool-agents-with-gemini-2-0-and-langgraph-ad3d7bd5e79d\", \"content\": \"Building Autonomous Multi-Tool Agents with Gemini 2.0 and LangGraph | by Youness Mansar | Jan, 2025 | Towards Data Science Building Autonomous Multi-Tool Agents with Gemini 2.0 and LangGraph A practical tutorial with full code examples for building and running multi-tool agents Towards Data Science LLMs are remarkable ‚Äî they can memorize vast amounts of information, answer general knowledge questions, write code, generate stories, and even fix your grammar. In this tutorial, we are going to build a simple LLM agent that is equipped with four tools that it can use to answer a user‚Äôs question. This Agent will have the following specifications: Follow Published in Towards Data Science --------------------------------- Your home for data science and AI. Follow Follow Follow\"}, {\"url\": \"https://github.com/anmolaman20/Tools_and_Agents\", \"content\":'),\n",
       " Document(metadata={'source': 'https://langchain-ai.github.io/langgraph/tutorials/introduction/', 'title': 'Learn the basics', 'description': 'Build language agents as graphs', 'language': 'en'}, page_content='AI. Follow Follow Follow\"}, {\"url\": \"https://github.com/anmolaman20/Tools_and_Agents\", \"content\": \"GitHub - anmolaman20/Tools_and_Agents: This repository provides resources for building AI agents using Langchain and Langgraph. This repository provides resources for building AI agents using Langchain and Langgraph. This repository provides resources for building AI agents using Langchain and Langgraph. This repository serves as a comprehensive guide for building AI-powered agents using Langchain and Langgraph. It provides hands-on examples, practical tutorials, and resources for developers and AI enthusiasts to master building intelligent systems and workflows. AI Agent Development: Gain insights into creating intelligent systems that think, reason, and adapt in real time. This repository is ideal for AI practitioners, developers exploring language models, or anyone interested in building intelligent systems. This repository provides resources for building AI agents using Langchain and'),\n",
       " Document(metadata={'source': 'https://langchain-ai.github.io/langgraph/tutorials/introduction/', 'title': 'Learn the basics', 'description': 'Build language agents as graphs', 'language': 'en'}, page_content='intelligent systems. This repository provides resources for building AI agents using Langchain and Langgraph.\"}]'),\n",
       " Document(metadata={'source': 'https://langchain-ai.github.io/langgraph/tutorials/introduction/', 'title': 'Learn the basics', 'description': 'Build language agents as graphs', 'language': 'en'}, page_content='==================================\\x1b[1m Ai Message \\x1b[0m=================================='),\n",
       " Document(metadata={'source': 'https://langchain-ai.github.io/langgraph/tutorials/introduction/', 'title': 'Learn the basics', 'description': 'Build language agents as graphs', 'language': 'en'}, page_content='Great idea! Building an autonomous agent with LangGraph is definitely an exciting project. Based on the latest information I\\'ve found, here are some insights and tips for building autonomous agents with LangGraph:\\n\\n1. Multi-Tool Agents: LangGraph is particularly well-suited for creating autonomous agents that can use multiple tools. This allows your agent to have a diverse set of capabilities and choose the right tool for each task.\\n\\n2. Integration with Large Language Models (LLMs): You can combine LangGraph with powerful LLMs like Gemini 2.0 to create more intelligent and capable agents. The LLM can serve as the \"brain\" of your agent, making decisions and generating responses.\\n\\n3. Workflow Management: LangGraph excels at managing complex, multi-step AI workflows. This is crucial for autonomous agents that need to break down tasks into smaller steps and execute them in the right order.'),\n",
       " Document(metadata={'source': 'https://langchain-ai.github.io/langgraph/tutorials/introduction/', 'title': 'Learn the basics', 'description': 'Build language agents as graphs', 'language': 'en'}, page_content='4. Practical Tutorials Available: There are tutorials available that provide full code examples for building and running multi-tool agents. These can be incredibly helpful as you start your project.\\n\\n5. Langchain Integration: LangGraph is often used in conjunction with Langchain. This combination provides a powerful framework for building AI agents, offering features like memory management, tool integration, and prompt management.\\n\\n6. GitHub Resources: There are repositories available (like the one by anmolaman20) that provide comprehensive resources for building AI agents using Langchain and LangGraph. These can be valuable references as you develop your agent.\\n\\n7. Real-time Adaptation: LangGraph allows you to create agents that can think, reason, and adapt in real-time, which is crucial for truly autonomous behavior.'),\n",
       " Document(metadata={'source': 'https://langchain-ai.github.io/langgraph/tutorials/introduction/', 'title': 'Learn the basics', 'description': 'Build language agents as graphs', 'language': 'en'}, page_content='8. Customization: You can equip your agent with specific tools tailored to your use case. For example, you might include tools for web searching, data analysis, or interacting with specific APIs.\\n\\nTo get started with your autonomous agent project:'),\n",
       " Document(metadata={'source': 'https://langchain-ai.github.io/langgraph/tutorials/introduction/', 'title': 'Learn the basics', 'description': 'Build language agents as graphs', 'language': 'en'}, page_content=\"To get started with your autonomous agent project:\\n\\n1. Familiarize yourself with LangGraph's documentation and basic concepts.\\n2. Look into tutorials that specifically deal with building autonomous agents, like the one mentioned from Towards Data Science.\\n3. Decide on the specific capabilities you want your agent to have and identify the tools it will need.\\n4. Start with a simple agent and gradually add complexity as you become more comfortable with the framework.\\n5. Experiment with different LLMs to find the one that works best for your use case.\\n6. Pay attention to how you structure the agent's decision-making process and workflow.\\n7. Don't forget to implement proper error handling and safety measures, especially if your agent will be interacting with external systems or making important decisions.\"),\n",
       " Document(metadata={'source': 'https://langchain-ai.github.io/langgraph/tutorials/introduction/', 'title': 'Learn the basics', 'description': 'Build language agents as graphs', 'language': 'en'}, page_content='Building an autonomous agent is an iterative process, so be prepared to refine and improve your agent over time. Good luck with your project! If you need any more specific information as you progress, feel free to ask.\\n\\nNow that we\\'ve had the agent take a couple steps, we can replay the full state history to see everything that occurred.\\nto_replay = None\\nfor state in graph.get_state_history(config):\\n    print(\"Num Messages: \", len(state.values[\"messages\"]), \"Next: \", state.next)\\n    print(\"-\" * 80)\\n    if len(state.values[\"messages\"]) == 6:\\n        # We are somewhat arbitrarily selecting a specific state based on the number of chat messages in the state.\\n        to_replay = state'),\n",
       " Document(metadata={'source': 'https://langchain-ai.github.io/langgraph/tutorials/introduction/', 'title': 'Learn the basics', 'description': 'Build language agents as graphs', 'language': 'en'}, page_content=\"Num Messages:  8 Next:  ()\\n--------------------------------------------------------------------------------\\nNum Messages:  7 Next:  ('chatbot',)\\n--------------------------------------------------------------------------------\\nNum Messages:  6 Next:  ('tools',)\\n--------------------------------------------------------------------------------\\nNum Messages:  5 Next:  ('chatbot',)\\n--------------------------------------------------------------------------------\\nNum Messages:  4 Next:  ('__start__',)\\n--------------------------------------------------------------------------------\\nNum Messages:  4 Next:  ()\\n--------------------------------------------------------------------------------\\nNum Messages:  3 Next:  ('chatbot',)\\n--------------------------------------------------------------------------------\\nNum Messages:  2 Next:  ('tools',)\\n--------------------------------------------------------------------------------\\nNum Messages:  1 Next:  ('chatbot',)\"),\n",
       " Document(metadata={'source': 'https://langchain-ai.github.io/langgraph/tutorials/introduction/', 'title': 'Learn the basics', 'description': 'Build language agents as graphs', 'language': 'en'}, page_content=\"Num Messages:  1 Next:  ('chatbot',)\\n--------------------------------------------------------------------------------\\nNum Messages:  0 Next:  ('__start__',)\\n--------------------------------------------------------------------------------\"),\n",
       " Document(metadata={'source': 'https://langchain-ai.github.io/langgraph/tutorials/introduction/', 'title': 'Learn the basics', 'description': 'Build language agents as graphs', 'language': 'en'}, page_content='Notice that checkpoints are saved for every step of the graph. This spans invocations so you can rewind across a full thread\\'s history. We\\'ve picked out to_replay as a state to resume from. This is the state after the chatbot node in the second graph invocation above.\\nResuming from this point should call the action node next.\\nprint(to_replay.next)\\nprint(to_replay.config)\\n\\n(\\'tools\\',)\\n{\\'configurable\\': {\\'thread_id\\': \\'1\\', \\'checkpoint_ns\\': \\'\\', \\'checkpoint_id\\': \\'1efd43e3-0c1f-6c4e-8006-891877d65740\\'}}\\n\\nNotice that the checkpoint\\'s config (to_replay.config) contains a checkpoint_id timestamp. Providing this checkpoint_id value tells LangGraph\\'s checkpointer to load the state from that moment in time. Let\\'s try it below:\\n# The `checkpoint_id` in the `to_replay.config` corresponds to a state we\\'ve persisted to our checkpointer.\\nfor event in graph.stream(None, to_replay.config, stream_mode=\"values\"):\\n    if \"messages\" in event:\\n        event[\"messages\"][-1].pretty_print()'),\n",
       " Document(metadata={'source': 'https://langchain-ai.github.io/langgraph/tutorials/introduction/', 'title': 'Learn the basics', 'description': 'Build language agents as graphs', 'language': 'en'}, page_content='==================================\\x1b[1m Ai Message \\x1b[0m==================================\\n\\n[{\\'text\\': \"That\\'s an exciting idea! Building an autonomous agent with LangGraph is indeed a great application of this technology. LangGraph is particularly well-suited for creating complex, multi-step AI workflows, which is perfect for autonomous agents. Let me gather some more specific information about using LangGraph for building autonomous agents.\", \\'type\\': \\'text\\'}, {\\'id\\': \\'toolu_01QWNHhUaeeWcGXvA4eHT7Zo\\', \\'input\\': {\\'query\\': \\'Building autonomous agents with LangGraph examples and tutorials\\'}, \\'name\\': \\'tavily_search_results_json\\', \\'type\\': \\'tool_use\\'}]\\nTool Calls:\\n  tavily_search_results_json (toolu_01QWNHhUaeeWcGXvA4eHT7Zo)\\n Call ID: toolu_01QWNHhUaeeWcGXvA4eHT7Zo\\n  Args:\\n    query: Building autonomous agents with LangGraph examples and tutorials\\n=================================\\x1b[1m Tool Message \\x1b[0m=================================\\nName: tavily_search_results_json'),\n",
       " Document(metadata={'source': 'https://langchain-ai.github.io/langgraph/tutorials/introduction/', 'title': 'Learn the basics', 'description': 'Build language agents as graphs', 'language': 'en'}, page_content='[{\"url\": \"https://towardsdatascience.com/building-autonomous-multi-tool-agents-with-gemini-2-0-and-langgraph-ad3d7bd5e79d\", \"content\": \"Building Autonomous Multi-Tool Agents with Gemini 2.0 and LangGraph | by Youness Mansar | Jan, 2025 | Towards Data Science Building Autonomous Multi-Tool Agents with Gemini 2.0 and LangGraph A practical tutorial with full code examples for building and running multi-tool agents Towards Data Science LLMs are remarkable ‚Äî they can memorize vast amounts of information, answer general knowledge questions, write code, generate stories, and even fix your grammar. In this tutorial, we are going to build a simple LLM agent that is equipped with four tools that it can use to answer a user‚Äôs question. This Agent will have the following specifications: Follow Published in Towards Data Science --------------------------------- Your home for data science and AI. Follow Follow Follow\"}, {\"url\": \"https://github.com/anmolaman20/Tools_and_Agents\", \"content\":'),\n",
       " Document(metadata={'source': 'https://langchain-ai.github.io/langgraph/tutorials/introduction/', 'title': 'Learn the basics', 'description': 'Build language agents as graphs', 'language': 'en'}, page_content='AI. Follow Follow Follow\"}, {\"url\": \"https://github.com/anmolaman20/Tools_and_Agents\", \"content\": \"GitHub - anmolaman20/Tools_and_Agents: This repository provides resources for building AI agents using Langchain and Langgraph. This repository provides resources for building AI agents using Langchain and Langgraph. This repository provides resources for building AI agents using Langchain and Langgraph. This repository serves as a comprehensive guide for building AI-powered agents using Langchain and Langgraph. It provides hands-on examples, practical tutorials, and resources for developers and AI enthusiasts to master building intelligent systems and workflows. AI Agent Development: Gain insights into creating intelligent systems that think, reason, and adapt in real time. This repository is ideal for AI practitioners, developers exploring language models, or anyone interested in building intelligent systems. This repository provides resources for building AI agents using Langchain and'),\n",
       " Document(metadata={'source': 'https://langchain-ai.github.io/langgraph/tutorials/introduction/', 'title': 'Learn the basics', 'description': 'Build language agents as graphs', 'language': 'en'}, page_content='intelligent systems. This repository provides resources for building AI agents using Langchain and Langgraph.\"}]'),\n",
       " Document(metadata={'source': 'https://langchain-ai.github.io/langgraph/tutorials/introduction/', 'title': 'Learn the basics', 'description': 'Build language agents as graphs', 'language': 'en'}, page_content='==================================\\x1b[1m Ai Message \\x1b[0m=================================='),\n",
       " Document(metadata={'source': 'https://langchain-ai.github.io/langgraph/tutorials/introduction/', 'title': 'Learn the basics', 'description': 'Build language agents as graphs', 'language': 'en'}, page_content=\"Great idea! Building an autonomous agent with LangGraph is indeed an excellent way to apply and deepen your understanding of the technology. Based on the search results, I can provide you with some insights and resources to help you get started:\\n\\n1. Multi-Tool Agents:\\n   LangGraph is well-suited for building autonomous agents that can use multiple tools. This allows your agent to have a variety of capabilities and choose the appropriate tool based on the task at hand.\\n\\n2. Integration with Large Language Models (LLMs):\\n   There's a tutorial that specifically mentions using Gemini 2.0 (Google's LLM) with LangGraph to build autonomous agents. This suggests that LangGraph can be integrated with various LLMs, giving you flexibility in choosing the language model that best fits your needs.\"),\n",
       " Document(metadata={'source': 'https://langchain-ai.github.io/langgraph/tutorials/introduction/', 'title': 'Learn the basics', 'description': 'Build language agents as graphs', 'language': 'en'}, page_content=\"3. Practical Tutorials:\\n   There are tutorials available that provide full code examples for building and running multi-tool agents. These can be invaluable as you start your project, giving you a concrete starting point and demonstrating best practices.\\n\\n4. GitHub Resources:\\n   There's a GitHub repository (github.com/anmolaman20/Tools_and_Agents) that provides resources for building AI agents using both Langchain and Langgraph. This could be a great resource for code examples, tutorials, and understanding how LangGraph fits into the broader LangChain ecosystem.\\n\\n5. Real-Time Adaptation:\\n   The resources mention creating intelligent systems that can think, reason, and adapt in real-time. This is a key feature of advanced autonomous agents and something you can aim for in your project.\\n\\n6. Diverse Applications:\\n   The materials suggest that these techniques can be applied to various tasks, from answering questions to potentially more complex decision-making processes.\"),\n",
       " Document(metadata={'source': 'https://langchain-ai.github.io/langgraph/tutorials/introduction/', 'title': 'Learn the basics', 'description': 'Build language agents as graphs', 'language': 'en'}, page_content='To get started with your autonomous agent project using LangGraph, you might want to:\\n\\n1. Review the tutorials mentioned, especially those with full code examples.\\n2. Explore the GitHub repository for hands-on examples and resources.\\n3. Decide on the specific tasks or capabilities you want your agent to have.\\n4. Choose an LLM to integrate with LangGraph (like GPT, Gemini, or others).\\n5. Start with a simple agent that uses one or two tools, then gradually expand its capabilities.\\n6. Implement decision-making logic to help your agent choose between different tools or actions.\\n7. Test your agent thoroughly with various inputs and scenarios to ensure robust performance.\\n\\nRemember, building an autonomous agent is an iterative process. Start simple and gradually increase complexity as you become more comfortable with LangGraph and its capabilities.\\n\\nWould you like more information on any specific aspect of building your autonomous agent with LangGraph?'),\n",
       " Document(metadata={'source': 'https://langchain-ai.github.io/langgraph/tutorials/introduction/', 'title': 'Learn the basics', 'description': 'Build language agents as graphs', 'language': 'en'}, page_content=\"Notice that the graph resumed execution from the **action** node. You can tell this is the case since the first value printed above is the response from our search engine tool.\\nCongratulations! You've now used time-travel checkpoint traversal in LangGraph. Being able to rewind and explore alternative paths opens up a world of possibilities for debugging, experimentation, and interactive applications.\\nNext Steps¶\\nTake your journey further by exploring deployment and advanced features:\\nServer Quickstart¶\\n\\nLangGraph Server Quickstart: Launch a LangGraph server locally and interact with it using the REST API and LangGraph Studio Web UI.\\n\\nLangGraph Cloud¶\\n\\nLangGraph Cloud QuickStart: Deploy your LangGraph app using LangGraph Cloud.\\n\\nLangGraph Framework¶\\n\\nLangGraph Concepts: Learn the foundational concepts of LangGraph.  \\nLangGraph How-to Guides: Guides for common tasks with LangGraph.\\n\\nLangGraph Platform¶\\nExpand your knowledge with these resources:\"),\n",
       " Document(metadata={'source': 'https://langchain-ai.github.io/langgraph/tutorials/introduction/', 'title': 'Learn the basics', 'description': 'Build language agents as graphs', 'language': 'en'}, page_content='LangGraph Platform¶\\nExpand your knowledge with these resources:\\n\\nLangGraph Platform Concepts: Understand the foundational concepts of the LangGraph Platform.  \\nLangGraph Platform How-to Guides: Guides for common tasks with LangGraph Platform. \\n\\n\\n\\n\\n        Was this page helpful?\\n      \\n\\n\\n\\n\\n\\n\\n\\n\\n\\n\\n\\n              \\n              \\n                \\n              \\n              Thanks for your feedback!\\n            \\n\\n              \\n              \\n                \\n              \\n              Thanks for your feedback! Please help us improve this page by adding to the discussion below.\\n            \\n\\n\\n\\n\\nComments\\n\\n\\n\\n\\n\\n\\n\\n\\n\\n\\n  Back to top\\n\\n\\n\\n\\n\\n\\n\\n\\n\\n\\n                Previous\\n              \\n\\n                Tutorials\\n              \\n\\n\\n\\n\\n\\n                Next\\n              \\n\\n                Workflows and Agents\\n              \\n\\n\\n\\n\\n\\n\\n\\n\\n\\n\\n      Copyright © 2025 LangChain, Inc | Consent Preferences\\n\\n  \\n  \\n    Made with\\n    \\n      Material for MkDocs Insiders'),\n",
       " Document(metadata={'source': 'https://langchain-ai.github.io/langgraph/tutorials/introduction/', 'title': 'Learn the basics', 'description': 'Build language agents as graphs', 'language': 'en'}, page_content='Made with\\n    \\n      Material for MkDocs Insiders\\n    \\n\\n\\n\\n\\n\\n\\n\\n\\n\\n\\n\\n\\n\\n\\n\\n\\n\\n\\n\\n\\n\\n\\n\\n\\nCookie consent\\nWe use cookies to recognize your repeated visits and preferences, as well as to measure the effectiveness of our documentation and whether users find what they\\'re searching for. Clicking \"Accept\" makes our documentation better. Thank you! ‚ù§Ô∏è\\n\\n\\n\\n\\n\\n\\n\\n          Google Analytics\\n        \\n\\n\\n\\n\\n\\n          GitHub\\n        \\n\\n\\n\\n\\nAccept\\nReject')]"
      ]
     },
     "execution_count": 22,
     "metadata": {},
     "output_type": "execute_result"
    }
   ],
   "source": [
    "chunks = RecursiveCharacterTextSplitter(chunk_size=1000, chunk_overlap=100).split_documents(doc)\n",
    "\n",
    "chunks"
   ]
  },
  {
   "cell_type": "code",
   "execution_count": 47,
   "metadata": {},
   "outputs": [],
   "source": [
    "vectordb = FAISS.from_documents(chunks, model)\n",
    "vectordb\n",
    "\n",
    "retriever = vectordb.as_retriever()"
   ]
  },
  {
   "cell_type": "code",
   "execution_count": 48,
   "metadata": {},
   "outputs": [
    {
     "data": {
      "text/plain": [
       "VectorStoreRetriever(tags=['FAISS', 'HuggingFaceEmbeddings'], vectorstore=<langchain_community.vectorstores.faiss.FAISS object at 0x00000207F4517410>, search_kwargs={})"
      ]
     },
     "execution_count": 48,
     "metadata": {},
     "output_type": "execute_result"
    }
   ],
   "source": [
    "retriever"
   ]
  },
  {
   "cell_type": "code",
   "execution_count": 68,
   "metadata": {},
   "outputs": [],
   "source": [
    "from langchain.tools.retriever import create_retriever_tool\n",
    "from langchain.tools import Tool\n",
    "\n",
    "def retriever_function(query):\n",
    "    \"\"\"Fetch relevant documents and format them correctly.\"\"\"\n",
    "    docs = retriever.get_relevant_documents(query)\n",
    "    if not docs:\n",
    "        return \"No relevant documents found.\"\n",
    "    \n",
    "    return \"\\n\\n\".join([doc.page_content for doc in docs])  # Ensure clean text format\n",
    "\n",
    "\n",
    "retriever_tool = Tool(\n",
    "    name=\"FAISS retriever\",\n",
    "    func=retriever_function,\n",
    "    description=\"use this to Retrieves documents from the FAISS datastore.\",\n",
    ")"
   ]
  },
  {
   "cell_type": "code",
   "execution_count": 62,
   "metadata": {},
   "outputs": [
    {
     "data": {
      "text/plain": [
       "'FAISS retriever'"
      ]
     },
     "execution_count": 62,
     "metadata": {},
     "output_type": "execute_result"
    }
   ],
   "source": [
    "retriever_tool.name"
   ]
  },
  {
   "cell_type": "code",
   "execution_count": 14,
   "metadata": {},
   "outputs": [],
   "source": [
    "from langchain_community.utilities import ArxivAPIWrapper\n",
    "from langchain_community.tools import ArxivQueryRun"
   ]
  },
  {
   "cell_type": "code",
   "execution_count": 15,
   "metadata": {},
   "outputs": [],
   "source": [
    "arxiv_wrapper = ArxivAPIWrapper(top_k_results=2, doc_content_chars_max=200)\n",
    "arxiv = ArxivQueryRun(api_wrapper=arxiv_wrapper)"
   ]
  },
  {
   "cell_type": "code",
   "execution_count": 81,
   "metadata": {},
   "outputs": [],
   "source": [
    "from langchain_community.agent_toolkits.load_tools import load_tools\n",
    "from langchain_groq import ChatGroq\n",
    "from langchain.prompts import PromptTemplate\n",
    "\n",
    "custom_prompt = PromptTemplate.from_template(\n",
    "    \"\"\"You are an AI assistant that follows a structured reasoning process.\n",
    "    \n",
    "    When responding, always format your answer as follows:\n",
    "    \n",
    "    Thought: Explain your reasoning\n",
    "    Action: Choose a tool to use\n",
    "    Action Input: Provide input for the tool\n",
    "    \n",
    "    If no tool is needed, respond with:\n",
    "    Thought: Explanation\n",
    "    Final Answer: Your response\n",
    "\n",
    "    Question: {input}\n",
    "    \"\"\"\n",
    ")\n",
    "\n",
    "\n",
    "llm = ChatGroq(\n",
    "    model_name = \"llama-3.3-70b-versatile\",\n",
    "    temperature = 0.1,\n",
    "    groq_api_key = \"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\",\n",
    ")\n",
    "\n",
    "tools = load_tools([\"wikipedia\"], llm=llm) + [arxiv, retriever_tool]\n",
    "\n",
    "# tools_loaded = load_tools([\"wikipedia\"], llm = llm)\n",
    "\n",
    "# all_tools = tools_loaded + tools\n",
    "\n",
    "# all_tools\n"
   ]
  },
  {
   "cell_type": "code",
   "execution_count": null,
   "metadata": {},
   "outputs": [
    {
     "name": "stdout",
     "output_type": "stream",
     "text": [
      "\n",
      "\n",
      "\u001b[1m> Entering new AgentExecutor chain...\u001b[0m\n",
      "\u001b[32;1m\u001b[1;3mThought: To answer this question, I need to understand the definitions and differences between machine learning and AI. I can start by looking up the general concepts of machine learning and AI on Wikipedia.\n",
      "\n",
      "Action: wikipedia\n",
      "Action Input: machine learning vs AI\u001b[0m\n",
      "Observation: \u001b[36;1m\u001b[1;3mPage: Explainable artificial intelligence\n",
      "Summary: Explainable AI (XAI), often overlapping with interpretable AI, or explainable machine learning (XML), is a field of research within artificial intelligence (AI) that explores methods that provide humans with the ability of intellectual oversight over AI algorithms. The main focus is on the reasoning behind the decisions or predictions made by the AI algorithms, to make them more understandable and transparent. This addresses users' requirement to assess safety and scrutinize the automated decision making in applications. XAI counters the \"black box\" tendency of machine learning, where even the AI's designers cannot explain why it arrived at a specific decision.\n",
      "XAI hopes to help users of AI-powered systems perform more effectively by improving their understanding of how those systems reason. XAI may be an implementation of the social right to explanation. Even if there is no such legal right or regulatory requirement, XAI can improve the user experience of a product or service by helping end users trust that the AI is making good decisions. XAI aims to explain what has been done, what is being done, and what will be done next, and to unveil which information these actions are based on. This makes it possible to confirm existing knowledge, challenge existing knowledge, and generate new assumptions.\n",
      "Machine learning (ML) algorithms used in AI can be categorized as white-box or black-box. White-box models provide results that are understandable to experts in the domain. Black-box models, on the other hand, are extremely hard to explain and may not be understood even by domain experts. XAI algorithms follow the three principles of transparency, interpretability, and explainability.\n",
      "\n",
      "A model is transparent \"if the processes that extract model parameters from training data and generate labels from testing data can be described and motivated by the approach designer.\"\n",
      "Interpretability describes the possibility of comprehending the ML model and presenting the underlying basis for decision-making in a way that is understandable to humans.\n",
      "Explainability is a concept that is recognized as important, but a consensus definition is not yet available; one possibility is \"the collection of features of the interpretable domain that have contributed, for a given example, to producing a decision (e.g., classification or regression)\".\n",
      "In summary, Interpretability refers to the user's ability to understand model outputs, while Model Transparency includes Simulatability (reproducibility of predictions), Decomposability (intuitive explanations for parameters), and Algorithmic Transparency (explaining how algorithms work). Model Functionality focuses on textual descriptions, visualization, and local explanations, which clarify specific outputs or instances rather than entire models. All these concepts aim to enhance the comprehensibility and usability of AI systems.\n",
      "If algorithms fulfill these principles, they provide a basis for justifying decisions, tracking them and thereby verifying them, improving the algorithms, and exploring new facts.\n",
      "Sometimes it is also possible to achieve a high-accuracy result with white-box ML algorithms. These algorithms have an interpretable structure that can be used to explain predictions. Concept Bottleneck Models, which use concept-level abstractions to explain model reasoning, are examples of this and can be applied in both image and text prediction tasks. This is especially important in domains like medicine, defense, finance, and law, where it is crucial to understand decisions and build trust in the algorithms. Many researchers argue that, at least for supervised machine learning, the way forward is symbolic regression, where the algorithm searches the space of mathematical expressions to find the model that best fits a given dataset.\n",
      "AI systems optimize behavior to satisfy a mathematically specified goal system chosen by the system designers, such as the comm\u001b[0m\n",
      "Thought:\u001b[32;1m\u001b[1;3mThought: The Wikipedia page provides information on Explainable AI, which is a subfield of AI that focuses on making AI algorithms more transparent and understandable. However, it doesn't directly answer the question of the difference between machine learning and AI. I need to find a more relevant source that compares and contrasts machine learning and AI.\n",
      "\n",
      "Action: wikipedia\n",
      "Action Input: machine learning\u001b[0m\n",
      "Observation: \u001b[36;1m\u001b[1;3mPage: Machine learning\n",
      "Summary: Machine learning (ML) is a field of study in artificial intelligence concerned with the development and study of statistical algorithms that can learn from data and generalize to unseen data, and thus perform tasks without explicit instructions. Within a subdiscipline in machine learning, advances in the field of deep learning have allowed neural networks, a class of statistical algorithms, to surpass many previous machine learning approaches in performance.\n",
      "ML finds application in many fields, including natural language processing, computer vision, speech recognition, email filtering, agriculture, and medicine. The application of ML to business problems is known as predictive analytics.\n",
      "Statistics and mathematical optimization (mathematical programming) methods comprise the foundations of machine learning. Data mining is a related field of study, focusing on exploratory data analysis (EDA) via unsupervised learning. \n",
      "From a theoretical viewpoint, probably approximately correct learning provides a framework for describing machine learning.\n",
      "\n",
      "Page: Attention (machine learning)\n",
      "Summary: Attention is a machine learning method that determines the relative importance of each component in a sequence relative to the other components in that sequence. In natural language processing, importance is represented by \"soft\" weights assigned to each word in a sentence. More generally, attention encodes vectors called token embeddings across a fixed-width sequence that can range from tens to millions of tokens in size.\n",
      "Unlike \"hard\" weights, which are computed during the backwards training pass, \"soft\" weights exist only in the forward pass and therefore change with every step of the input. Earlier designs implemented the attention mechanism in a serial recurrent neural network (RNN) language translation system, but a more recent design, namely the transformer, removed the slower sequential RNN and relied more heavily on the faster parallel attention scheme.\n",
      "Inspired by ideas about attention in humans, the attention mechanism was developed to address the weaknesses of leveraging information from the hidden layers of recurrent neural networks. Recurrent neural networks favor more recent information contained in words at the end of a sentence, while information earlier in the sentence tends to be attenuated. Attention allows a token equal access to any part of a sentence directly, rather than only through the previous state.\n",
      "\n",
      "Page: List of datasets for machine-learning research\n",
      "Summary: These datasets are used in machine learning (ML) research and have been cited in peer-reviewed academic journals. Datasets are an integral part of the field of machine learning. Major advances in this field can result from advances in learning algorithms (such as deep learning), computer hardware, and, less-intuitively, the availability of high-quality training datasets. High-quality labeled training datasets for supervised and semi-supervised machine learning algorithms are usually difficult and expensive to produce because of the large amount of time needed to label the data. Although they do not need to be labeled, high-quality datasets for unsupervised learning can also be difficult and costly to produce.\n",
      "Many organizations, including governments, publish and share their datasets. The datasets are classified, based on the licenses, as Open data and Non-Open data.\n",
      "The datasets from various governmental-bodies are presented in List of open government data sites. The datasets are ported on open data portals. They are made available for searching, depositing and accessing through interfaces like Open API.  The datasets are made available as various sorted types and subtypes.\n",
      "\n",
      "\u001b[0m\n",
      "Thought:\u001b[32;1m\u001b[1;3mThought: I have found some information on machine learning, but I still need to find a clear comparison between machine learning and AI. I should try to find a Wikipedia page that directly compares the two.\n",
      "\n",
      "Action: wikipedia\n",
      "Action Input: artificial intelligence\u001b[0m\n",
      "Observation: \u001b[36;1m\u001b[1;3mPage: Artificial intelligence\n",
      "Summary: Artificial intelligence (AI) refers to the capability of computational systems to perform tasks typically associated with human intelligence, such as learning, reasoning, problem-solving, perception, and decision-making. It is a field of research in computer science that develops and studies methods and software that enable machines to perceive their environment and use learning and intelligence to take actions that maximize their chances of achieving defined goals. Such machines may be called AIs.\n",
      "High-profile applications of AI include advanced web search engines (e.g., Google Search); recommendation systems (used by YouTube, Amazon, and Netflix); virtual assistants (e.g., Google Assistant, Siri, and Alexa); autonomous vehicles (e.g., Waymo); generative and creative tools (e.g., ChatGPT and AI art); and superhuman play and analysis in strategy games (e.g., chess and Go). However, many AI applications are not perceived as AI: \"A lot of cutting edge AI has filtered into general applications, often without being called AI because once something becomes useful enough and common enough it's not labeled AI anymore.\"\n",
      "Various subfields of AI research are centered around particular goals and the use of particular tools. The traditional goals of AI research include learning, reasoning, knowledge representation, planning, natural language processing, perception, and support for robotics. General intelligence—the ability to complete any task performed by a human on an at least equal level—is among the field's long-term goals. To reach these goals, AI researchers have adapted and integrated a wide range of techniques, including search and mathematical optimization, formal logic, artificial neural networks, and methods based on statistics, operations research, and economics. AI also draws upon psychology, linguistics, philosophy, neuroscience, and other fields.\n",
      "Artificial intelligence was founded as an academic discipline in 1956, and the field went through multiple cycles of optimism throughout its history, followed by periods of disappointment and loss of funding, known as AI winters. Funding and interest vastly increased after 2012 when deep learning outperformed previous AI techniques. This growth accelerated further after 2017 with the transformer architecture, and by the early 2020s many billions of dollars were being invested in AI and the field experienced rapid ongoing progress in what has become known as the AI boom. The emergence of advanced generative AI in the midst of the AI boom and its ability to create and modify content exposed several unintended consequences and harms in the present and raised concerns about the risks of AI and its long-term effects in the future, prompting discussions about regulatory policies to ensure the safety and benefits of the technology.\n",
      "\n",
      "\n",
      "\n",
      "Page: Artificial general intelligence\n",
      "Summary: Artificial general intelligence (AGI) is a type of highly autonomous artificial intelligence (AI) that matches or surpasses human cognitive capabilities across most or all economically valuable work or cognitive labor. This contrasts with narrow AI, which is limited to specific tasks. Artificial superintelligence (ASI), on the other hand, refers to AGI that greatly exceeds human cognitive capabilities. AGI is considered one of the definitions of strong AI.\n",
      "Creating AGI is a primary goal of AI research and of companies such as OpenAI, Google, and Meta. A 2020 survey identified 72 active AGI research and development projects across 37 countries.\n",
      "The timeline for achieving AGI remains a subject of ongoing debate among researchers and experts. As of 2023, some argue that it may be possible in years or decades; others maintain it might take a century or longer; a minority believe it may never be achieved; and another minority claims that it is already here. Notable AI researcher Geoffrey Hinton has expressed concerns about the rapid progress towards AGI, suggesting it could be a\u001b[0m\n",
      "Thought:\u001b[32;1m\u001b[1;3mThought: I have found a wealth of information on machine learning and AI, including their definitions, applications, and goals. I can now synthesize this information to answer the question of the difference between machine learning and AI.\n",
      "\n",
      "Machine learning is a subfield of AI that focuses on developing statistical algorithms that can learn from data and generalize to unseen data. AI, on the other hand, is a broader field that encompasses machine learning, as well as other techniques, to enable machines to perform tasks that typically require human intelligence, such as reasoning, problem-solving, and decision-making.\n",
      "\n",
      "In other words, machine learning is a key component of AI, but not all AI is machine learning. AI can include rule-based systems, expert systems, and other approaches that do not involve machine learning.\n",
      "\n",
      "Final Answer: The main difference between machine learning and AI is that machine learning is a subfield of AI that focuses on developing algorithms that can learn from data, while AI is a broader field that encompasses machine learning and other techniques to enable machines to perform tasks that typically require human intelligence.\u001b[0m\n",
      "\n",
      "\u001b[1m> Finished chain.\u001b[0m\n"
     ]
    },
    {
     "data": {
      "text/plain": [
       "'The main difference between machine learning and AI is that machine learning is a subfield of AI that focuses on developing algorithms that can learn from data, while AI is a broader field that encompasses machine learning and other techniques to enable machines to perform tasks that typically require human intelligence.'"
      ]
     },
     "execution_count": 84,
     "metadata": {},
     "output_type": "execute_result"
    }
   ],
   "source": [
    "from langchain.agents import initialize_agent, AgentType\n",
    "\n",
    "# print(agent.agent.llm_chain.prompt.template)\n",
    "\n",
    "agent = initialize_agent(\n",
    "    llm=llm,\n",
    "    tools=tools,\n",
    "    agent=AgentType.ZERO_SHOT_REACT_DESCRIPTION,\n",
    "    verbose=True,\n",
    "    handle_parsing_errors=True\n",
    ")\n",
    "\n",
    "agent.run(\"difference between machine learning and AI\")\n"
   ]
  },
  {
   "cell_type": "code",
   "execution_count": null,
   "metadata": {},
   "outputs": [],
   "source": []
  },
  {
   "cell_type": "code",
   "execution_count": null,
   "metadata": {},
   "outputs": [],
   "source": []
  }
 ],
 "metadata": {
  "kernelspec": {
   "display_name": "Python 3",
   "language": "python",
   "name": "python3"
  },
  "language_info": {
   "codemirror_mode": {
    "name": "ipython",
    "version": 3
   },
   "file_extension": ".py",
   "mimetype": "text/x-python",
   "name": "python",
   "nbconvert_exporter": "python",
   "pygments_lexer": "ipython3",
   "version": "3.12.4"
  }
 },
 "nbformat": 4,
 "nbformat_minor": 2
}
